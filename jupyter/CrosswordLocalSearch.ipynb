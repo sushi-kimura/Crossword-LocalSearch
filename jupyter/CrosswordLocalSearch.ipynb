{
 "cells": [
  {
   "cell_type": "markdown",
   "metadata": {},
   "source": [
    "# Crossword Local Search\n",
    "\n",
    "## 概要\n",
    "これはクロスワード(スケルトンパズル)自動生成用ソースをPythonにて再現できないかをテストしたものである。\n",
    "main.cはpythonで代用し、計算量の多い処理は既存のcommon.cをimportして使用する。\n",
    "結果やスコアの推移の視覚化も追加する。"
   ]
  },
  {
   "cell_type": "markdown",
   "metadata": {},
   "source": [
    "***\n",
    "\n",
    "## 入力データ・実行パラメータ設定\n",
    "入力データを指定し、各種実行パラメータの設定を行います。\n",
    "各パラメータは以下の通り：\n",
    "  * `fpath`      : 入力データ(単語リスト)のファイルパス\n",
    "  * `width`          : 盤面の大きさ(横)\n",
    "  * `height`          : 盤面の大きさ(縦)\n",
    "  * `randomSeed`       : シード値\n",
    "  * `withweight` : 辞書に重みを付すかどうか(bool)\n",
    "  * `takemove`   : \"摂動(move)\"を行うかどうか(bool)"
   ]
  },
  {
   "cell_type": "code",
   "execution_count": 1,
   "metadata": {},
   "outputs": [],
   "source": [
    "fpath = \"../dict/countries.txt\" # countries hokkaido animals kotowaza birds dinosaurs fishes sports\n",
    "width = 10\n",
    "height = 10\n",
    "randomSeed = 1\n",
    "withweight = False\n",
    "takemove = True"
   ]
  },
  {
   "cell_type": "markdown",
   "metadata": {},
   "source": [
    "***\n",
    "\n",
    "## Import\n",
    "必要なライブラリをimportする："
   ]
  },
  {
   "cell_type": "code",
   "execution_count": 2,
   "metadata": {},
   "outputs": [],
   "source": [
    "import numpy as np"
   ]
  },
  {
   "cell_type": "code",
   "execution_count": 3,
   "metadata": {},
   "outputs": [],
   "source": [
    "from numpy.random import *\n",
    "import pandas as pd\n",
    "import matplotlib.pyplot as plt\n",
    "import seaborn as sns\n",
    "import unicodedata\n",
    "import itertools\n",
    "import sys\n",
    "import copy\n",
    "import time\n",
    "\n",
    "from IPython.display import display\n",
    "from PIL import Image\n",
    "from IPython.display import HTML\n",
    "#%matplotlib inline\n",
    "seed(seed = randomSeed)"
   ]
  },
  {
   "cell_type": "markdown",
   "metadata": {},
   "source": [
    "***\n",
    "\n",
    "## クラス宣言\n",
    "本プログラムで使用するクラスを定義する。\n",
    "見やすさのため、クラスメソッドは後から定義し、`setattr`関数でアトリビュートに追加します。\n",
    "\n",
    "\n",
    "### Puzzle クラス\n",
    "解となるスケルトンパズルそのものを表すクラス。\n",
    "メンバ変数は以下の通り：\n",
    "  * width : 盤面の大きさ(横)\n",
    "  * height : 盤面の大きさ(縦)\n",
    "  * enable : 配置禁止マスを保持した2次元(width*height)配列\n",
    "  * cell : パズルの解を保存する2次元(width*height)配列\n",
    "  * cover : セル上の文字数を保持する2次元(width*height)配列\n",
    "  * coverDFS : 連結成分を探すときに使われる2次元(width*height)配列\n",
    "  * usedWords : 解として使われた単語の一覧\n",
    "  * usedPlcIdx : 解として使われた(後に定義する)Placeable配列上の添え字一覧\n",
    "  * solSize : パズルに配置されている単語の数\n",
    "  * initSol : 初期解が作られたかどうか(bool)\n"
   ]
  },
  {
   "cell_type": "code",
   "execution_count": 4,
   "metadata": {},
   "outputs": [],
   "source": [
    "start = time.time()\n",
    "class Puzzle():\n",
    "    def __init__(self, width, height, msg=True):\n",
    "        self.width = width\n",
    "        self.height = height\n",
    "        self.enable = np.ones(width*height, dtype = \"bool\").reshape(height,width)\n",
    "        self.cell = np.full(width*height, \"\", dtype = \"unicode\").reshape(height,width)\n",
    "        self.cover = np.zeros(width*height, dtype = \"int64\").reshape(height,width)\n",
    "        self.coverDFS = np.zeros(width*height, dtype = \"int64\").reshape(height,width)\n",
    "        self.usedWords = np.full(width*height, \"\", dtype = \"U%d\" % max(width,height))\n",
    "        self.usedPlcIdx = np.full(width*height, -1, dtype = \"int64\")\n",
    "        self.solSize = 0\n",
    "        self.initSol = False\n",
    "\n",
    "        ## Message\n",
    "        if msg == True:\n",
    "            print(\"Puzzle object has made.\")\n",
    "            print(\" - width       : %d\" % self.width)\n",
    "            print(\" - height      : %d\" % self.height)\n",
    "            print(\" - cell' shape : (width, height) = (%d,%d)\" % (self.cell.shape[0], self.cell.shape[1]))\n",
    "\n",
    "    def copy(self, puzzle):\n",
    "        self.width = copy.deepcopy(puzzle.width)\n",
    "        self.height = copy.deepcopy(puzzle.height)\n",
    "        self.enable = copy.deepcopy(puzzle.enable)\n",
    "        self.cell = copy.deepcopy(puzzle.cell)\n",
    "        self.cover = copy.deepcopy(puzzle.cover)\n",
    "        self.coverDFS = copy.deepcopy(puzzle.coverDFS)\n",
    "        self.usedWords = copy.deepcopy(puzzle.usedWords)\n",
    "        self.usedPlcIdx = copy.deepcopy(puzzle.usedPlcIdx)\n",
    "        self.solSize = copy.deepcopy(puzzle.solSize)\n",
    "        self.initSol = copy.deepcopy(puzzle.initSol)"
   ]
  },
  {
   "cell_type": "code",
   "execution_count": 5,
   "metadata": {},
   "outputs": [
    {
     "name": "stdout",
     "output_type": "stream",
     "text": [
      "Puzzle object has made.\n",
      " - width       : 10\n",
      " - height      : 10\n",
      " - cell' shape : (width, height) = (10,10)\n"
     ]
    }
   ],
   "source": [
    "puzzle = Puzzle(width, height)"
   ]
  },
  {
   "cell_type": "markdown",
   "metadata": {},
   "source": [
    "### Dictionary クラス\n",
    "入力した単語リストを整理して保持するクラス。\n",
    "メンバ変数は以下の通り：\n",
    "  * fpath : 入力データのファイルパス\n",
    "  * size : 辞書の大きさ(単語数)\n",
    "  * dictType : 辞書のタイプ(\"English\"/\"Japanese\")\n",
    "  * data : 入力データ配列"
   ]
  },
  {
   "cell_type": "code",
   "execution_count": 6,
   "metadata": {},
   "outputs": [],
   "source": [
    "class Dictionary():\n",
    "    def __init__(self, fpath, msg=True):\n",
    "        self.fpath = fpath\n",
    "        print(\"Dictionary object has made.\")\n",
    "        \n",
    "        ## Read\n",
    "        print(\" - READING DICTIONARY...\")\n",
    "        file = open(self.fpath, 'r', encoding='utf-8')\n",
    "        self.data = file.readlines()\n",
    "        file.close()\n",
    "        \n",
    "        # Get a size of dictionary\n",
    "        self.size = len(self.data)\n",
    "        \n",
    "        # Check dictionary type(English/Japanese)\n",
    "        uniName = unicodedata.name(self.data[0][0])[0:10]\n",
    "        if \"HIRAGANA\" in uniName or \"KATAKANA\" in uniName:\n",
    "            self.dictType = \"Japanese\"\n",
    "        elif \"LATIN\" in uniName:\n",
    "            self.dictType = \"English\"\n",
    "            #self.data = [s.upper() for s in self.data]\n",
    "        elif \"CJK\" in uniName:\n",
    "            self.dictType = \"Kanji\"\n",
    "\n",
    "        # Remove \"\\n\"\n",
    "        def removeNewLineCode(word):\n",
    "            return word.rstrip(\"\\n\")\n",
    "        self.data = list(map(removeNewLineCode, self.data))\n",
    "\n",
    "        ## Message\n",
    "        if msg == True:\n",
    "            print(\" - file path         : %s\" % self.fpath)\n",
    "            print(\" - dictionary size   : %d\" % self.size)\n",
    "            print(\" - dictionary type   : %s\" % self.dictType)\n",
    "            print(\" - top of dictionary : %s\" % self.data[1])"
   ]
  },
  {
   "cell_type": "code",
   "execution_count": 7,
   "metadata": {
    "scrolled": false
   },
   "outputs": [
    {
     "name": "stdout",
     "output_type": "stream",
     "text": [
      "Dictionary object has made.\n",
      " - READING DICTIONARY...\n",
      " - file path         : ../dict/countries.txt\n",
      " - dictionary size   : 207\n",
      " - dictionary type   : English\n",
      " - top of dictionary : ALBANIA\n"
     ]
    }
   ],
   "source": [
    "dic = Dictionary(fpath)"
   ]
  },
  {
   "cell_type": "markdown",
   "metadata": {},
   "source": [
    "### Placeable クラス\n",
    "辞書内のすべての単語に対して、それぞれの単語が配置可能(placeable)な位置の一覧を作る。これは`Puzzle`クラスと`Dictionary`クラスの両方の要素を用いて行われる。\n",
    "\n",
    "配置可能な位置は、単語の先頭文字の座標で指定する。ここでは、パズルの左上を(0,0)、右上を(n,0)、左下を(0,n)、右下を(n,n)とする。\n",
    "例えば、大きさが5×5のパズル上に`Dictionary`クラスの5番目に格納された長さ4文字の単語「HOGE」を配置しようとした場合、配置可能な位置は\n",
    "  * 横向きの場合：(0,0),(0,1),(0,2),(0,3)(0,4),(1,0),(1,1),(1,2),(1,3),(1,4)の10マス。\n",
    "  * 縦向きの場合：(0,0),(1,0),(2,0),(3,0)(4,0),(0,1),(1,1),(2,1),(3,1),(4,1)の10マス。\n",
    "よって。配置する場合のパターンは全部で20通りになる。"
   ]
  },
  {
   "cell_type": "code",
   "execution_count": 8,
   "metadata": {},
   "outputs": [],
   "source": [
    "#display(Image.open(\"fig/puzzles.png\"))"
   ]
  },
  {
   "cell_type": "markdown",
   "metadata": {},
   "source": [
    "これらの情報は次のフォーマットで整理される：\n",
    "  * k : 単語番号(辞書内の何番目の単語か)\n",
    "  * div : 単語を置く向き(0: 縦, 1: 横)\n",
    "  * j : 単語の先頭文字のx座標\n",
    "  * i : 単語の先頭文字のy座標"
   ]
  },
  {
   "cell_type": "code",
   "execution_count": 9,
   "metadata": {},
   "outputs": [
    {
     "data": {
      "text/plain": [
       "'\\npd.DataFrame([[5,0,0,0],[5,0,0,1],[5,0,0,2],[5,0,0,3],[5,0,0,4],\\n              [5,0,1,0],[5,0,1,1],[5,0,1,2],[5,0,1,3],[5,0,1,4],\\n              [5,1,0,0],[5,1,1,0],[5,1,2,0],[5,1,3,0],[5,0,4,0],\\n              [5,1,0,1],[5,1,1,1],[5,1,2,1],[5,1,3,1],[5,1,4,1],],\\n             columns=[\"k\",\"div\",\"j\",\"i\"],\\n             index=[\"p1\",\"p2\",\"p3\",\"p4\",\"p5\",\"p6\",\"p7\",\"p8\",\"p9\",\"p10\",\\n                    \"p11\",\"p12\",\"p13\",\"p14\",\"p15\",\"p16\",\"p17\",\"p18\",\"p19\",\"p20\"]\\n            )\\n'"
      ]
     },
     "execution_count": 9,
     "metadata": {},
     "output_type": "execute_result"
    }
   ],
   "source": [
    "\"\"\"\n",
    "pd.DataFrame([[5,0,0,0],[5,0,0,1],[5,0,0,2],[5,0,0,3],[5,0,0,4],\n",
    "              [5,0,1,0],[5,0,1,1],[5,0,1,2],[5,0,1,3],[5,0,1,4],\n",
    "              [5,1,0,0],[5,1,1,0],[5,1,2,0],[5,1,3,0],[5,0,4,0],\n",
    "              [5,1,0,1],[5,1,1,1],[5,1,2,1],[5,1,3,1],[5,1,4,1],],\n",
    "             columns=[\"k\",\"div\",\"j\",\"i\"],\n",
    "             index=[\"p1\",\"p2\",\"p3\",\"p4\",\"p5\",\"p6\",\"p7\",\"p8\",\"p9\",\"p10\",\n",
    "                    \"p11\",\"p12\",\"p13\",\"p14\",\"p15\",\"p16\",\"p17\",\"p18\",\"p19\",\"p20\"]\n",
    "            )\n",
    "\"\"\""
   ]
  },
  {
   "cell_type": "markdown",
   "metadata": {},
   "source": [
    "メンバ変数は以下の通り：\n",
    "  * size : Placeableオブジェクトの大きさ\n",
    "  * width : 引数のパズルの横幅\n",
    "  * height : 引数のパズルの縦幅\n",
    "  * div : Placeable成分の文字列の方向\n",
    "  * k : Placeable成分の文字の番号\n",
    "  * i : Placeable成分のy方向の座標\n",
    "  * j : Placeable成分のx方向の座標\n",
    "  * invP : Placeableオブジェクトの逆写像"
   ]
  },
  {
   "cell_type": "code",
   "execution_count": 10,
   "metadata": {},
   "outputs": [],
   "source": [
    "class Placeable():\n",
    "    def __init__(self, puzzle, dic, msg=True):\n",
    "        self.size = 0\n",
    "        self.width = puzzle.width\n",
    "        self.height = puzzle.height\n",
    "        self.div = np.zeros(2*dic.size*self.width*self.height, dtype='int64')\n",
    "        self.k = np.zeros(2*dic.size*self.width*self.height, dtype='int64')\n",
    "        self.i = np.zeros(2*dic.size*self.width*self.height, dtype='int64')\n",
    "        self.j = np.zeros(2*dic.size*self.width*self.height, dtype='int64')\n",
    "        self.invP = np.zeros(2*dic.size*self.width*self.height, dtype='int64').reshape(2,self.height,self.width,dic.size)\n",
    "        dicSize = dic.size\n",
    "\n",
    "        for div in range(2):\n",
    "            for k in range(dicSize):\n",
    "                if div == 0:\n",
    "                    iMax = self.height - len(dic.data[k]) + 1\n",
    "                    jMax = self.width\n",
    "                elif div == 1:\n",
    "                    iMax = self.height\n",
    "                    jMax = self.width - len(dic.data[k]) + 1\n",
    "                for i in range(iMax):\n",
    "                    for j in range(jMax):\n",
    "                        self.div[self.size] = div\n",
    "                        self.k[self.size] = k\n",
    "                        self.i[self.size] = i\n",
    "                        self.j[self.size] = j\n",
    "                        self.invP[div,i,j,k] = self.size\n",
    "                        self.size += 1\n",
    "        if msg == True:\n",
    "            print(\"Placeable object has made.\")\n",
    "            print(\" - placeable size : %d/%d(max shape)\" % (self.size, self.div.size))"
   ]
  },
  {
   "cell_type": "code",
   "execution_count": 11,
   "metadata": {},
   "outputs": [
    {
     "name": "stdout",
     "output_type": "stream",
     "text": [
      "Placeable object has made.\n",
      " - placeable size : 15600/41400(max shape)\n"
     ]
    }
   ],
   "source": [
    "plc = Placeable(puzzle, dic)"
   ]
  },
  {
   "cell_type": "markdown",
   "metadata": {},
   "source": [
    "### ObjectiveFunction クラス\n",
    "生成したパズルは何らかの指標で定量的にその良し悪しを評価する必要があります。\n",
    "そのパズルの良し悪しの指標として、「目的関数」を定義します。\n",
    "目的関数は、パズルの初期解が得られてから、そのパズルを改善していくために使われます。\n",
    "目的関数には様々な指標が考えられるため、それらを管理する`ObjectiveFunction`クラスを定義します："
   ]
  },
  {
   "cell_type": "code",
   "execution_count": 12,
   "metadata": {},
   "outputs": [],
   "source": [
    "class ObjectiveFunction():\n",
    "    def __init__(self, puzzle, msg=True):\n",
    "        self.puzzle = puzzle\n",
    "        self.flist = [\"solSize\",\n",
    "                      \"crossCount\",\n",
    "                      \"fillCount\",\n",
    "                      \"maxConnectedEmptys\"]\n",
    "        self.registeredFuncs = []\n",
    "        if msg == True:\n",
    "            print(\"ObjectiveFunction object has made.\")"
   ]
  },
  {
   "cell_type": "code",
   "execution_count": 13,
   "metadata": {},
   "outputs": [
    {
     "name": "stdout",
     "output_type": "stream",
     "text": [
      "ObjectiveFunction object has made.\n"
     ]
    }
   ],
   "source": [
    "objFunc = ObjectiveFunction(puzzle)"
   ]
  },
  {
   "cell_type": "markdown",
   "metadata": {},
   "source": [
    "`flist`は後ほど実装する目的関数名をリスト化したものです。`ObjectiveFunction`クラスについての詳しい説明と実装は後ほど行われます。"
   ]
  },
  {
   "cell_type": "markdown",
   "metadata": {},
   "source": [
    "### Optimizer クラス\n",
    "目的関数を指標にパズルを改善していく際、どのような手法で最適化していくのかも重要なカギになります。\n",
    "この種の問題は「離散最適化問題(組み合わせ最適化)」と呼ばれ、巡回セールスマン問題などと近い分類に当たります。この手の問題で使われる最適化手法は「局所探索法」や「焼きなまし法」などが用いられます。\n",
    "最適化手法はアイデア次第で様々なものが考えられるため、これら管理する`Optimizer`クラスを定義しておきましょう："
   ]
  },
  {
   "cell_type": "code",
   "execution_count": 14,
   "metadata": {},
   "outputs": [],
   "source": [
    "class Optimizer():\n",
    "    def __init__(self, msg=True):\n",
    "        self.methodList = [\"localSearch\", \"iterativeLocalSearch\"]\n",
    "        self.method = \"\"\n",
    "        if msg == True:\n",
    "            print(\"Opimizer object has made.\")"
   ]
  },
  {
   "cell_type": "code",
   "execution_count": 15,
   "metadata": {
    "scrolled": true
   },
   "outputs": [
    {
     "name": "stdout",
     "output_type": "stream",
     "text": [
      "Opimizer object has made.\n"
     ]
    }
   ],
   "source": [
    "optimizer = Optimizer()"
   ]
  },
  {
   "cell_type": "markdown",
   "metadata": {},
   "source": [
    "`Optimizer`クラスについての詳しい説明と実装は後ほど行われます。\n",
    "また、`ObjectiveFunction`オブジェクトと`Optimizer`オブジェクトは同時に`Puzzle`オブジェクトにコンパイルすることで、`Puzzle`オブジェクトから呼び出しが可能になります。\n",
    "目的関数と最適化手法をパズルにコンパイルするための`compile`メソッドも後ほど実装します。"
   ]
  },
  {
   "cell_type": "markdown",
   "metadata": {},
   "source": [
    "***\n",
    "## パズル生成\n",
    "ここから、実際にパズルを生成していく。\n",
    "まずは、`placeable`オブジェクトからランダムに単語の配置可能位置を取得し、パズルの盤面に単語を詰められなくなるまで詰めます。\n",
    "単語を詰めるための関数として、`add`メソッドを`Puzzle`クラスに追加します。その前に、`add`メソッド内で呼ぶ、単語が配置可能かどうかをBoolianで返す`isEnabledAdd`メソッドを定義します："
   ]
  },
  {
   "cell_type": "code",
   "execution_count": 16,
   "metadata": {},
   "outputs": [],
   "source": [
    "### isEnabledAdd\n",
    "def isEnabledAdd(self, div, i, j, word, wLen):\n",
    "    # If 0 words used, return True\n",
    "    if self.solSize == 0:\n",
    "        return True\n",
    "\n",
    "    # If the same word is in use, return False\n",
    "    if np.any(self.usedWords == word):\n",
    "        return False\n",
    "\n",
    "    # If the word does not fit in the puzzle, return False\n",
    "    if div == 0 and i+wLen > self.height:\n",
    "        return False\n",
    "    if div == 1 and j+wLen > self.width:\n",
    "        return False\n",
    "\n",
    "    # US/USA, DOMINICA/DOMINICAN probrem\n",
    "    if div == 0:\n",
    "        emptys = self.cell[i:i+wLen,j] == \"\"\n",
    "        if np.all(emptys == True) or np.any(self.enable[i:i+wLen,j] == False) or np.all(emptys == False):\n",
    "            return False\n",
    "    if div == 1:\n",
    "        emptys = self.cell[i,j:j+wLen] == \"\"\n",
    "        if np.all(emptys == True) or np.any(self.enable[i,j:j+wLen] == False) or np.all(emptys == False):\n",
    "            return False\n",
    "\n",
    "    # Judge whether correct intersection\n",
    "    where = np.where(emptys == False)[0]\n",
    "    if div == 0:\n",
    "        jall = np.full(where.size, j, dtype = \"int64\")\n",
    "        if np.any(self.cell[where+i,jall] != np.array(list(word))[where]):\n",
    "            return False\n",
    "    if div == 1:\n",
    "        iall = np.full(where.size, i, dtype = \"int64\")\n",
    "        if np.any(self.cell[iall,where+j] != np.array(list(word))[where]):\n",
    "            return False\n",
    "\n",
    "    # If neighbor cells are filled except at the intersection, return False\n",
    "    where = np.where(emptys == True)[0]\n",
    "    if div == 0:\n",
    "        jall = np.full(where.size, j, dtype = \"int64\")\n",
    "        # Left side\n",
    "        if j > 0 and np.any(self.cell[where+i,jall-1] != \"\"):\n",
    "            return False\n",
    "        # Right side\n",
    "        if j < self.width-1 and np.any(self.cell[where+i,jall+1] != \"\"):\n",
    "            return False\n",
    "    if div == 1:\n",
    "        iall = np.full(where.size, i, dtype = \"int64\")\n",
    "        # Upper\n",
    "        if i > 0 and np.any(self.cell[iall-1,where+j] != \"\"):\n",
    "            return False\n",
    "        # Lower\n",
    "        if i < self.height-1 and np.any(self.cell[iall+1,where+j] != \"\"):\n",
    "            return False\n",
    "\n",
    "    # If the preceding and succeeding cells are already filled\n",
    "    if div == 0:\n",
    "        if i > 0 and self.cell[i-1,j] != \"\":\n",
    "            return False\n",
    "        if i+wLen < self.height and self.cell[i+wLen,j] != \"\":\n",
    "            return False\n",
    "    if div == 1:\n",
    "        if j > 0 and self.cell[i,j-1] != \"\":\n",
    "            return False\n",
    "        if j+wLen < self.width and self.cell[i,j+wLen] != \"\":\n",
    "            return False\n",
    "\n",
    "    # If Break through the all barrier, return True\n",
    "    return True\n",
    "\n",
    "# Set attribute to Puzzle class\n",
    "setattr(Puzzle, \"isEnabledAdd\", isEnabledAdd)"
   ]
  },
  {
   "cell_type": "markdown",
   "metadata": {},
   "source": [
    "次に、所望の単語をパズルに配置する`add`メソッドを定義します。\n",
    "`add`メソッドは次の機能を持ちます：\n",
    "  * `add`メソッドの引数は [ Dictionary, Placeable, 単語を置く向き, 頭文字のy座標, 頭文字のx座標, 置く単語 ] で指定します。\n",
    "  * 指定した位置に単語が置ける場合は置き、置けない場合は何もしません。\n",
    "\n",
    "実際に、`add`メソッドを定義しましょう："
   ]
  },
  {
   "cell_type": "code",
   "execution_count": 17,
   "metadata": {},
   "outputs": [],
   "source": [
    "### add\n",
    "def add(self, dic, plc, div, i, j, word):\n",
    "    # Get the word length\n",
    "    wLen = len(word)\n",
    "\n",
    "    # Judge whether adding is enabled\n",
    "    if self.isEnabledAdd(div, i, j, word, wLen) == False:\n",
    "        return\n",
    "    \n",
    "    # Put the word to puzzle\n",
    "    if div == 0:\n",
    "        self.cell[i:i+wLen,j] = list(word)[0:wLen]\n",
    "    if div == 1:\n",
    "        self.cell[i,j:j+wLen] = list(word)[0:wLen]\n",
    "\n",
    "    # Set the prohibited cell before and after placed word\n",
    "    if div == 0:\n",
    "        if i > 0:\n",
    "            self.enable[i-1,j] = False\n",
    "        if i+wLen < self.height:\n",
    "            self.enable[i+wLen,j] = False\n",
    "    if div == 1:\n",
    "        if j > 0:\n",
    "            self.enable[i,j-1] = False\n",
    "        if j+wLen < self.width:\n",
    "            self.enable[i,j+wLen] = False\n",
    "    \n",
    "    # Update cover array\n",
    "    if div == 0:\n",
    "        self.cover[i:i+wLen,j] += 1\n",
    "    if div == 1:\n",
    "        self.cover[i,j:j+wLen] += 1\n",
    "    \n",
    "    # Update properties\n",
    "    self.usedPlcIdx[self.solSize] = plc.invP[div, i, j, dic.data.index(word)]\n",
    "    self.usedWords[self.solSize] = word\n",
    "    self.solSize += 1\n",
    "    return\n",
    "# Set attribute to Puzzle class  \n",
    "setattr(Puzzle, \"add\", add)"
   ]
  },
  {
   "cell_type": "markdown",
   "metadata": {},
   "source": [
    "さあ、`add`メソッドが定義できたので、早速パズルを生成して、初期解を作りましょう。\n",
    "`Puzzle`オブジェクトのメソッドとして初期解を得るための`firstSolve`メソッドを定義し、その中で`add`メソッドを呼ぶことにします。\n",
    "  * `firstSolve`メソッドの引数は [ `Dictionary`オブジェクト, `Placeable`オブジェクト ] です。\n",
    "  * `firstSolve`メソッドにより、初期解が`Puzzle`オブジェクトの`sol`プロパティに保存されます。"
   ]
  },
  {
   "cell_type": "code",
   "execution_count": 18,
   "metadata": {},
   "outputs": [],
   "source": [
    "def firstSolve(self, dic, plc):\n",
    "    # Check the initSol\n",
    "    if self.initSol:\n",
    "        sys.stderr.write(\"error: 'firstSolve' method has already called.\")\n",
    "        return\n",
    "    \n",
    "    # Make a random index of plc    \n",
    "    randomIndex = np.arange(plc.size)\n",
    "    shuffle(randomIndex)\n",
    "    \n",
    "    # Add as much as possible \n",
    "    solSizeTmp = -1\n",
    "    while self.solSize != solSizeTmp:\n",
    "        solSizeTmp = self.solSize\n",
    "        for t in randomIndex:\n",
    "            self.add(dic, plc, plc.div[t], plc.i[t], plc.j[t], dic.data[plc.k[t]])\n",
    "    self.initSol = True\n",
    "setattr(Puzzle, \"firstSolve\", firstSolve)"
   ]
  },
  {
   "cell_type": "code",
   "execution_count": 19,
   "metadata": {
    "scrolled": true
   },
   "outputs": [],
   "source": [
    "puzzle.firstSolve(dic, plc)"
   ]
  },
  {
   "cell_type": "markdown",
   "metadata": {},
   "source": [
    "結果が気になりますよね。\n",
    "結果を確認するための`show`メソッドを定義します："
   ]
  },
  {
   "cell_type": "code",
   "execution_count": 20,
   "metadata": {},
   "outputs": [],
   "source": [
    "def show(self, ndarray):    \n",
    "    styles = [\n",
    "        dict(selector=\"th\", props=[(\"font-size\", \"90%\"),\n",
    "                                   (\"text-align\", \"center\"),\n",
    "                                   (\"color\", \"#ffffff\"),\n",
    "                                   (\"background\", \"#777777\"),\n",
    "                                   (\"border\", \"solid 1px white\"),\n",
    "                                   (\"width\", \"30px\"),\n",
    "                                   (\"height\", \"30px\")]),\n",
    "        dict(selector=\"td\", props=[(\"font-size\", \"105%\"),\n",
    "                                   (\"text-align\", \"center\"),\n",
    "                                   (\"color\", \"#161616\"),\n",
    "                                   (\"background\", \"#dddddd\"),\n",
    "                                   (\"border\", \"solid 1px white\"),\n",
    "                                   (\"width\", \"30px\"),\n",
    "                                   (\"height\", \"30px\")]),\n",
    "        dict(selector=\"caption\", props=[(\"caption-side\", \"bottom\")])\n",
    "    ]\n",
    "    df = pd.DataFrame(ndarray)\n",
    "    df.to_clipboard()\n",
    "    df = (df.style.set_table_styles(styles)\n",
    "          .set_caption(\"Puzzle(%d,%d), Seed:%d, solSize:%d Dictionary:[%s]\" % (self.width, self.height, randomSeed, self.solSize, fpath)))\n",
    "    display(df)\n",
    "setattr(Puzzle, \"show\", show)"
   ]
  },
  {
   "cell_type": "markdown",
   "metadata": {},
   "source": [
    "早速使ってみましょう。見たい結果を`show`メソッドの引数として与えます。\n",
    "ここでは`puzzle.cell`を見てみます(`puzzle.cover`や`puzzle.enable`も可能)："
   ]
  },
  {
   "cell_type": "code",
   "execution_count": 21,
   "metadata": {
    "scrolled": true
   },
   "outputs": [
    {
     "data": {
      "text/html": [
       "<style  type=\"text/css\" >\n",
       "    #T_bf51fee2_881e_11e9_977e_186024eae6c5 th {\n",
       "          font-size: 90%;\n",
       "          text-align: center;\n",
       "          color: #ffffff;\n",
       "          background: #777777;\n",
       "          border: solid 1px white;\n",
       "          width: 30px;\n",
       "          height: 30px;\n",
       "    }    #T_bf51fee2_881e_11e9_977e_186024eae6c5 td {\n",
       "          font-size: 105%;\n",
       "          text-align: center;\n",
       "          color: #161616;\n",
       "          background: #dddddd;\n",
       "          border: solid 1px white;\n",
       "          width: 30px;\n",
       "          height: 30px;\n",
       "    }    #T_bf51fee2_881e_11e9_977e_186024eae6c5 caption {\n",
       "          caption-side: bottom;\n",
       "    }</style>  \n",
       "<table id=\"T_bf51fee2_881e_11e9_977e_186024eae6c5\" ><caption>Puzzle(10,10), Seed:1, solSize:10 Dictionary:[../dict/countries.txt]</caption> \n",
       "<thead>    <tr> \n",
       "        <th class=\"blank level0\" ></th> \n",
       "        <th class=\"col_heading level0 col0\" >0</th> \n",
       "        <th class=\"col_heading level0 col1\" >1</th> \n",
       "        <th class=\"col_heading level0 col2\" >2</th> \n",
       "        <th class=\"col_heading level0 col3\" >3</th> \n",
       "        <th class=\"col_heading level0 col4\" >4</th> \n",
       "        <th class=\"col_heading level0 col5\" >5</th> \n",
       "        <th class=\"col_heading level0 col6\" >6</th> \n",
       "        <th class=\"col_heading level0 col7\" >7</th> \n",
       "        <th class=\"col_heading level0 col8\" >8</th> \n",
       "        <th class=\"col_heading level0 col9\" >9</th> \n",
       "    </tr></thead> \n",
       "<tbody>    <tr> \n",
       "        <th id=\"T_bf51fee2_881e_11e9_977e_186024eae6c5level0_row0\" class=\"row_heading level0 row0\" >0</th> \n",
       "        <td id=\"T_bf51fee2_881e_11e9_977e_186024eae6c5row0_col0\" class=\"data row0 col0\" ></td> \n",
       "        <td id=\"T_bf51fee2_881e_11e9_977e_186024eae6c5row0_col1\" class=\"data row0 col1\" ></td> \n",
       "        <td id=\"T_bf51fee2_881e_11e9_977e_186024eae6c5row0_col2\" class=\"data row0 col2\" ></td> \n",
       "        <td id=\"T_bf51fee2_881e_11e9_977e_186024eae6c5row0_col3\" class=\"data row0 col3\" ></td> \n",
       "        <td id=\"T_bf51fee2_881e_11e9_977e_186024eae6c5row0_col4\" class=\"data row0 col4\" ></td> \n",
       "        <td id=\"T_bf51fee2_881e_11e9_977e_186024eae6c5row0_col5\" class=\"data row0 col5\" ></td> \n",
       "        <td id=\"T_bf51fee2_881e_11e9_977e_186024eae6c5row0_col6\" class=\"data row0 col6\" ></td> \n",
       "        <td id=\"T_bf51fee2_881e_11e9_977e_186024eae6c5row0_col7\" class=\"data row0 col7\" ></td> \n",
       "        <td id=\"T_bf51fee2_881e_11e9_977e_186024eae6c5row0_col8\" class=\"data row0 col8\" >P</td> \n",
       "        <td id=\"T_bf51fee2_881e_11e9_977e_186024eae6c5row0_col9\" class=\"data row0 col9\" ></td> \n",
       "    </tr>    <tr> \n",
       "        <th id=\"T_bf51fee2_881e_11e9_977e_186024eae6c5level0_row1\" class=\"row_heading level0 row1\" >1</th> \n",
       "        <td id=\"T_bf51fee2_881e_11e9_977e_186024eae6c5row1_col0\" class=\"data row1 col0\" ></td> \n",
       "        <td id=\"T_bf51fee2_881e_11e9_977e_186024eae6c5row1_col1\" class=\"data row1 col1\" ></td> \n",
       "        <td id=\"T_bf51fee2_881e_11e9_977e_186024eae6c5row1_col2\" class=\"data row1 col2\" ></td> \n",
       "        <td id=\"T_bf51fee2_881e_11e9_977e_186024eae6c5row1_col3\" class=\"data row1 col3\" ></td> \n",
       "        <td id=\"T_bf51fee2_881e_11e9_977e_186024eae6c5row1_col4\" class=\"data row1 col4\" ></td> \n",
       "        <td id=\"T_bf51fee2_881e_11e9_977e_186024eae6c5row1_col5\" class=\"data row1 col5\" ></td> \n",
       "        <td id=\"T_bf51fee2_881e_11e9_977e_186024eae6c5row1_col6\" class=\"data row1 col6\" >U</td> \n",
       "        <td id=\"T_bf51fee2_881e_11e9_977e_186024eae6c5row1_col7\" class=\"data row1 col7\" >S</td> \n",
       "        <td id=\"T_bf51fee2_881e_11e9_977e_186024eae6c5row1_col8\" class=\"data row1 col8\" >A</td> \n",
       "        <td id=\"T_bf51fee2_881e_11e9_977e_186024eae6c5row1_col9\" class=\"data row1 col9\" ></td> \n",
       "    </tr>    <tr> \n",
       "        <th id=\"T_bf51fee2_881e_11e9_977e_186024eae6c5level0_row2\" class=\"row_heading level0 row2\" >2</th> \n",
       "        <td id=\"T_bf51fee2_881e_11e9_977e_186024eae6c5row2_col0\" class=\"data row2 col0\" ></td> \n",
       "        <td id=\"T_bf51fee2_881e_11e9_977e_186024eae6c5row2_col1\" class=\"data row2 col1\" >B</td> \n",
       "        <td id=\"T_bf51fee2_881e_11e9_977e_186024eae6c5row2_col2\" class=\"data row2 col2\" ></td> \n",
       "        <td id=\"T_bf51fee2_881e_11e9_977e_186024eae6c5row2_col3\" class=\"data row2 col3\" ></td> \n",
       "        <td id=\"T_bf51fee2_881e_11e9_977e_186024eae6c5row2_col4\" class=\"data row2 col4\" ></td> \n",
       "        <td id=\"T_bf51fee2_881e_11e9_977e_186024eae6c5row2_col5\" class=\"data row2 col5\" ></td> \n",
       "        <td id=\"T_bf51fee2_881e_11e9_977e_186024eae6c5row2_col6\" class=\"data row2 col6\" >K</td> \n",
       "        <td id=\"T_bf51fee2_881e_11e9_977e_186024eae6c5row2_col7\" class=\"data row2 col7\" ></td> \n",
       "        <td id=\"T_bf51fee2_881e_11e9_977e_186024eae6c5row2_col8\" class=\"data row2 col8\" >P</td> \n",
       "        <td id=\"T_bf51fee2_881e_11e9_977e_186024eae6c5row2_col9\" class=\"data row2 col9\" ></td> \n",
       "    </tr>    <tr> \n",
       "        <th id=\"T_bf51fee2_881e_11e9_977e_186024eae6c5level0_row3\" class=\"row_heading level0 row3\" >3</th> \n",
       "        <td id=\"T_bf51fee2_881e_11e9_977e_186024eae6c5row3_col0\" class=\"data row3 col0\" ></td> \n",
       "        <td id=\"T_bf51fee2_881e_11e9_977e_186024eae6c5row3_col1\" class=\"data row3 col1\" >A</td> \n",
       "        <td id=\"T_bf51fee2_881e_11e9_977e_186024eae6c5row3_col2\" class=\"data row3 col2\" ></td> \n",
       "        <td id=\"T_bf51fee2_881e_11e9_977e_186024eae6c5row3_col3\" class=\"data row3 col3\" >B</td> \n",
       "        <td id=\"T_bf51fee2_881e_11e9_977e_186024eae6c5row3_col4\" class=\"data row3 col4\" ></td> \n",
       "        <td id=\"T_bf51fee2_881e_11e9_977e_186024eae6c5row3_col5\" class=\"data row3 col5\" ></td> \n",
       "        <td id=\"T_bf51fee2_881e_11e9_977e_186024eae6c5row3_col6\" class=\"data row3 col6\" >R</td> \n",
       "        <td id=\"T_bf51fee2_881e_11e9_977e_186024eae6c5row3_col7\" class=\"data row3 col7\" ></td> \n",
       "        <td id=\"T_bf51fee2_881e_11e9_977e_186024eae6c5row3_col8\" class=\"data row3 col8\" >U</td> \n",
       "        <td id=\"T_bf51fee2_881e_11e9_977e_186024eae6c5row3_col9\" class=\"data row3 col9\" >K</td> \n",
       "    </tr>    <tr> \n",
       "        <th id=\"T_bf51fee2_881e_11e9_977e_186024eae6c5level0_row4\" class=\"row_heading level0 row4\" >4</th> \n",
       "        <td id=\"T_bf51fee2_881e_11e9_977e_186024eae6c5row4_col0\" class=\"data row4 col0\" ></td> \n",
       "        <td id=\"T_bf51fee2_881e_11e9_977e_186024eae6c5row4_col1\" class=\"data row4 col1\" >R</td> \n",
       "        <td id=\"T_bf51fee2_881e_11e9_977e_186024eae6c5row4_col2\" class=\"data row4 col2\" ></td> \n",
       "        <td id=\"T_bf51fee2_881e_11e9_977e_186024eae6c5row4_col3\" class=\"data row4 col3\" >E</td> \n",
       "        <td id=\"T_bf51fee2_881e_11e9_977e_186024eae6c5row4_col4\" class=\"data row4 col4\" ></td> \n",
       "        <td id=\"T_bf51fee2_881e_11e9_977e_186024eae6c5row4_col5\" class=\"data row4 col5\" ></td> \n",
       "        <td id=\"T_bf51fee2_881e_11e9_977e_186024eae6c5row4_col6\" class=\"data row4 col6\" >A</td> \n",
       "        <td id=\"T_bf51fee2_881e_11e9_977e_186024eae6c5row4_col7\" class=\"data row4 col7\" ></td> \n",
       "        <td id=\"T_bf51fee2_881e_11e9_977e_186024eae6c5row4_col8\" class=\"data row4 col8\" >A</td> \n",
       "        <td id=\"T_bf51fee2_881e_11e9_977e_186024eae6c5row4_col9\" class=\"data row4 col9\" ></td> \n",
       "    </tr>    <tr> \n",
       "        <th id=\"T_bf51fee2_881e_11e9_977e_186024eae6c5level0_row5\" class=\"row_heading level0 row5\" >5</th> \n",
       "        <td id=\"T_bf51fee2_881e_11e9_977e_186024eae6c5row5_col0\" class=\"data row5 col0\" ></td> \n",
       "        <td id=\"T_bf51fee2_881e_11e9_977e_186024eae6c5row5_col1\" class=\"data row5 col1\" >B</td> \n",
       "        <td id=\"T_bf51fee2_881e_11e9_977e_186024eae6c5row5_col2\" class=\"data row5 col2\" >O</td> \n",
       "        <td id=\"T_bf51fee2_881e_11e9_977e_186024eae6c5row5_col3\" class=\"data row5 col3\" >L</td> \n",
       "        <td id=\"T_bf51fee2_881e_11e9_977e_186024eae6c5row5_col4\" class=\"data row5 col4\" >I</td> \n",
       "        <td id=\"T_bf51fee2_881e_11e9_977e_186024eae6c5row5_col5\" class=\"data row5 col5\" >V</td> \n",
       "        <td id=\"T_bf51fee2_881e_11e9_977e_186024eae6c5row5_col6\" class=\"data row5 col6\" >I</td> \n",
       "        <td id=\"T_bf51fee2_881e_11e9_977e_186024eae6c5row5_col7\" class=\"data row5 col7\" >A</td> \n",
       "        <td id=\"T_bf51fee2_881e_11e9_977e_186024eae6c5row5_col8\" class=\"data row5 col8\" ></td> \n",
       "        <td id=\"T_bf51fee2_881e_11e9_977e_186024eae6c5row5_col9\" class=\"data row5 col9\" >M</td> \n",
       "    </tr>    <tr> \n",
       "        <th id=\"T_bf51fee2_881e_11e9_977e_186024eae6c5level0_row6\" class=\"row_heading level0 row6\" >6</th> \n",
       "        <td id=\"T_bf51fee2_881e_11e9_977e_186024eae6c5row6_col0\" class=\"data row6 col0\" ></td> \n",
       "        <td id=\"T_bf51fee2_881e_11e9_977e_186024eae6c5row6_col1\" class=\"data row6 col1\" >U</td> \n",
       "        <td id=\"T_bf51fee2_881e_11e9_977e_186024eae6c5row6_col2\" class=\"data row6 col2\" ></td> \n",
       "        <td id=\"T_bf51fee2_881e_11e9_977e_186024eae6c5row6_col3\" class=\"data row6 col3\" >A</td> \n",
       "        <td id=\"T_bf51fee2_881e_11e9_977e_186024eae6c5row6_col4\" class=\"data row6 col4\" ></td> \n",
       "        <td id=\"T_bf51fee2_881e_11e9_977e_186024eae6c5row6_col5\" class=\"data row6 col5\" ></td> \n",
       "        <td id=\"T_bf51fee2_881e_11e9_977e_186024eae6c5row6_col6\" class=\"data row6 col6\" >N</td> \n",
       "        <td id=\"T_bf51fee2_881e_11e9_977e_186024eae6c5row6_col7\" class=\"data row6 col7\" ></td> \n",
       "        <td id=\"T_bf51fee2_881e_11e9_977e_186024eae6c5row6_col8\" class=\"data row6 col8\" ></td> \n",
       "        <td id=\"T_bf51fee2_881e_11e9_977e_186024eae6c5row6_col9\" class=\"data row6 col9\" >A</td> \n",
       "    </tr>    <tr> \n",
       "        <th id=\"T_bf51fee2_881e_11e9_977e_186024eae6c5level0_row7\" class=\"row_heading level0 row7\" >7</th> \n",
       "        <td id=\"T_bf51fee2_881e_11e9_977e_186024eae6c5row7_col0\" class=\"data row7 col0\" ></td> \n",
       "        <td id=\"T_bf51fee2_881e_11e9_977e_186024eae6c5row7_col1\" class=\"data row7 col1\" >D</td> \n",
       "        <td id=\"T_bf51fee2_881e_11e9_977e_186024eae6c5row7_col2\" class=\"data row7 col2\" ></td> \n",
       "        <td id=\"T_bf51fee2_881e_11e9_977e_186024eae6c5row7_col3\" class=\"data row7 col3\" >R</td> \n",
       "        <td id=\"T_bf51fee2_881e_11e9_977e_186024eae6c5row7_col4\" class=\"data row7 col4\" ></td> \n",
       "        <td id=\"T_bf51fee2_881e_11e9_977e_186024eae6c5row7_col5\" class=\"data row7 col5\" >N</td> \n",
       "        <td id=\"T_bf51fee2_881e_11e9_977e_186024eae6c5row7_col6\" class=\"data row7 col6\" >E</td> \n",
       "        <td id=\"T_bf51fee2_881e_11e9_977e_186024eae6c5row7_col7\" class=\"data row7 col7\" >P</td> \n",
       "        <td id=\"T_bf51fee2_881e_11e9_977e_186024eae6c5row7_col8\" class=\"data row7 col8\" >A</td> \n",
       "        <td id=\"T_bf51fee2_881e_11e9_977e_186024eae6c5row7_col9\" class=\"data row7 col9\" >L</td> \n",
       "    </tr>    <tr> \n",
       "        <th id=\"T_bf51fee2_881e_11e9_977e_186024eae6c5level0_row8\" class=\"row_heading level0 row8\" >8</th> \n",
       "        <td id=\"T_bf51fee2_881e_11e9_977e_186024eae6c5row8_col0\" class=\"data row8 col0\" ></td> \n",
       "        <td id=\"T_bf51fee2_881e_11e9_977e_186024eae6c5row8_col1\" class=\"data row8 col1\" >A</td> \n",
       "        <td id=\"T_bf51fee2_881e_11e9_977e_186024eae6c5row8_col2\" class=\"data row8 col2\" ></td> \n",
       "        <td id=\"T_bf51fee2_881e_11e9_977e_186024eae6c5row8_col3\" class=\"data row8 col3\" >U</td> \n",
       "        <td id=\"T_bf51fee2_881e_11e9_977e_186024eae6c5row8_col4\" class=\"data row8 col4\" ></td> \n",
       "        <td id=\"T_bf51fee2_881e_11e9_977e_186024eae6c5row8_col5\" class=\"data row8 col5\" ></td> \n",
       "        <td id=\"T_bf51fee2_881e_11e9_977e_186024eae6c5row8_col6\" class=\"data row8 col6\" ></td> \n",
       "        <td id=\"T_bf51fee2_881e_11e9_977e_186024eae6c5row8_col7\" class=\"data row8 col7\" ></td> \n",
       "        <td id=\"T_bf51fee2_881e_11e9_977e_186024eae6c5row8_col8\" class=\"data row8 col8\" ></td> \n",
       "        <td id=\"T_bf51fee2_881e_11e9_977e_186024eae6c5row8_col9\" class=\"data row8 col9\" >I</td> \n",
       "    </tr>    <tr> \n",
       "        <th id=\"T_bf51fee2_881e_11e9_977e_186024eae6c5level0_row9\" class=\"row_heading level0 row9\" >9</th> \n",
       "        <td id=\"T_bf51fee2_881e_11e9_977e_186024eae6c5row9_col0\" class=\"data row9 col0\" ></td> \n",
       "        <td id=\"T_bf51fee2_881e_11e9_977e_186024eae6c5row9_col1\" class=\"data row9 col1\" ></td> \n",
       "        <td id=\"T_bf51fee2_881e_11e9_977e_186024eae6c5row9_col2\" class=\"data row9 col2\" >E</td> \n",
       "        <td id=\"T_bf51fee2_881e_11e9_977e_186024eae6c5row9_col3\" class=\"data row9 col3\" >S</td> \n",
       "        <td id=\"T_bf51fee2_881e_11e9_977e_186024eae6c5row9_col4\" class=\"data row9 col4\" >T</td> \n",
       "        <td id=\"T_bf51fee2_881e_11e9_977e_186024eae6c5row9_col5\" class=\"data row9 col5\" >O</td> \n",
       "        <td id=\"T_bf51fee2_881e_11e9_977e_186024eae6c5row9_col6\" class=\"data row9 col6\" >N</td> \n",
       "        <td id=\"T_bf51fee2_881e_11e9_977e_186024eae6c5row9_col7\" class=\"data row9 col7\" >I</td> \n",
       "        <td id=\"T_bf51fee2_881e_11e9_977e_186024eae6c5row9_col8\" class=\"data row9 col8\" >A</td> \n",
       "        <td id=\"T_bf51fee2_881e_11e9_977e_186024eae6c5row9_col9\" class=\"data row9 col9\" ></td> \n",
       "    </tr></tbody> \n",
       "</table> "
      ],
      "text/plain": [
       "<pandas.io.formats.style.Styler at 0x1440c1b3748>"
      ]
     },
     "metadata": {},
     "output_type": "display_data"
    }
   ],
   "source": [
    "puzzle.show(puzzle.cell)"
   ]
  },
  {
   "cell_type": "markdown",
   "metadata": {},
   "source": [
    "まだ改善の余地がありますが、一つの島で繋がったパズルが出来上がっていますね。ちなみに、`show`メソッドを呼ぶと自動的にクリップボードに保存されるようになるので、結果をすぐに誰かと共有したい場合はそれをペーストするだけでできます。"
   ]
  },
  {
   "cell_type": "markdown",
   "metadata": {},
   "source": [
    "***\n",
    "\n",
    "## 目的関数\n",
    "さて、今できた解はまだ未熟であり、改善の余地があるように見えると思います。\n",
    "ここで、この解の良し悪しを定量的に判断する必要があります。\n",
    "この定量的な解の良し悪し指標を「目的関数」として定義します。\n",
    "目的関数には様々なものが考えられます：\n",
    "\n",
    "* 解に使われた単語数(solSize)\n",
    "* 単語のクロス数\n",
    "* 文字で埋まっているセルの個数\n",
    "* 文字なしマスの連結数の最大値(を最小化)\n",
    "\n",
    "これ以外にも様々な目的関数が考えられるでしょう。そして、これらの目的関数は優先順位をつけて共存させることも可能です。後ほど実装する最適化手法は、これらの値を「スコア」として受け、それを最大化するように働きます。なので、4つ目の「文字なしマスの連結数の最大値」は、パズル全マスからその値を引いたものをスコアとして返すように設計します。\n",
    "\n",
    "早速、目的関数を一つ作って、`ObjectiveFunction`クラスのアトリビュートとして設定してみましょう。まずは、最も単純な「解に使われた単語数」を返す目的関数を実装します："
   ]
  },
  {
   "cell_type": "code",
   "execution_count": 22,
   "metadata": {},
   "outputs": [],
   "source": [
    "def solSize(self):\n",
    "    return self.puzzle.solSize\n",
    "setattr(ObjectiveFunction, \"solSize\", solSize)"
   ]
  },
  {
   "cell_type": "markdown",
   "metadata": {
    "collapsed": true
   },
   "source": [
    "次に、単語のクロス数を判定して返す目的関数を実装します："
   ]
  },
  {
   "cell_type": "code",
   "execution_count": 23,
   "metadata": {},
   "outputs": [],
   "source": [
    "def crossCount(self):\n",
    "    return np.sum(self.puzzle.cover == 2)\n",
    "setattr(ObjectiveFunction, \"crossCount\", crossCount)"
   ]
  },
  {
   "cell_type": "markdown",
   "metadata": {},
   "source": [
    "次に、文字で埋まっているセルの個数を返す目的関数を実装します："
   ]
  },
  {
   "cell_type": "code",
   "execution_count": 24,
   "metadata": {},
   "outputs": [],
   "source": [
    "def fillCount(self):\n",
    "    return np.sum(self.puzzle.cover >= 1)\n",
    "setattr(ObjectiveFunction, \"fillCount\", fillCount)"
   ]
  },
  {
   "cell_type": "markdown",
   "metadata": {},
   "source": [
    "それでは、それぞれのスコアを見てみましょう："
   ]
  },
  {
   "cell_type": "code",
   "execution_count": 25,
   "metadata": {
    "scrolled": true
   },
   "outputs": [
    {
     "name": "stdout",
     "output_type": "stream",
     "text": [
      "solSize: 10\n",
      "crossCount: 9\n",
      "fillCount: 45\n"
     ]
    }
   ],
   "source": [
    "print(\"solSize: %d\" % objFunc.solSize())\n",
    "print(\"crossCount: %d\" % objFunc.crossCount())\n",
    "print(\"fillCount: %d\" % objFunc.fillCount())"
   ]
  },
  {
   "cell_type": "markdown",
   "metadata": {},
   "source": [
    "先ほどの初期解で結果が正しいかを確認してください。\n",
    "\n",
    "目的関数には「文字なしマスの連結数の最大値」なども考えられます。しかし、この「連結数」を数えるのは少し工夫が必要です。連結数のカウントには「深さ優先探索(Depth First Search:DFS)」を用います。\n",
    "* `DFS`メソッドはセルの値が1でそれ以外が0の2次元配列(coverDFS)を引数にとり、引数で与えられたセルと連結したセルには全て同じ番号(ccl)を振ります。\n",
    "* `DFS`メソッドは引数に[ coverDFS, 今見る行, 今見る列, 島番号]をとります。\n",
    "\n",
    "後ほど、`DFS`メソッドは目的関数以外の場所でも使うため、`Puzzle`クラスのメソッドとして登録しておきます："
   ]
  },
  {
   "cell_type": "code",
   "execution_count": 26,
   "metadata": {},
   "outputs": [],
   "source": [
    "def DFS(self, i, j, ccl):\n",
    "    self.coverDFS[i,j] = ccl\n",
    "    if i>0 and self.coverDFS[i-1,j] == 1:\n",
    "        self.DFS(i-1, j, ccl)\n",
    "    if i<self.height-1 and self.coverDFS[i+1,j] == 1:\n",
    "        self.DFS(i+1, j, ccl)\n",
    "    if j>0 and self.coverDFS[i,j-1] == 1:\n",
    "        self.DFS(i, j-1, ccl)\n",
    "    if j<self.width-1 and self.coverDFS[i,j+1] == 1:\n",
    "        self.DFS(i, j+1, ccl)\n",
    "setattr(Puzzle, \"DFS\", DFS)"
   ]
  },
  {
   "cell_type": "markdown",
   "metadata": {},
   "source": [
    "`DFS`メソッドは引数で与えられたセルに連結した島しか判定しません。\n",
    "文字なしマスの最大連結数を見るためには、全ての島に対してDFSを使って番号を振る必要があります。\n",
    "\n",
    "さて、この`DFS`メソッドを使って文字なしマスの最大連結数を取り出す`maxConnectedEmptys`メソッドを定義しましょう(上でも述べたとおり、全マス数から最大連結数を引いたものをスコアとして返します)："
   ]
  },
  {
   "cell_type": "code",
   "execution_count": 27,
   "metadata": {},
   "outputs": [],
   "source": [
    "def maxConnectedEmptys(self):\n",
    "    ccl = 2\n",
    "    self.puzzle.coverDFS = np.where(self.puzzle.cover == 0, 1, 0)\n",
    "    for i, j in itertools.product(range(self.puzzle.height), range(self.puzzle.width)):\n",
    "        if self.puzzle.coverDFS[i,j] == 1:\n",
    "            self.puzzle.DFS(i, j, ccl)\n",
    "            ccl += 1\n",
    "    score = self.puzzle.width*self.puzzle.height - np.max(np.bincount(self.puzzle.coverDFS.flatten())[1:])\n",
    "    return score\n",
    "setattr(ObjectiveFunction, \"maxConnectedEmptys\", maxConnectedEmptys)"
   ]
  },
  {
   "cell_type": "markdown",
   "metadata": {},
   "source": [
    "早速結果を見てみましょう："
   ]
  },
  {
   "cell_type": "code",
   "execution_count": 28,
   "metadata": {
    "scrolled": true
   },
   "outputs": [
    {
     "name": "stdout",
     "output_type": "stream",
     "text": [
      "maxConnectedEmptys: 67\n"
     ]
    }
   ],
   "source": [
    "print(\"maxConnectedEmptys: %d\" % objFunc.maxConnectedEmptys())"
   ]
  },
  {
   "cell_type": "markdown",
   "metadata": {},
   "source": [
    "次に、これらの目的関数をどの順番で見ていくかの優先順位をつけて、`ObjectiveFunction`オブジェクトに覚えさせていきます。\n",
    "ここでは、そのための`register`メソッドを定義します："
   ]
  },
  {
   "cell_type": "code",
   "execution_count": 29,
   "metadata": {},
   "outputs": [],
   "source": [
    "def register(self, funcNames, msg=True):\n",
    "    for funcName in funcNames:\n",
    "        if funcName not in self.flist:\n",
    "            sys.stderr.write(\"error: ObjectiveFunction class doesn't have '%s' function.\" % funcName)\n",
    "            sys.exit()\n",
    "        if msg == True:\n",
    "            print(\" - '%s' function has registered.\" % funcName)\n",
    "    self.registeredFuncs = funcNames\n",
    "    return\n",
    "setattr(ObjectiveFunction, \"register\", register)"
   ]
  },
  {
   "cell_type": "code",
   "execution_count": 30,
   "metadata": {},
   "outputs": [
    {
     "name": "stdout",
     "output_type": "stream",
     "text": [
      " - 'solSize' function has registered.\n",
      " - 'crossCount' function has registered.\n",
      " - 'fillCount' function has registered.\n",
      " - 'maxConnectedEmptys' function has registered.\n"
     ]
    }
   ],
   "source": [
    "objFunc.register([\"solSize\", \"crossCount\", \"fillCount\", \"maxConnectedEmptys\"])"
   ]
  },
  {
   "cell_type": "markdown",
   "metadata": {},
   "source": [
    "この場合、\"solSize\"から評価され、最後に”fillCount”が評価されます。\n",
    "次に、こうして登録した目的関数値をスコアとして返す`getScore`メソッドを定義します："
   ]
  },
  {
   "cell_type": "code",
   "execution_count": 31,
   "metadata": {},
   "outputs": [],
   "source": [
    "def getScore(self, i, all=False):\n",
    "    if all:\n",
    "        scores=np.zeros(len(self.registeredFuncs), dtype=\"int64\")\n",
    "        for n in range(scores.size):\n",
    "            scores[n] = eval(\"self.%s()\" % self.registeredFuncs[n])\n",
    "        return scores\n",
    "    return eval(\"self.%s()\" % self.registeredFuncs[i])\n",
    "setattr(ObjectiveFunction, \"getScore\", getScore)"
   ]
  },
  {
   "cell_type": "markdown",
   "metadata": {},
   "source": [
    "このメソッドは引数`i`を指定すれば`i`番目のスコアが得られ、`all=True`を与えればスコアを一覧で返します。\n",
    "それでは、それぞれ試してみましょう："
   ]
  },
  {
   "cell_type": "code",
   "execution_count": 32,
   "metadata": {
    "scrolled": true
   },
   "outputs": [
    {
     "name": "stdout",
     "output_type": "stream",
     "text": [
      "score(0): 10\n",
      "scores: [10  9 45 67]\n"
     ]
    }
   ],
   "source": [
    "print(\"score(0): %s\" % objFunc.getScore(0))\n",
    "print(\"scores: %s\" % objFunc.getScore(0, all=True))"
   ]
  },
  {
   "cell_type": "markdown",
   "metadata": {},
   "source": [
    "\n",
    "これで、`ObjectiveFunction`クラスを`Puzzle`クラスにコンパイルする準備はできました。\n",
    "しかし、コンパイルは最適化手法(`Optimizer`クラス)と一緒にコンパイルする設計にするため、この後は`Optimizer`クラスの中身を作っていきましょう。\n",
    "\n",
    "***\n",
    "\n",
    "## 最適化手法\n",
    "ここでは、設定した目的関数値を最大化/最小化するための手法を実装していきます。まずは、数ある最適化手法の中から「局所探索法」を実装します。これは、このノートのタイトルにもある「LocalSearch」と呼ばれる手法で、組み合わせ最適化問題を解く近似解法として代表的なものです。\n",
    "\n",
    "ここで、局所探索法に関して簡単に解説します。\n",
    "まず、今までの流れをおさらいします。\n",
    "  1. ランダムに単語を一つパズルに配置する。\n",
    "  2. その単語と必ずクロスするように、可能なだけランダムに単語を配置していく。\n",
    "  3. これ以上配置できない状態になったら、それを初期解とする。\n",
    "  4. 設定した目的関数で解の良さを判定する。\n",
    "よろしいでしょうか。それではここから、初期解の「近傍領域」に存在する「近傍解」を探していきます。\n",
    "近傍解とは、初期解に似たような解を指します。よって、近傍解は初期解を元に得る必要があります。\n",
    "しかし、初期解にはこれ以上単語を配置することはできません。\n",
    "そのため、まずは初期解から単語をランダムに抜いていきます。そして、単語の連結性が崩れ、1つだった単語の島が2つ以上に分離したら、そこで単語を抜く処理を止めます。\n",
    "\n",
    "ここで一旦、盤面に置かれた単語を抜くというここまでの処理を`drop`メソッドとして定義します："
   ]
  },
  {
   "cell_type": "code",
   "execution_count": 33,
   "metadata": {},
   "outputs": [],
   "source": [
    "def drop(self, puzzle, p, indexOfUsedPlcIdx):\n",
    "    # Get div, i, j, wLen\n",
    "    div = self.plc.div[p]\n",
    "    i = self.plc.i[p]\n",
    "    j = self.plc.j[p]\n",
    "    wLen = len(self.dic.data[self.plc.k[p]])\n",
    "    \n",
    "    # If '2' is aligned in the cover array, continue to next loop\n",
    "    if div == 0:\n",
    "        if np.any(np.diff(np.where(puzzle.cover[i:i+wLen,j] == 2)[0]) == 1):\n",
    "            return\n",
    "    if div == 1:\n",
    "        if np.any(np.diff(np.where(puzzle.cover[i,j:j+wLen] == 2)[0])==1):\n",
    "            return\n",
    "    # Pull out a word\n",
    "    if div == 0:\n",
    "        puzzle.cover[i:i+wLen,j] -= 1\n",
    "        where = np.where(puzzle.cover[i:i+wLen,j] == 0)[0]\n",
    "        jall = np.full(where.size, j, dtype=\"int64\")\n",
    "        puzzle.cell[i+where,jall] = \"\"\n",
    "    if div == 1:\n",
    "        puzzle.cover[i,j:j+wLen] -= 1\n",
    "        where = np.where(puzzle.cover[i,j:j+wLen] == 0)[0]\n",
    "        iall = np.full(where.size, i, dtype=\"int64\")\n",
    "        puzzle.cell[iall,j+where] = \"\"\n",
    "    # Update usedPlcIdx and solSize\n",
    "    puzzle.usedWords[indexOfUsedPlcIdx] = \"\"\n",
    "    puzzle.usedPlcIdx[indexOfUsedPlcIdx] = -1\n",
    "    puzzle.solSize -= 1\n",
    "    # Release prohibited cells\n",
    "    removeFlag = True\n",
    "    if div == 0:\n",
    "        if i > 0:\n",
    "            if i > 2 and np.all(puzzle.cell[[i-3,i-2],[j,j]] != \"\"):\n",
    "                removeFlag = False\n",
    "            if j > 2 and np.all(puzzle.cell[[i-1,i-1],[j-2,j-1]] != \"\"):\n",
    "                removeFlag = False\n",
    "            if j < puzzle.width-2 and np.all(puzzle.cell[[i-1,i-1],[j+1,j+2]] != \"\"):\n",
    "                removeFlag = False\n",
    "            if removeFlag == True:\n",
    "                puzzle.enable[i-1,j] = True\n",
    "        if i+wLen < puzzle.height:\n",
    "            if i+wLen < puzzle.height-2 and np.all(puzzle.cell[[i+wLen+1,i+wLen+2],[j,j]] != \"\"):\n",
    "                removeFlag = False\n",
    "            if j > 2 and np.all(puzzle.cell[[i+wLen,i+wLen],[j-2,j-1]] != \"\"):\n",
    "                removeFlag = False\n",
    "            if j < puzzle.width-2 and np.all(puzzle.cell[[i+wLen,i+wLen],[j+1,j+2]] != \"\"):\n",
    "                  removeFlag = False\n",
    "            if removeFlag == True:\n",
    "                puzzle.enable[i+wLen,j] = True\n",
    "    if div == 1:\n",
    "        if j > 0:\n",
    "            if j > 2 and np.all(puzzle.cell[[i,i],[j-3,j-2]] != \"\"):\n",
    "                removeFlag = False\n",
    "            if i > 2 and np.all(puzzle.cell[[i-2,i-1],[j-1,j-1]] != \"\"):\n",
    "                removeFlag = False\n",
    "            if i < puzzle.height-2 and np.all(puzzle.cell[[i+1,i+2],[j-1,j-1]] != \"\"):\n",
    "                removeFlag = False\n",
    "            if removeFlag == True:\n",
    "                puzzle.enable[i,j-1] = True\n",
    "        if j+wLen < puzzle.width:\n",
    "            if j+wLen < puzzle.width-2 and np.all(puzzle.cell[[i,i],[j+wLen+1,j+wLen+2]] != \"\"):\n",
    "                removeFlag = False\n",
    "            if i > 2 and np.all(puzzle.cell[[i-2,i-1],[j+wLen,j+wLen]] != \"\"):\n",
    "                removeFlag = False\n",
    "            if i < puzzle.height-2 and np.all(puzzle.cell[[i+1,i+2],[j+wLen,j+wLen]] != \"\"):\n",
    "                removeFlag = False\n",
    "            if removeFlag == True:\n",
    "                puzzle.enable[i,j+wLen] = True\n",
    "setattr(Optimizer, \"drop\", drop)"
   ]
  },
  {
   "cell_type": "markdown",
   "metadata": {},
   "source": [
    "次に、これを用いて単語を抜いた後、残った島の中で一番面積(+クロス数)の大きい島以外を全て消します。\n",
    "これによって、初期解の情報をある程度保ちつつ、単語を抜いたことになります。\n",
    "\n",
    "そこまでできたら、初期解を得た時と同じように、今の盤面に配置可能な単語をランダムに配置していき、\n",
    "これ以上配置できなくなった時点を「近傍解」とします。\n",
    "\n",
    "それでは、近傍解を得る`getNeighborSolution`メソッドを定義します："
   ]
  },
  {
   "cell_type": "code",
   "execution_count": 34,
   "metadata": {},
   "outputs": [],
   "source": [
    "def getNeighborSolution(self, tmpPuzzle):   \n",
    "    # If solSize = 0, return\n",
    "    if tmpPuzzle.solSize == 0:\n",
    "        return\n",
    "    \n",
    "    # Make a random index of solSize  \n",
    "    randomIndex = np.arange(tmpPuzzle.solSize)\n",
    "    shuffle(randomIndex)\n",
    "    \n",
    "    # Drop words until connectivity collapses\n",
    "    for r, p in enumerate(tmpPuzzle.usedPlcIdx[randomIndex]):\n",
    "        self.drop(tmpPuzzle, p, randomIndex[r])\n",
    "        # End with connectivity breakdown\n",
    "        tmpPuzzle.coverDFS = np.where(tmpPuzzle.cover >= 1, 1, 0)\n",
    "        ccl = 2\n",
    "        for i, j in itertools.product(range(tmpPuzzle.height), range(tmpPuzzle.width)):\n",
    "            if tmpPuzzle.coverDFS[i,j] == 1:\n",
    "                self.puzzle.DFS(i, j, ccl)\n",
    "                ccl += 1\n",
    "        if ccl-2 >= 2:\n",
    "            break\n",
    "    # Stuff the deleted index\n",
    "    whereDelete = np.where(tmpPuzzle.usedPlcIdx == -1)[0]\n",
    "    for p in whereDelete:\n",
    "        tmpPuzzle.usedWords = np.append(np.delete(tmpPuzzle.usedWords, p), \"\")\n",
    "        tmpPuzzle.usedPlcIdx = np.append(np.delete(tmpPuzzle.usedPlcIdx, p), -1)\n",
    "        whereDelete -= 1\n",
    "\n",
    "    # Kick\n",
    "    # If solSize = 0 after droping, return\n",
    "    if tmpPuzzle.solSize == 0:\n",
    "        return\n",
    "    \n",
    "    # Define 'largestCCL' witch has the largest score(fillCount+crossCount)\n",
    "    cclScores = np.zeros(ccl-2, dtype=\"int64\")\n",
    "    for c in range(ccl-2):\n",
    "        cclScores[c] = np.sum(np.where(tmpPuzzle.coverDFS == c+2, tmpPuzzle.cover, 0))\n",
    "    largestCCL = np.argmax(cclScores) + 2\n",
    "    \n",
    "    # Erase elements except CCL ('kick' in C-program)\n",
    "    for idx, p in enumerate(tmpPuzzle.usedPlcIdx[:self.puzzle.solSize]):\n",
    "        if p == -1:\n",
    "            continue\n",
    "        if tmpPuzzle.coverDFS[self.plc.i[p],self.plc.j[p]] != largestCCL:\n",
    "            self.drop(tmpPuzzle, p, idx)\n",
    "\n",
    "    # Stuff the deleted index\n",
    "    whereDelete = np.where(tmpPuzzle.usedPlcIdx == -1)[0]\n",
    "    for p in whereDelete:\n",
    "        tmpPuzzle.usedWords = np.append(np.delete(tmpPuzzle.usedWords, p), \"\")\n",
    "        tmpPuzzle.usedPlcIdx = np.append(np.delete(tmpPuzzle.usedPlcIdx, p), -1)\n",
    "        whereDelete -= 1\n",
    "    \n",
    "    # Make a random index of plc    \n",
    "    randomIndex = np.arange(self.plc.size)\n",
    "    shuffle(randomIndex)\n",
    "    \n",
    "    # Add as much as possible \n",
    "    solSizeTmp = -1\n",
    "    while tmpPuzzle.solSize != solSizeTmp:\n",
    "        solSizeTmp = tmpPuzzle.solSize\n",
    "        for t in randomIndex:\n",
    "            tmpPuzzle.add(self.dic, self.plc, self.plc.div[t], self.plc.i[t], self.plc.j[t], self.dic.data[self.plc.k[t]])\n",
    "setattr(Optimizer, \"getNeighborSolution\", getNeighborSolution)"
   ]
  },
  {
   "cell_type": "markdown",
   "metadata": {},
   "source": [
    "さあ、ここまでで局所探索法を行う準備が整いました。\n",
    "局所探索法では近傍解を探し、そのスコアが暫定解よりも高ければ暫定解を更新し、低ければ近傍解を棄却します。\n",
    "それを指定回数(epock数)だけ繰り返し、それが終わった時点での暫定解を「局所最適解」として得ます。\n",
    "厳密にはそこでの最適解かはわかりませんが、この解は近似的な最適解と言えるでしょう。\n",
    "\n",
    "それでは、局所探索法を行う`localSearch`メソッドを定義しましょう："
   ]
  },
  {
   "cell_type": "code",
   "execution_count": 35,
   "metadata": {},
   "outputs": [],
   "source": [
    "def localSearch(self, epock, show=True, move=False):\n",
    "    if show:\n",
    "        print(\"Interim solution:\")\n",
    "        self.puzzle.show(self.puzzle.cell)\n",
    "    for ep in range(1,epock+1):\n",
    "        print(\"Epock %d/%d\" % (ep, epock))\n",
    "        ## Obtain a neighbor solution\n",
    "        # Copy the Puzzle object and objective function\n",
    "        self.tmpPuzzle.copy(self.puzzle)\n",
    "        tmpObjFunc = ObjectiveFunction(self.tmpPuzzle, msg=False)\n",
    "        tmpObjFunc.register(self.objFunc.registeredFuncs, msg=False)\n",
    "    \n",
    "        # Get neigh solution by drop->kick->add\n",
    "        self.getNeighborSolution(self.puzzle)\n",
    "    \n",
    "        # Repeat if the score is high\n",
    "        for funcNum in range(len(tmpObjFunc.registeredFuncs)):\n",
    "            puzzleScore = self.objFunc.getScore(funcNum)\n",
    "            tmpPuzzleScore = tmpObjFunc.getScore(funcNum)\n",
    "            if puzzleScore > tmpPuzzleScore:\n",
    "                print(\" Improved - score[%d]: %d\" % (funcNum,puzzleScore))\n",
    "                if show:\n",
    "                    self.puzzle.show(self.puzzle.cell)\n",
    "                break\n",
    "            if puzzleScore < tmpPuzzleScore:\n",
    "                self.puzzle.copy(self.tmpPuzzle)\n",
    "                print(\" Stayed\")\n",
    "                break\n",
    "        else:\n",
    "            print(\" Replaced(same score) - score[%d]: %d\" % (funcNum,puzzleScore))\n",
    "            if show:\n",
    "                self.puzzle.show(self.puzzle.cell)\n",
    "    return\n",
    "setattr(Optimizer, \"localSearch\", localSearch)"
   ]
  },
  {
   "cell_type": "markdown",
   "metadata": {},
   "source": [
    "これで局所探索法のメソッドが書けました。\n",
    "\n",
    "しかし、このメソッドを`Optimizer`オブジェクトから直に呼ぶのではなく、`Puzzle`オブジェクトのメソッド内で呼べるようにします。そのために、`ObjectiveFunction`オブジェクトと共に`Puzzle`オブジェクトにコンパイルします。そのための`compile`メソッドを`Puzzle`クラスに追加しましょう："
   ]
  },
  {
   "cell_type": "code",
   "execution_count": 36,
   "metadata": {},
   "outputs": [],
   "source": [
    "def setMethod(self, methodName, msg=True):\n",
    "    if methodName not in self.methodList:\n",
    "        sys.stderr.write(\"error: Optimizer class doesn't have '%s' method.\" % methodName)\n",
    "        sys.exit()\n",
    "    if msg:\n",
    "        print(\" - '%s' method has registered.\" % methodName)\n",
    "    self.method = methodName\n",
    "setattr(Optimizer, \"setMethod\", setMethod)"
   ]
  },
  {
   "cell_type": "code",
   "execution_count": 37,
   "metadata": {},
   "outputs": [
    {
     "name": "stdout",
     "output_type": "stream",
     "text": [
      " - 'localSearch' method has registered.\n"
     ]
    }
   ],
   "source": [
    "optimizer.setMethod(\"localSearch\")"
   ]
  },
  {
   "cell_type": "code",
   "execution_count": 38,
   "metadata": {},
   "outputs": [],
   "source": [
    "def compiling(self, dictionary=None, placeable=None, objFunc=None, optimizer=None, msg=True):\n",
    "    if dictionary is None or placeable is None or objFunc is None or optimizer is None:\n",
    "        sys.stderr.write(\"error: usage .compile(dictionary, placeable, objFunc, optimizer)\")\n",
    "        sys.exit()\n",
    "    self.objFunc = objFunc\n",
    "    self.optimizer = optimizer\n",
    "    self.optimizer.puzzle = self\n",
    "    self.optimizer.tmpPuzzle = Puzzle(self.width, self.height, msg=False)\n",
    "    self.optimizer.dic = dictionary\n",
    "    self.optimizer.plc = placeable\n",
    "    self.optimizer.objFunc = objFunc\n",
    "    \n",
    "    if msg:\n",
    "        print(\"compile succeeded.\")\n",
    "        print(\" --- objective functions:\")\n",
    "        for funcNum in range(len(objFunc.registeredFuncs)):\n",
    "            print(\"  |-> %d. %s\" % (funcNum, objFunc.registeredFuncs[funcNum]))\n",
    "        print(\" --- optimizer: %s\" % optimizer.method)\n",
    "setattr(Puzzle, \"compiling\", compiling)"
   ]
  },
  {
   "cell_type": "code",
   "execution_count": 39,
   "metadata": {
    "scrolled": true
   },
   "outputs": [
    {
     "name": "stdout",
     "output_type": "stream",
     "text": [
      "compile succeeded.\n",
      " --- objective functions:\n",
      "  |-> 0. solSize\n",
      "  |-> 1. crossCount\n",
      "  |-> 2. fillCount\n",
      "  |-> 3. maxConnectedEmptys\n",
      " --- optimizer: localSearch\n"
     ]
    }
   ],
   "source": [
    "puzzle.compiling(dictionary=dic, placeable=plc, objFunc=objFunc, optimizer=optimizer)"
   ]
  },
  {
   "cell_type": "code",
   "execution_count": 40,
   "metadata": {},
   "outputs": [],
   "source": [
    "def solve(self, *, epock=0):\n",
    "    if epock == 0:\n",
    "        sys.stderr.write(\"error: usage(example) .solve(epock=10)\")\n",
    "        sys.exit()\n",
    "    self.optimizer.localSearch(epock)\n",
    "setattr(Puzzle, \"solve\", solve)"
   ]
  },
  {
   "cell_type": "code",
   "execution_count": 41,
   "metadata": {
    "scrolled": false
   },
   "outputs": [
    {
     "name": "stdout",
     "output_type": "stream",
     "text": [
      "Interim solution:\n"
     ]
    },
    {
     "data": {
      "text/html": [
       "<style  type=\"text/css\" >\n",
       "    #T_c0828a66_881e_11e9_a644_186024eae6c5 th {\n",
       "          font-size: 90%;\n",
       "          text-align: center;\n",
       "          color: #ffffff;\n",
       "          background: #777777;\n",
       "          border: solid 1px white;\n",
       "          width: 30px;\n",
       "          height: 30px;\n",
       "    }    #T_c0828a66_881e_11e9_a644_186024eae6c5 td {\n",
       "          font-size: 105%;\n",
       "          text-align: center;\n",
       "          color: #161616;\n",
       "          background: #dddddd;\n",
       "          border: solid 1px white;\n",
       "          width: 30px;\n",
       "          height: 30px;\n",
       "    }    #T_c0828a66_881e_11e9_a644_186024eae6c5 caption {\n",
       "          caption-side: bottom;\n",
       "    }</style>  \n",
       "<table id=\"T_c0828a66_881e_11e9_a644_186024eae6c5\" ><caption>Puzzle(10,10), Seed:1, solSize:10 Dictionary:[../dict/countries.txt]</caption> \n",
       "<thead>    <tr> \n",
       "        <th class=\"blank level0\" ></th> \n",
       "        <th class=\"col_heading level0 col0\" >0</th> \n",
       "        <th class=\"col_heading level0 col1\" >1</th> \n",
       "        <th class=\"col_heading level0 col2\" >2</th> \n",
       "        <th class=\"col_heading level0 col3\" >3</th> \n",
       "        <th class=\"col_heading level0 col4\" >4</th> \n",
       "        <th class=\"col_heading level0 col5\" >5</th> \n",
       "        <th class=\"col_heading level0 col6\" >6</th> \n",
       "        <th class=\"col_heading level0 col7\" >7</th> \n",
       "        <th class=\"col_heading level0 col8\" >8</th> \n",
       "        <th class=\"col_heading level0 col9\" >9</th> \n",
       "    </tr></thead> \n",
       "<tbody>    <tr> \n",
       "        <th id=\"T_c0828a66_881e_11e9_a644_186024eae6c5level0_row0\" class=\"row_heading level0 row0\" >0</th> \n",
       "        <td id=\"T_c0828a66_881e_11e9_a644_186024eae6c5row0_col0\" class=\"data row0 col0\" ></td> \n",
       "        <td id=\"T_c0828a66_881e_11e9_a644_186024eae6c5row0_col1\" class=\"data row0 col1\" ></td> \n",
       "        <td id=\"T_c0828a66_881e_11e9_a644_186024eae6c5row0_col2\" class=\"data row0 col2\" ></td> \n",
       "        <td id=\"T_c0828a66_881e_11e9_a644_186024eae6c5row0_col3\" class=\"data row0 col3\" ></td> \n",
       "        <td id=\"T_c0828a66_881e_11e9_a644_186024eae6c5row0_col4\" class=\"data row0 col4\" ></td> \n",
       "        <td id=\"T_c0828a66_881e_11e9_a644_186024eae6c5row0_col5\" class=\"data row0 col5\" ></td> \n",
       "        <td id=\"T_c0828a66_881e_11e9_a644_186024eae6c5row0_col6\" class=\"data row0 col6\" ></td> \n",
       "        <td id=\"T_c0828a66_881e_11e9_a644_186024eae6c5row0_col7\" class=\"data row0 col7\" ></td> \n",
       "        <td id=\"T_c0828a66_881e_11e9_a644_186024eae6c5row0_col8\" class=\"data row0 col8\" >P</td> \n",
       "        <td id=\"T_c0828a66_881e_11e9_a644_186024eae6c5row0_col9\" class=\"data row0 col9\" ></td> \n",
       "    </tr>    <tr> \n",
       "        <th id=\"T_c0828a66_881e_11e9_a644_186024eae6c5level0_row1\" class=\"row_heading level0 row1\" >1</th> \n",
       "        <td id=\"T_c0828a66_881e_11e9_a644_186024eae6c5row1_col0\" class=\"data row1 col0\" ></td> \n",
       "        <td id=\"T_c0828a66_881e_11e9_a644_186024eae6c5row1_col1\" class=\"data row1 col1\" ></td> \n",
       "        <td id=\"T_c0828a66_881e_11e9_a644_186024eae6c5row1_col2\" class=\"data row1 col2\" ></td> \n",
       "        <td id=\"T_c0828a66_881e_11e9_a644_186024eae6c5row1_col3\" class=\"data row1 col3\" ></td> \n",
       "        <td id=\"T_c0828a66_881e_11e9_a644_186024eae6c5row1_col4\" class=\"data row1 col4\" ></td> \n",
       "        <td id=\"T_c0828a66_881e_11e9_a644_186024eae6c5row1_col5\" class=\"data row1 col5\" ></td> \n",
       "        <td id=\"T_c0828a66_881e_11e9_a644_186024eae6c5row1_col6\" class=\"data row1 col6\" >U</td> \n",
       "        <td id=\"T_c0828a66_881e_11e9_a644_186024eae6c5row1_col7\" class=\"data row1 col7\" >S</td> \n",
       "        <td id=\"T_c0828a66_881e_11e9_a644_186024eae6c5row1_col8\" class=\"data row1 col8\" >A</td> \n",
       "        <td id=\"T_c0828a66_881e_11e9_a644_186024eae6c5row1_col9\" class=\"data row1 col9\" ></td> \n",
       "    </tr>    <tr> \n",
       "        <th id=\"T_c0828a66_881e_11e9_a644_186024eae6c5level0_row2\" class=\"row_heading level0 row2\" >2</th> \n",
       "        <td id=\"T_c0828a66_881e_11e9_a644_186024eae6c5row2_col0\" class=\"data row2 col0\" ></td> \n",
       "        <td id=\"T_c0828a66_881e_11e9_a644_186024eae6c5row2_col1\" class=\"data row2 col1\" >B</td> \n",
       "        <td id=\"T_c0828a66_881e_11e9_a644_186024eae6c5row2_col2\" class=\"data row2 col2\" ></td> \n",
       "        <td id=\"T_c0828a66_881e_11e9_a644_186024eae6c5row2_col3\" class=\"data row2 col3\" ></td> \n",
       "        <td id=\"T_c0828a66_881e_11e9_a644_186024eae6c5row2_col4\" class=\"data row2 col4\" ></td> \n",
       "        <td id=\"T_c0828a66_881e_11e9_a644_186024eae6c5row2_col5\" class=\"data row2 col5\" ></td> \n",
       "        <td id=\"T_c0828a66_881e_11e9_a644_186024eae6c5row2_col6\" class=\"data row2 col6\" >K</td> \n",
       "        <td id=\"T_c0828a66_881e_11e9_a644_186024eae6c5row2_col7\" class=\"data row2 col7\" ></td> \n",
       "        <td id=\"T_c0828a66_881e_11e9_a644_186024eae6c5row2_col8\" class=\"data row2 col8\" >P</td> \n",
       "        <td id=\"T_c0828a66_881e_11e9_a644_186024eae6c5row2_col9\" class=\"data row2 col9\" ></td> \n",
       "    </tr>    <tr> \n",
       "        <th id=\"T_c0828a66_881e_11e9_a644_186024eae6c5level0_row3\" class=\"row_heading level0 row3\" >3</th> \n",
       "        <td id=\"T_c0828a66_881e_11e9_a644_186024eae6c5row3_col0\" class=\"data row3 col0\" ></td> \n",
       "        <td id=\"T_c0828a66_881e_11e9_a644_186024eae6c5row3_col1\" class=\"data row3 col1\" >A</td> \n",
       "        <td id=\"T_c0828a66_881e_11e9_a644_186024eae6c5row3_col2\" class=\"data row3 col2\" ></td> \n",
       "        <td id=\"T_c0828a66_881e_11e9_a644_186024eae6c5row3_col3\" class=\"data row3 col3\" >B</td> \n",
       "        <td id=\"T_c0828a66_881e_11e9_a644_186024eae6c5row3_col4\" class=\"data row3 col4\" ></td> \n",
       "        <td id=\"T_c0828a66_881e_11e9_a644_186024eae6c5row3_col5\" class=\"data row3 col5\" ></td> \n",
       "        <td id=\"T_c0828a66_881e_11e9_a644_186024eae6c5row3_col6\" class=\"data row3 col6\" >R</td> \n",
       "        <td id=\"T_c0828a66_881e_11e9_a644_186024eae6c5row3_col7\" class=\"data row3 col7\" ></td> \n",
       "        <td id=\"T_c0828a66_881e_11e9_a644_186024eae6c5row3_col8\" class=\"data row3 col8\" >U</td> \n",
       "        <td id=\"T_c0828a66_881e_11e9_a644_186024eae6c5row3_col9\" class=\"data row3 col9\" >K</td> \n",
       "    </tr>    <tr> \n",
       "        <th id=\"T_c0828a66_881e_11e9_a644_186024eae6c5level0_row4\" class=\"row_heading level0 row4\" >4</th> \n",
       "        <td id=\"T_c0828a66_881e_11e9_a644_186024eae6c5row4_col0\" class=\"data row4 col0\" ></td> \n",
       "        <td id=\"T_c0828a66_881e_11e9_a644_186024eae6c5row4_col1\" class=\"data row4 col1\" >R</td> \n",
       "        <td id=\"T_c0828a66_881e_11e9_a644_186024eae6c5row4_col2\" class=\"data row4 col2\" ></td> \n",
       "        <td id=\"T_c0828a66_881e_11e9_a644_186024eae6c5row4_col3\" class=\"data row4 col3\" >E</td> \n",
       "        <td id=\"T_c0828a66_881e_11e9_a644_186024eae6c5row4_col4\" class=\"data row4 col4\" ></td> \n",
       "        <td id=\"T_c0828a66_881e_11e9_a644_186024eae6c5row4_col5\" class=\"data row4 col5\" ></td> \n",
       "        <td id=\"T_c0828a66_881e_11e9_a644_186024eae6c5row4_col6\" class=\"data row4 col6\" >A</td> \n",
       "        <td id=\"T_c0828a66_881e_11e9_a644_186024eae6c5row4_col7\" class=\"data row4 col7\" ></td> \n",
       "        <td id=\"T_c0828a66_881e_11e9_a644_186024eae6c5row4_col8\" class=\"data row4 col8\" >A</td> \n",
       "        <td id=\"T_c0828a66_881e_11e9_a644_186024eae6c5row4_col9\" class=\"data row4 col9\" ></td> \n",
       "    </tr>    <tr> \n",
       "        <th id=\"T_c0828a66_881e_11e9_a644_186024eae6c5level0_row5\" class=\"row_heading level0 row5\" >5</th> \n",
       "        <td id=\"T_c0828a66_881e_11e9_a644_186024eae6c5row5_col0\" class=\"data row5 col0\" ></td> \n",
       "        <td id=\"T_c0828a66_881e_11e9_a644_186024eae6c5row5_col1\" class=\"data row5 col1\" >B</td> \n",
       "        <td id=\"T_c0828a66_881e_11e9_a644_186024eae6c5row5_col2\" class=\"data row5 col2\" >O</td> \n",
       "        <td id=\"T_c0828a66_881e_11e9_a644_186024eae6c5row5_col3\" class=\"data row5 col3\" >L</td> \n",
       "        <td id=\"T_c0828a66_881e_11e9_a644_186024eae6c5row5_col4\" class=\"data row5 col4\" >I</td> \n",
       "        <td id=\"T_c0828a66_881e_11e9_a644_186024eae6c5row5_col5\" class=\"data row5 col5\" >V</td> \n",
       "        <td id=\"T_c0828a66_881e_11e9_a644_186024eae6c5row5_col6\" class=\"data row5 col6\" >I</td> \n",
       "        <td id=\"T_c0828a66_881e_11e9_a644_186024eae6c5row5_col7\" class=\"data row5 col7\" >A</td> \n",
       "        <td id=\"T_c0828a66_881e_11e9_a644_186024eae6c5row5_col8\" class=\"data row5 col8\" ></td> \n",
       "        <td id=\"T_c0828a66_881e_11e9_a644_186024eae6c5row5_col9\" class=\"data row5 col9\" >M</td> \n",
       "    </tr>    <tr> \n",
       "        <th id=\"T_c0828a66_881e_11e9_a644_186024eae6c5level0_row6\" class=\"row_heading level0 row6\" >6</th> \n",
       "        <td id=\"T_c0828a66_881e_11e9_a644_186024eae6c5row6_col0\" class=\"data row6 col0\" ></td> \n",
       "        <td id=\"T_c0828a66_881e_11e9_a644_186024eae6c5row6_col1\" class=\"data row6 col1\" >U</td> \n",
       "        <td id=\"T_c0828a66_881e_11e9_a644_186024eae6c5row6_col2\" class=\"data row6 col2\" ></td> \n",
       "        <td id=\"T_c0828a66_881e_11e9_a644_186024eae6c5row6_col3\" class=\"data row6 col3\" >A</td> \n",
       "        <td id=\"T_c0828a66_881e_11e9_a644_186024eae6c5row6_col4\" class=\"data row6 col4\" ></td> \n",
       "        <td id=\"T_c0828a66_881e_11e9_a644_186024eae6c5row6_col5\" class=\"data row6 col5\" ></td> \n",
       "        <td id=\"T_c0828a66_881e_11e9_a644_186024eae6c5row6_col6\" class=\"data row6 col6\" >N</td> \n",
       "        <td id=\"T_c0828a66_881e_11e9_a644_186024eae6c5row6_col7\" class=\"data row6 col7\" ></td> \n",
       "        <td id=\"T_c0828a66_881e_11e9_a644_186024eae6c5row6_col8\" class=\"data row6 col8\" ></td> \n",
       "        <td id=\"T_c0828a66_881e_11e9_a644_186024eae6c5row6_col9\" class=\"data row6 col9\" >A</td> \n",
       "    </tr>    <tr> \n",
       "        <th id=\"T_c0828a66_881e_11e9_a644_186024eae6c5level0_row7\" class=\"row_heading level0 row7\" >7</th> \n",
       "        <td id=\"T_c0828a66_881e_11e9_a644_186024eae6c5row7_col0\" class=\"data row7 col0\" ></td> \n",
       "        <td id=\"T_c0828a66_881e_11e9_a644_186024eae6c5row7_col1\" class=\"data row7 col1\" >D</td> \n",
       "        <td id=\"T_c0828a66_881e_11e9_a644_186024eae6c5row7_col2\" class=\"data row7 col2\" ></td> \n",
       "        <td id=\"T_c0828a66_881e_11e9_a644_186024eae6c5row7_col3\" class=\"data row7 col3\" >R</td> \n",
       "        <td id=\"T_c0828a66_881e_11e9_a644_186024eae6c5row7_col4\" class=\"data row7 col4\" ></td> \n",
       "        <td id=\"T_c0828a66_881e_11e9_a644_186024eae6c5row7_col5\" class=\"data row7 col5\" >N</td> \n",
       "        <td id=\"T_c0828a66_881e_11e9_a644_186024eae6c5row7_col6\" class=\"data row7 col6\" >E</td> \n",
       "        <td id=\"T_c0828a66_881e_11e9_a644_186024eae6c5row7_col7\" class=\"data row7 col7\" >P</td> \n",
       "        <td id=\"T_c0828a66_881e_11e9_a644_186024eae6c5row7_col8\" class=\"data row7 col8\" >A</td> \n",
       "        <td id=\"T_c0828a66_881e_11e9_a644_186024eae6c5row7_col9\" class=\"data row7 col9\" >L</td> \n",
       "    </tr>    <tr> \n",
       "        <th id=\"T_c0828a66_881e_11e9_a644_186024eae6c5level0_row8\" class=\"row_heading level0 row8\" >8</th> \n",
       "        <td id=\"T_c0828a66_881e_11e9_a644_186024eae6c5row8_col0\" class=\"data row8 col0\" ></td> \n",
       "        <td id=\"T_c0828a66_881e_11e9_a644_186024eae6c5row8_col1\" class=\"data row8 col1\" >A</td> \n",
       "        <td id=\"T_c0828a66_881e_11e9_a644_186024eae6c5row8_col2\" class=\"data row8 col2\" ></td> \n",
       "        <td id=\"T_c0828a66_881e_11e9_a644_186024eae6c5row8_col3\" class=\"data row8 col3\" >U</td> \n",
       "        <td id=\"T_c0828a66_881e_11e9_a644_186024eae6c5row8_col4\" class=\"data row8 col4\" ></td> \n",
       "        <td id=\"T_c0828a66_881e_11e9_a644_186024eae6c5row8_col5\" class=\"data row8 col5\" ></td> \n",
       "        <td id=\"T_c0828a66_881e_11e9_a644_186024eae6c5row8_col6\" class=\"data row8 col6\" ></td> \n",
       "        <td id=\"T_c0828a66_881e_11e9_a644_186024eae6c5row8_col7\" class=\"data row8 col7\" ></td> \n",
       "        <td id=\"T_c0828a66_881e_11e9_a644_186024eae6c5row8_col8\" class=\"data row8 col8\" ></td> \n",
       "        <td id=\"T_c0828a66_881e_11e9_a644_186024eae6c5row8_col9\" class=\"data row8 col9\" >I</td> \n",
       "    </tr>    <tr> \n",
       "        <th id=\"T_c0828a66_881e_11e9_a644_186024eae6c5level0_row9\" class=\"row_heading level0 row9\" >9</th> \n",
       "        <td id=\"T_c0828a66_881e_11e9_a644_186024eae6c5row9_col0\" class=\"data row9 col0\" ></td> \n",
       "        <td id=\"T_c0828a66_881e_11e9_a644_186024eae6c5row9_col1\" class=\"data row9 col1\" ></td> \n",
       "        <td id=\"T_c0828a66_881e_11e9_a644_186024eae6c5row9_col2\" class=\"data row9 col2\" >E</td> \n",
       "        <td id=\"T_c0828a66_881e_11e9_a644_186024eae6c5row9_col3\" class=\"data row9 col3\" >S</td> \n",
       "        <td id=\"T_c0828a66_881e_11e9_a644_186024eae6c5row9_col4\" class=\"data row9 col4\" >T</td> \n",
       "        <td id=\"T_c0828a66_881e_11e9_a644_186024eae6c5row9_col5\" class=\"data row9 col5\" >O</td> \n",
       "        <td id=\"T_c0828a66_881e_11e9_a644_186024eae6c5row9_col6\" class=\"data row9 col6\" >N</td> \n",
       "        <td id=\"T_c0828a66_881e_11e9_a644_186024eae6c5row9_col7\" class=\"data row9 col7\" >I</td> \n",
       "        <td id=\"T_c0828a66_881e_11e9_a644_186024eae6c5row9_col8\" class=\"data row9 col8\" >A</td> \n",
       "        <td id=\"T_c0828a66_881e_11e9_a644_186024eae6c5row9_col9\" class=\"data row9 col9\" ></td> \n",
       "    </tr></tbody> \n",
       "</table> "
      ],
      "text/plain": [
       "<pandas.io.formats.style.Styler at 0x1440c1a8a90>"
      ]
     },
     "metadata": {},
     "output_type": "display_data"
    },
    {
     "name": "stdout",
     "output_type": "stream",
     "text": [
      "Epock 1/10\n",
      " Stayed\n",
      "Epock 2/10\n",
      " Improved - score[3]: 68\n"
     ]
    },
    {
     "data": {
      "text/html": [
       "<style  type=\"text/css\" >\n",
       "    #T_c185f09e_881e_11e9_a434_186024eae6c5 th {\n",
       "          font-size: 90%;\n",
       "          text-align: center;\n",
       "          color: #ffffff;\n",
       "          background: #777777;\n",
       "          border: solid 1px white;\n",
       "          width: 30px;\n",
       "          height: 30px;\n",
       "    }    #T_c185f09e_881e_11e9_a434_186024eae6c5 td {\n",
       "          font-size: 105%;\n",
       "          text-align: center;\n",
       "          color: #161616;\n",
       "          background: #dddddd;\n",
       "          border: solid 1px white;\n",
       "          width: 30px;\n",
       "          height: 30px;\n",
       "    }    #T_c185f09e_881e_11e9_a434_186024eae6c5 caption {\n",
       "          caption-side: bottom;\n",
       "    }</style>  \n",
       "<table id=\"T_c185f09e_881e_11e9_a434_186024eae6c5\" ><caption>Puzzle(10,10), Seed:1, solSize:10 Dictionary:[../dict/countries.txt]</caption> \n",
       "<thead>    <tr> \n",
       "        <th class=\"blank level0\" ></th> \n",
       "        <th class=\"col_heading level0 col0\" >0</th> \n",
       "        <th class=\"col_heading level0 col1\" >1</th> \n",
       "        <th class=\"col_heading level0 col2\" >2</th> \n",
       "        <th class=\"col_heading level0 col3\" >3</th> \n",
       "        <th class=\"col_heading level0 col4\" >4</th> \n",
       "        <th class=\"col_heading level0 col5\" >5</th> \n",
       "        <th class=\"col_heading level0 col6\" >6</th> \n",
       "        <th class=\"col_heading level0 col7\" >7</th> \n",
       "        <th class=\"col_heading level0 col8\" >8</th> \n",
       "        <th class=\"col_heading level0 col9\" >9</th> \n",
       "    </tr></thead> \n",
       "<tbody>    <tr> \n",
       "        <th id=\"T_c185f09e_881e_11e9_a434_186024eae6c5level0_row0\" class=\"row_heading level0 row0\" >0</th> \n",
       "        <td id=\"T_c185f09e_881e_11e9_a434_186024eae6c5row0_col0\" class=\"data row0 col0\" ></td> \n",
       "        <td id=\"T_c185f09e_881e_11e9_a434_186024eae6c5row0_col1\" class=\"data row0 col1\" ></td> \n",
       "        <td id=\"T_c185f09e_881e_11e9_a434_186024eae6c5row0_col2\" class=\"data row0 col2\" ></td> \n",
       "        <td id=\"T_c185f09e_881e_11e9_a434_186024eae6c5row0_col3\" class=\"data row0 col3\" ></td> \n",
       "        <td id=\"T_c185f09e_881e_11e9_a434_186024eae6c5row0_col4\" class=\"data row0 col4\" ></td> \n",
       "        <td id=\"T_c185f09e_881e_11e9_a434_186024eae6c5row0_col5\" class=\"data row0 col5\" ></td> \n",
       "        <td id=\"T_c185f09e_881e_11e9_a434_186024eae6c5row0_col6\" class=\"data row0 col6\" ></td> \n",
       "        <td id=\"T_c185f09e_881e_11e9_a434_186024eae6c5row0_col7\" class=\"data row0 col7\" ></td> \n",
       "        <td id=\"T_c185f09e_881e_11e9_a434_186024eae6c5row0_col8\" class=\"data row0 col8\" >G</td> \n",
       "        <td id=\"T_c185f09e_881e_11e9_a434_186024eae6c5row0_col9\" class=\"data row0 col9\" ></td> \n",
       "    </tr>    <tr> \n",
       "        <th id=\"T_c185f09e_881e_11e9_a434_186024eae6c5level0_row1\" class=\"row_heading level0 row1\" >1</th> \n",
       "        <td id=\"T_c185f09e_881e_11e9_a434_186024eae6c5row1_col0\" class=\"data row1 col0\" ></td> \n",
       "        <td id=\"T_c185f09e_881e_11e9_a434_186024eae6c5row1_col1\" class=\"data row1 col1\" ></td> \n",
       "        <td id=\"T_c185f09e_881e_11e9_a434_186024eae6c5row1_col2\" class=\"data row1 col2\" ></td> \n",
       "        <td id=\"T_c185f09e_881e_11e9_a434_186024eae6c5row1_col3\" class=\"data row1 col3\" ></td> \n",
       "        <td id=\"T_c185f09e_881e_11e9_a434_186024eae6c5row1_col4\" class=\"data row1 col4\" ></td> \n",
       "        <td id=\"T_c185f09e_881e_11e9_a434_186024eae6c5row1_col5\" class=\"data row1 col5\" ></td> \n",
       "        <td id=\"T_c185f09e_881e_11e9_a434_186024eae6c5row1_col6\" class=\"data row1 col6\" >U</td> \n",
       "        <td id=\"T_c185f09e_881e_11e9_a434_186024eae6c5row1_col7\" class=\"data row1 col7\" >S</td> \n",
       "        <td id=\"T_c185f09e_881e_11e9_a434_186024eae6c5row1_col8\" class=\"data row1 col8\" >A</td> \n",
       "        <td id=\"T_c185f09e_881e_11e9_a434_186024eae6c5row1_col9\" class=\"data row1 col9\" ></td> \n",
       "    </tr>    <tr> \n",
       "        <th id=\"T_c185f09e_881e_11e9_a434_186024eae6c5level0_row2\" class=\"row_heading level0 row2\" >2</th> \n",
       "        <td id=\"T_c185f09e_881e_11e9_a434_186024eae6c5row2_col0\" class=\"data row2 col0\" ></td> \n",
       "        <td id=\"T_c185f09e_881e_11e9_a434_186024eae6c5row2_col1\" class=\"data row2 col1\" >B</td> \n",
       "        <td id=\"T_c185f09e_881e_11e9_a434_186024eae6c5row2_col2\" class=\"data row2 col2\" ></td> \n",
       "        <td id=\"T_c185f09e_881e_11e9_a434_186024eae6c5row2_col3\" class=\"data row2 col3\" ></td> \n",
       "        <td id=\"T_c185f09e_881e_11e9_a434_186024eae6c5row2_col4\" class=\"data row2 col4\" ></td> \n",
       "        <td id=\"T_c185f09e_881e_11e9_a434_186024eae6c5row2_col5\" class=\"data row2 col5\" >U</td> \n",
       "        <td id=\"T_c185f09e_881e_11e9_a434_186024eae6c5row2_col6\" class=\"data row2 col6\" >K</td> \n",
       "        <td id=\"T_c185f09e_881e_11e9_a434_186024eae6c5row2_col7\" class=\"data row2 col7\" ></td> \n",
       "        <td id=\"T_c185f09e_881e_11e9_a434_186024eae6c5row2_col8\" class=\"data row2 col8\" >B</td> \n",
       "        <td id=\"T_c185f09e_881e_11e9_a434_186024eae6c5row2_col9\" class=\"data row2 col9\" ></td> \n",
       "    </tr>    <tr> \n",
       "        <th id=\"T_c185f09e_881e_11e9_a434_186024eae6c5level0_row3\" class=\"row_heading level0 row3\" >3</th> \n",
       "        <td id=\"T_c185f09e_881e_11e9_a434_186024eae6c5row3_col0\" class=\"data row3 col0\" ></td> \n",
       "        <td id=\"T_c185f09e_881e_11e9_a434_186024eae6c5row3_col1\" class=\"data row3 col1\" >A</td> \n",
       "        <td id=\"T_c185f09e_881e_11e9_a434_186024eae6c5row3_col2\" class=\"data row3 col2\" ></td> \n",
       "        <td id=\"T_c185f09e_881e_11e9_a434_186024eae6c5row3_col3\" class=\"data row3 col3\" >B</td> \n",
       "        <td id=\"T_c185f09e_881e_11e9_a434_186024eae6c5row3_col4\" class=\"data row3 col4\" ></td> \n",
       "        <td id=\"T_c185f09e_881e_11e9_a434_186024eae6c5row3_col5\" class=\"data row3 col5\" ></td> \n",
       "        <td id=\"T_c185f09e_881e_11e9_a434_186024eae6c5row3_col6\" class=\"data row3 col6\" >R</td> \n",
       "        <td id=\"T_c185f09e_881e_11e9_a434_186024eae6c5row3_col7\" class=\"data row3 col7\" ></td> \n",
       "        <td id=\"T_c185f09e_881e_11e9_a434_186024eae6c5row3_col8\" class=\"data row3 col8\" >O</td> \n",
       "        <td id=\"T_c185f09e_881e_11e9_a434_186024eae6c5row3_col9\" class=\"data row3 col9\" ></td> \n",
       "    </tr>    <tr> \n",
       "        <th id=\"T_c185f09e_881e_11e9_a434_186024eae6c5level0_row4\" class=\"row_heading level0 row4\" >4</th> \n",
       "        <td id=\"T_c185f09e_881e_11e9_a434_186024eae6c5row4_col0\" class=\"data row4 col0\" ></td> \n",
       "        <td id=\"T_c185f09e_881e_11e9_a434_186024eae6c5row4_col1\" class=\"data row4 col1\" >R</td> \n",
       "        <td id=\"T_c185f09e_881e_11e9_a434_186024eae6c5row4_col2\" class=\"data row4 col2\" ></td> \n",
       "        <td id=\"T_c185f09e_881e_11e9_a434_186024eae6c5row4_col3\" class=\"data row4 col3\" >E</td> \n",
       "        <td id=\"T_c185f09e_881e_11e9_a434_186024eae6c5row4_col4\" class=\"data row4 col4\" ></td> \n",
       "        <td id=\"T_c185f09e_881e_11e9_a434_186024eae6c5row4_col5\" class=\"data row4 col5\" ></td> \n",
       "        <td id=\"T_c185f09e_881e_11e9_a434_186024eae6c5row4_col6\" class=\"data row4 col6\" >A</td> \n",
       "        <td id=\"T_c185f09e_881e_11e9_a434_186024eae6c5row4_col7\" class=\"data row4 col7\" ></td> \n",
       "        <td id=\"T_c185f09e_881e_11e9_a434_186024eae6c5row4_col8\" class=\"data row4 col8\" >N</td> \n",
       "        <td id=\"T_c185f09e_881e_11e9_a434_186024eae6c5row4_col9\" class=\"data row4 col9\" ></td> \n",
       "    </tr>    <tr> \n",
       "        <th id=\"T_c185f09e_881e_11e9_a434_186024eae6c5level0_row5\" class=\"row_heading level0 row5\" >5</th> \n",
       "        <td id=\"T_c185f09e_881e_11e9_a434_186024eae6c5row5_col0\" class=\"data row5 col0\" ></td> \n",
       "        <td id=\"T_c185f09e_881e_11e9_a434_186024eae6c5row5_col1\" class=\"data row5 col1\" >B</td> \n",
       "        <td id=\"T_c185f09e_881e_11e9_a434_186024eae6c5row5_col2\" class=\"data row5 col2\" >O</td> \n",
       "        <td id=\"T_c185f09e_881e_11e9_a434_186024eae6c5row5_col3\" class=\"data row5 col3\" >L</td> \n",
       "        <td id=\"T_c185f09e_881e_11e9_a434_186024eae6c5row5_col4\" class=\"data row5 col4\" >I</td> \n",
       "        <td id=\"T_c185f09e_881e_11e9_a434_186024eae6c5row5_col5\" class=\"data row5 col5\" >V</td> \n",
       "        <td id=\"T_c185f09e_881e_11e9_a434_186024eae6c5row5_col6\" class=\"data row5 col6\" >I</td> \n",
       "        <td id=\"T_c185f09e_881e_11e9_a434_186024eae6c5row5_col7\" class=\"data row5 col7\" >A</td> \n",
       "        <td id=\"T_c185f09e_881e_11e9_a434_186024eae6c5row5_col8\" class=\"data row5 col8\" ></td> \n",
       "        <td id=\"T_c185f09e_881e_11e9_a434_186024eae6c5row5_col9\" class=\"data row5 col9\" >M</td> \n",
       "    </tr>    <tr> \n",
       "        <th id=\"T_c185f09e_881e_11e9_a434_186024eae6c5level0_row6\" class=\"row_heading level0 row6\" >6</th> \n",
       "        <td id=\"T_c185f09e_881e_11e9_a434_186024eae6c5row6_col0\" class=\"data row6 col0\" ></td> \n",
       "        <td id=\"T_c185f09e_881e_11e9_a434_186024eae6c5row6_col1\" class=\"data row6 col1\" >U</td> \n",
       "        <td id=\"T_c185f09e_881e_11e9_a434_186024eae6c5row6_col2\" class=\"data row6 col2\" ></td> \n",
       "        <td id=\"T_c185f09e_881e_11e9_a434_186024eae6c5row6_col3\" class=\"data row6 col3\" >A</td> \n",
       "        <td id=\"T_c185f09e_881e_11e9_a434_186024eae6c5row6_col4\" class=\"data row6 col4\" ></td> \n",
       "        <td id=\"T_c185f09e_881e_11e9_a434_186024eae6c5row6_col5\" class=\"data row6 col5\" ></td> \n",
       "        <td id=\"T_c185f09e_881e_11e9_a434_186024eae6c5row6_col6\" class=\"data row6 col6\" >N</td> \n",
       "        <td id=\"T_c185f09e_881e_11e9_a434_186024eae6c5row6_col7\" class=\"data row6 col7\" ></td> \n",
       "        <td id=\"T_c185f09e_881e_11e9_a434_186024eae6c5row6_col8\" class=\"data row6 col8\" ></td> \n",
       "        <td id=\"T_c185f09e_881e_11e9_a434_186024eae6c5row6_col9\" class=\"data row6 col9\" >A</td> \n",
       "    </tr>    <tr> \n",
       "        <th id=\"T_c185f09e_881e_11e9_a434_186024eae6c5level0_row7\" class=\"row_heading level0 row7\" >7</th> \n",
       "        <td id=\"T_c185f09e_881e_11e9_a434_186024eae6c5row7_col0\" class=\"data row7 col0\" ></td> \n",
       "        <td id=\"T_c185f09e_881e_11e9_a434_186024eae6c5row7_col1\" class=\"data row7 col1\" >D</td> \n",
       "        <td id=\"T_c185f09e_881e_11e9_a434_186024eae6c5row7_col2\" class=\"data row7 col2\" ></td> \n",
       "        <td id=\"T_c185f09e_881e_11e9_a434_186024eae6c5row7_col3\" class=\"data row7 col3\" >R</td> \n",
       "        <td id=\"T_c185f09e_881e_11e9_a434_186024eae6c5row7_col4\" class=\"data row7 col4\" ></td> \n",
       "        <td id=\"T_c185f09e_881e_11e9_a434_186024eae6c5row7_col5\" class=\"data row7 col5\" >N</td> \n",
       "        <td id=\"T_c185f09e_881e_11e9_a434_186024eae6c5row7_col6\" class=\"data row7 col6\" >E</td> \n",
       "        <td id=\"T_c185f09e_881e_11e9_a434_186024eae6c5row7_col7\" class=\"data row7 col7\" >P</td> \n",
       "        <td id=\"T_c185f09e_881e_11e9_a434_186024eae6c5row7_col8\" class=\"data row7 col8\" >A</td> \n",
       "        <td id=\"T_c185f09e_881e_11e9_a434_186024eae6c5row7_col9\" class=\"data row7 col9\" >L</td> \n",
       "    </tr>    <tr> \n",
       "        <th id=\"T_c185f09e_881e_11e9_a434_186024eae6c5level0_row8\" class=\"row_heading level0 row8\" >8</th> \n",
       "        <td id=\"T_c185f09e_881e_11e9_a434_186024eae6c5row8_col0\" class=\"data row8 col0\" ></td> \n",
       "        <td id=\"T_c185f09e_881e_11e9_a434_186024eae6c5row8_col1\" class=\"data row8 col1\" >A</td> \n",
       "        <td id=\"T_c185f09e_881e_11e9_a434_186024eae6c5row8_col2\" class=\"data row8 col2\" ></td> \n",
       "        <td id=\"T_c185f09e_881e_11e9_a434_186024eae6c5row8_col3\" class=\"data row8 col3\" >U</td> \n",
       "        <td id=\"T_c185f09e_881e_11e9_a434_186024eae6c5row8_col4\" class=\"data row8 col4\" ></td> \n",
       "        <td id=\"T_c185f09e_881e_11e9_a434_186024eae6c5row8_col5\" class=\"data row8 col5\" ></td> \n",
       "        <td id=\"T_c185f09e_881e_11e9_a434_186024eae6c5row8_col6\" class=\"data row8 col6\" ></td> \n",
       "        <td id=\"T_c185f09e_881e_11e9_a434_186024eae6c5row8_col7\" class=\"data row8 col7\" ></td> \n",
       "        <td id=\"T_c185f09e_881e_11e9_a434_186024eae6c5row8_col8\" class=\"data row8 col8\" ></td> \n",
       "        <td id=\"T_c185f09e_881e_11e9_a434_186024eae6c5row8_col9\" class=\"data row8 col9\" >I</td> \n",
       "    </tr>    <tr> \n",
       "        <th id=\"T_c185f09e_881e_11e9_a434_186024eae6c5level0_row9\" class=\"row_heading level0 row9\" >9</th> \n",
       "        <td id=\"T_c185f09e_881e_11e9_a434_186024eae6c5row9_col0\" class=\"data row9 col0\" ></td> \n",
       "        <td id=\"T_c185f09e_881e_11e9_a434_186024eae6c5row9_col1\" class=\"data row9 col1\" ></td> \n",
       "        <td id=\"T_c185f09e_881e_11e9_a434_186024eae6c5row9_col2\" class=\"data row9 col2\" >E</td> \n",
       "        <td id=\"T_c185f09e_881e_11e9_a434_186024eae6c5row9_col3\" class=\"data row9 col3\" >S</td> \n",
       "        <td id=\"T_c185f09e_881e_11e9_a434_186024eae6c5row9_col4\" class=\"data row9 col4\" >T</td> \n",
       "        <td id=\"T_c185f09e_881e_11e9_a434_186024eae6c5row9_col5\" class=\"data row9 col5\" >O</td> \n",
       "        <td id=\"T_c185f09e_881e_11e9_a434_186024eae6c5row9_col6\" class=\"data row9 col6\" >N</td> \n",
       "        <td id=\"T_c185f09e_881e_11e9_a434_186024eae6c5row9_col7\" class=\"data row9 col7\" >I</td> \n",
       "        <td id=\"T_c185f09e_881e_11e9_a434_186024eae6c5row9_col8\" class=\"data row9 col8\" >A</td> \n",
       "        <td id=\"T_c185f09e_881e_11e9_a434_186024eae6c5row9_col9\" class=\"data row9 col9\" ></td> \n",
       "    </tr></tbody> \n",
       "</table> "
      ],
      "text/plain": [
       "<pandas.io.formats.style.Styler at 0x1440d701908>"
      ]
     },
     "metadata": {},
     "output_type": "display_data"
    },
    {
     "name": "stdout",
     "output_type": "stream",
     "text": [
      "Epock 3/10\n",
      " Improved - score[0]: 11\n"
     ]
    },
    {
     "data": {
      "text/html": [
       "<style  type=\"text/css\" >\n",
       "    #T_c1f86190_881e_11e9_b64e_186024eae6c5 th {\n",
       "          font-size: 90%;\n",
       "          text-align: center;\n",
       "          color: #ffffff;\n",
       "          background: #777777;\n",
       "          border: solid 1px white;\n",
       "          width: 30px;\n",
       "          height: 30px;\n",
       "    }    #T_c1f86190_881e_11e9_b64e_186024eae6c5 td {\n",
       "          font-size: 105%;\n",
       "          text-align: center;\n",
       "          color: #161616;\n",
       "          background: #dddddd;\n",
       "          border: solid 1px white;\n",
       "          width: 30px;\n",
       "          height: 30px;\n",
       "    }    #T_c1f86190_881e_11e9_b64e_186024eae6c5 caption {\n",
       "          caption-side: bottom;\n",
       "    }</style>  \n",
       "<table id=\"T_c1f86190_881e_11e9_b64e_186024eae6c5\" ><caption>Puzzle(10,10), Seed:1, solSize:11 Dictionary:[../dict/countries.txt]</caption> \n",
       "<thead>    <tr> \n",
       "        <th class=\"blank level0\" ></th> \n",
       "        <th class=\"col_heading level0 col0\" >0</th> \n",
       "        <th class=\"col_heading level0 col1\" >1</th> \n",
       "        <th class=\"col_heading level0 col2\" >2</th> \n",
       "        <th class=\"col_heading level0 col3\" >3</th> \n",
       "        <th class=\"col_heading level0 col4\" >4</th> \n",
       "        <th class=\"col_heading level0 col5\" >5</th> \n",
       "        <th class=\"col_heading level0 col6\" >6</th> \n",
       "        <th class=\"col_heading level0 col7\" >7</th> \n",
       "        <th class=\"col_heading level0 col8\" >8</th> \n",
       "        <th class=\"col_heading level0 col9\" >9</th> \n",
       "    </tr></thead> \n",
       "<tbody>    <tr> \n",
       "        <th id=\"T_c1f86190_881e_11e9_b64e_186024eae6c5level0_row0\" class=\"row_heading level0 row0\" >0</th> \n",
       "        <td id=\"T_c1f86190_881e_11e9_b64e_186024eae6c5row0_col0\" class=\"data row0 col0\" ></td> \n",
       "        <td id=\"T_c1f86190_881e_11e9_b64e_186024eae6c5row0_col1\" class=\"data row0 col1\" ></td> \n",
       "        <td id=\"T_c1f86190_881e_11e9_b64e_186024eae6c5row0_col2\" class=\"data row0 col2\" ></td> \n",
       "        <td id=\"T_c1f86190_881e_11e9_b64e_186024eae6c5row0_col3\" class=\"data row0 col3\" ></td> \n",
       "        <td id=\"T_c1f86190_881e_11e9_b64e_186024eae6c5row0_col4\" class=\"data row0 col4\" ></td> \n",
       "        <td id=\"T_c1f86190_881e_11e9_b64e_186024eae6c5row0_col5\" class=\"data row0 col5\" ></td> \n",
       "        <td id=\"T_c1f86190_881e_11e9_b64e_186024eae6c5row0_col6\" class=\"data row0 col6\" ></td> \n",
       "        <td id=\"T_c1f86190_881e_11e9_b64e_186024eae6c5row0_col7\" class=\"data row0 col7\" ></td> \n",
       "        <td id=\"T_c1f86190_881e_11e9_b64e_186024eae6c5row0_col8\" class=\"data row0 col8\" >N</td> \n",
       "        <td id=\"T_c1f86190_881e_11e9_b64e_186024eae6c5row0_col9\" class=\"data row0 col9\" ></td> \n",
       "    </tr>    <tr> \n",
       "        <th id=\"T_c1f86190_881e_11e9_b64e_186024eae6c5level0_row1\" class=\"row_heading level0 row1\" >1</th> \n",
       "        <td id=\"T_c1f86190_881e_11e9_b64e_186024eae6c5row1_col0\" class=\"data row1 col0\" ></td> \n",
       "        <td id=\"T_c1f86190_881e_11e9_b64e_186024eae6c5row1_col1\" class=\"data row1 col1\" ></td> \n",
       "        <td id=\"T_c1f86190_881e_11e9_b64e_186024eae6c5row1_col2\" class=\"data row1 col2\" ></td> \n",
       "        <td id=\"T_c1f86190_881e_11e9_b64e_186024eae6c5row1_col3\" class=\"data row1 col3\" ></td> \n",
       "        <td id=\"T_c1f86190_881e_11e9_b64e_186024eae6c5row1_col4\" class=\"data row1 col4\" ></td> \n",
       "        <td id=\"T_c1f86190_881e_11e9_b64e_186024eae6c5row1_col5\" class=\"data row1 col5\" ></td> \n",
       "        <td id=\"T_c1f86190_881e_11e9_b64e_186024eae6c5row1_col6\" class=\"data row1 col6\" >U</td> \n",
       "        <td id=\"T_c1f86190_881e_11e9_b64e_186024eae6c5row1_col7\" class=\"data row1 col7\" >S</td> \n",
       "        <td id=\"T_c1f86190_881e_11e9_b64e_186024eae6c5row1_col8\" class=\"data row1 col8\" >A</td> \n",
       "        <td id=\"T_c1f86190_881e_11e9_b64e_186024eae6c5row1_col9\" class=\"data row1 col9\" ></td> \n",
       "    </tr>    <tr> \n",
       "        <th id=\"T_c1f86190_881e_11e9_b64e_186024eae6c5level0_row2\" class=\"row_heading level0 row2\" >2</th> \n",
       "        <td id=\"T_c1f86190_881e_11e9_b64e_186024eae6c5row2_col0\" class=\"data row2 col0\" ></td> \n",
       "        <td id=\"T_c1f86190_881e_11e9_b64e_186024eae6c5row2_col1\" class=\"data row2 col1\" >B</td> \n",
       "        <td id=\"T_c1f86190_881e_11e9_b64e_186024eae6c5row2_col2\" class=\"data row2 col2\" ></td> \n",
       "        <td id=\"T_c1f86190_881e_11e9_b64e_186024eae6c5row2_col3\" class=\"data row2 col3\" ></td> \n",
       "        <td id=\"T_c1f86190_881e_11e9_b64e_186024eae6c5row2_col4\" class=\"data row2 col4\" ></td> \n",
       "        <td id=\"T_c1f86190_881e_11e9_b64e_186024eae6c5row2_col5\" class=\"data row2 col5\" >U</td> \n",
       "        <td id=\"T_c1f86190_881e_11e9_b64e_186024eae6c5row2_col6\" class=\"data row2 col6\" >K</td> \n",
       "        <td id=\"T_c1f86190_881e_11e9_b64e_186024eae6c5row2_col7\" class=\"data row2 col7\" ></td> \n",
       "        <td id=\"T_c1f86190_881e_11e9_b64e_186024eae6c5row2_col8\" class=\"data row2 col8\" >U</td> \n",
       "        <td id=\"T_c1f86190_881e_11e9_b64e_186024eae6c5row2_col9\" class=\"data row2 col9\" >S</td> \n",
       "    </tr>    <tr> \n",
       "        <th id=\"T_c1f86190_881e_11e9_b64e_186024eae6c5level0_row3\" class=\"row_heading level0 row3\" >3</th> \n",
       "        <td id=\"T_c1f86190_881e_11e9_b64e_186024eae6c5row3_col0\" class=\"data row3 col0\" ></td> \n",
       "        <td id=\"T_c1f86190_881e_11e9_b64e_186024eae6c5row3_col1\" class=\"data row3 col1\" >A</td> \n",
       "        <td id=\"T_c1f86190_881e_11e9_b64e_186024eae6c5row3_col2\" class=\"data row3 col2\" ></td> \n",
       "        <td id=\"T_c1f86190_881e_11e9_b64e_186024eae6c5row3_col3\" class=\"data row3 col3\" >B</td> \n",
       "        <td id=\"T_c1f86190_881e_11e9_b64e_186024eae6c5row3_col4\" class=\"data row3 col4\" ></td> \n",
       "        <td id=\"T_c1f86190_881e_11e9_b64e_186024eae6c5row3_col5\" class=\"data row3 col5\" ></td> \n",
       "        <td id=\"T_c1f86190_881e_11e9_b64e_186024eae6c5row3_col6\" class=\"data row3 col6\" >R</td> \n",
       "        <td id=\"T_c1f86190_881e_11e9_b64e_186024eae6c5row3_col7\" class=\"data row3 col7\" ></td> \n",
       "        <td id=\"T_c1f86190_881e_11e9_b64e_186024eae6c5row3_col8\" class=\"data row3 col8\" >R</td> \n",
       "        <td id=\"T_c1f86190_881e_11e9_b64e_186024eae6c5row3_col9\" class=\"data row3 col9\" ></td> \n",
       "    </tr>    <tr> \n",
       "        <th id=\"T_c1f86190_881e_11e9_b64e_186024eae6c5level0_row4\" class=\"row_heading level0 row4\" >4</th> \n",
       "        <td id=\"T_c1f86190_881e_11e9_b64e_186024eae6c5row4_col0\" class=\"data row4 col0\" ></td> \n",
       "        <td id=\"T_c1f86190_881e_11e9_b64e_186024eae6c5row4_col1\" class=\"data row4 col1\" >R</td> \n",
       "        <td id=\"T_c1f86190_881e_11e9_b64e_186024eae6c5row4_col2\" class=\"data row4 col2\" ></td> \n",
       "        <td id=\"T_c1f86190_881e_11e9_b64e_186024eae6c5row4_col3\" class=\"data row4 col3\" >E</td> \n",
       "        <td id=\"T_c1f86190_881e_11e9_b64e_186024eae6c5row4_col4\" class=\"data row4 col4\" ></td> \n",
       "        <td id=\"T_c1f86190_881e_11e9_b64e_186024eae6c5row4_col5\" class=\"data row4 col5\" ></td> \n",
       "        <td id=\"T_c1f86190_881e_11e9_b64e_186024eae6c5row4_col6\" class=\"data row4 col6\" >A</td> \n",
       "        <td id=\"T_c1f86190_881e_11e9_b64e_186024eae6c5row4_col7\" class=\"data row4 col7\" ></td> \n",
       "        <td id=\"T_c1f86190_881e_11e9_b64e_186024eae6c5row4_col8\" class=\"data row4 col8\" >U</td> \n",
       "        <td id=\"T_c1f86190_881e_11e9_b64e_186024eae6c5row4_col9\" class=\"data row4 col9\" ></td> \n",
       "    </tr>    <tr> \n",
       "        <th id=\"T_c1f86190_881e_11e9_b64e_186024eae6c5level0_row5\" class=\"row_heading level0 row5\" >5</th> \n",
       "        <td id=\"T_c1f86190_881e_11e9_b64e_186024eae6c5row5_col0\" class=\"data row5 col0\" ></td> \n",
       "        <td id=\"T_c1f86190_881e_11e9_b64e_186024eae6c5row5_col1\" class=\"data row5 col1\" >B</td> \n",
       "        <td id=\"T_c1f86190_881e_11e9_b64e_186024eae6c5row5_col2\" class=\"data row5 col2\" >O</td> \n",
       "        <td id=\"T_c1f86190_881e_11e9_b64e_186024eae6c5row5_col3\" class=\"data row5 col3\" >L</td> \n",
       "        <td id=\"T_c1f86190_881e_11e9_b64e_186024eae6c5row5_col4\" class=\"data row5 col4\" >I</td> \n",
       "        <td id=\"T_c1f86190_881e_11e9_b64e_186024eae6c5row5_col5\" class=\"data row5 col5\" >V</td> \n",
       "        <td id=\"T_c1f86190_881e_11e9_b64e_186024eae6c5row5_col6\" class=\"data row5 col6\" >I</td> \n",
       "        <td id=\"T_c1f86190_881e_11e9_b64e_186024eae6c5row5_col7\" class=\"data row5 col7\" >A</td> \n",
       "        <td id=\"T_c1f86190_881e_11e9_b64e_186024eae6c5row5_col8\" class=\"data row5 col8\" ></td> \n",
       "        <td id=\"T_c1f86190_881e_11e9_b64e_186024eae6c5row5_col9\" class=\"data row5 col9\" >M</td> \n",
       "    </tr>    <tr> \n",
       "        <th id=\"T_c1f86190_881e_11e9_b64e_186024eae6c5level0_row6\" class=\"row_heading level0 row6\" >6</th> \n",
       "        <td id=\"T_c1f86190_881e_11e9_b64e_186024eae6c5row6_col0\" class=\"data row6 col0\" ></td> \n",
       "        <td id=\"T_c1f86190_881e_11e9_b64e_186024eae6c5row6_col1\" class=\"data row6 col1\" >U</td> \n",
       "        <td id=\"T_c1f86190_881e_11e9_b64e_186024eae6c5row6_col2\" class=\"data row6 col2\" ></td> \n",
       "        <td id=\"T_c1f86190_881e_11e9_b64e_186024eae6c5row6_col3\" class=\"data row6 col3\" >A</td> \n",
       "        <td id=\"T_c1f86190_881e_11e9_b64e_186024eae6c5row6_col4\" class=\"data row6 col4\" ></td> \n",
       "        <td id=\"T_c1f86190_881e_11e9_b64e_186024eae6c5row6_col5\" class=\"data row6 col5\" ></td> \n",
       "        <td id=\"T_c1f86190_881e_11e9_b64e_186024eae6c5row6_col6\" class=\"data row6 col6\" >N</td> \n",
       "        <td id=\"T_c1f86190_881e_11e9_b64e_186024eae6c5row6_col7\" class=\"data row6 col7\" ></td> \n",
       "        <td id=\"T_c1f86190_881e_11e9_b64e_186024eae6c5row6_col8\" class=\"data row6 col8\" ></td> \n",
       "        <td id=\"T_c1f86190_881e_11e9_b64e_186024eae6c5row6_col9\" class=\"data row6 col9\" >A</td> \n",
       "    </tr>    <tr> \n",
       "        <th id=\"T_c1f86190_881e_11e9_b64e_186024eae6c5level0_row7\" class=\"row_heading level0 row7\" >7</th> \n",
       "        <td id=\"T_c1f86190_881e_11e9_b64e_186024eae6c5row7_col0\" class=\"data row7 col0\" ></td> \n",
       "        <td id=\"T_c1f86190_881e_11e9_b64e_186024eae6c5row7_col1\" class=\"data row7 col1\" >D</td> \n",
       "        <td id=\"T_c1f86190_881e_11e9_b64e_186024eae6c5row7_col2\" class=\"data row7 col2\" ></td> \n",
       "        <td id=\"T_c1f86190_881e_11e9_b64e_186024eae6c5row7_col3\" class=\"data row7 col3\" >R</td> \n",
       "        <td id=\"T_c1f86190_881e_11e9_b64e_186024eae6c5row7_col4\" class=\"data row7 col4\" ></td> \n",
       "        <td id=\"T_c1f86190_881e_11e9_b64e_186024eae6c5row7_col5\" class=\"data row7 col5\" >N</td> \n",
       "        <td id=\"T_c1f86190_881e_11e9_b64e_186024eae6c5row7_col6\" class=\"data row7 col6\" >E</td> \n",
       "        <td id=\"T_c1f86190_881e_11e9_b64e_186024eae6c5row7_col7\" class=\"data row7 col7\" >P</td> \n",
       "        <td id=\"T_c1f86190_881e_11e9_b64e_186024eae6c5row7_col8\" class=\"data row7 col8\" >A</td> \n",
       "        <td id=\"T_c1f86190_881e_11e9_b64e_186024eae6c5row7_col9\" class=\"data row7 col9\" >L</td> \n",
       "    </tr>    <tr> \n",
       "        <th id=\"T_c1f86190_881e_11e9_b64e_186024eae6c5level0_row8\" class=\"row_heading level0 row8\" >8</th> \n",
       "        <td id=\"T_c1f86190_881e_11e9_b64e_186024eae6c5row8_col0\" class=\"data row8 col0\" ></td> \n",
       "        <td id=\"T_c1f86190_881e_11e9_b64e_186024eae6c5row8_col1\" class=\"data row8 col1\" >A</td> \n",
       "        <td id=\"T_c1f86190_881e_11e9_b64e_186024eae6c5row8_col2\" class=\"data row8 col2\" ></td> \n",
       "        <td id=\"T_c1f86190_881e_11e9_b64e_186024eae6c5row8_col3\" class=\"data row8 col3\" >U</td> \n",
       "        <td id=\"T_c1f86190_881e_11e9_b64e_186024eae6c5row8_col4\" class=\"data row8 col4\" ></td> \n",
       "        <td id=\"T_c1f86190_881e_11e9_b64e_186024eae6c5row8_col5\" class=\"data row8 col5\" ></td> \n",
       "        <td id=\"T_c1f86190_881e_11e9_b64e_186024eae6c5row8_col6\" class=\"data row8 col6\" ></td> \n",
       "        <td id=\"T_c1f86190_881e_11e9_b64e_186024eae6c5row8_col7\" class=\"data row8 col7\" ></td> \n",
       "        <td id=\"T_c1f86190_881e_11e9_b64e_186024eae6c5row8_col8\" class=\"data row8 col8\" ></td> \n",
       "        <td id=\"T_c1f86190_881e_11e9_b64e_186024eae6c5row8_col9\" class=\"data row8 col9\" >I</td> \n",
       "    </tr>    <tr> \n",
       "        <th id=\"T_c1f86190_881e_11e9_b64e_186024eae6c5level0_row9\" class=\"row_heading level0 row9\" >9</th> \n",
       "        <td id=\"T_c1f86190_881e_11e9_b64e_186024eae6c5row9_col0\" class=\"data row9 col0\" ></td> \n",
       "        <td id=\"T_c1f86190_881e_11e9_b64e_186024eae6c5row9_col1\" class=\"data row9 col1\" ></td> \n",
       "        <td id=\"T_c1f86190_881e_11e9_b64e_186024eae6c5row9_col2\" class=\"data row9 col2\" >E</td> \n",
       "        <td id=\"T_c1f86190_881e_11e9_b64e_186024eae6c5row9_col3\" class=\"data row9 col3\" >S</td> \n",
       "        <td id=\"T_c1f86190_881e_11e9_b64e_186024eae6c5row9_col4\" class=\"data row9 col4\" >T</td> \n",
       "        <td id=\"T_c1f86190_881e_11e9_b64e_186024eae6c5row9_col5\" class=\"data row9 col5\" >O</td> \n",
       "        <td id=\"T_c1f86190_881e_11e9_b64e_186024eae6c5row9_col6\" class=\"data row9 col6\" >N</td> \n",
       "        <td id=\"T_c1f86190_881e_11e9_b64e_186024eae6c5row9_col7\" class=\"data row9 col7\" >I</td> \n",
       "        <td id=\"T_c1f86190_881e_11e9_b64e_186024eae6c5row9_col8\" class=\"data row9 col8\" >A</td> \n",
       "        <td id=\"T_c1f86190_881e_11e9_b64e_186024eae6c5row9_col9\" class=\"data row9 col9\" ></td> \n",
       "    </tr></tbody> \n",
       "</table> "
      ],
      "text/plain": [
       "<pandas.io.formats.style.Styler at 0x1440d701c18>"
      ]
     },
     "metadata": {},
     "output_type": "display_data"
    },
    {
     "name": "stdout",
     "output_type": "stream",
     "text": [
      "Epock 4/10\n",
      " Improved - score[1]: 11\n"
     ]
    },
    {
     "data": {
      "text/html": [
       "<style  type=\"text/css\" >\n",
       "    #T_c2795324_881e_11e9_a5c5_186024eae6c5 th {\n",
       "          font-size: 90%;\n",
       "          text-align: center;\n",
       "          color: #ffffff;\n",
       "          background: #777777;\n",
       "          border: solid 1px white;\n",
       "          width: 30px;\n",
       "          height: 30px;\n",
       "    }    #T_c2795324_881e_11e9_a5c5_186024eae6c5 td {\n",
       "          font-size: 105%;\n",
       "          text-align: center;\n",
       "          color: #161616;\n",
       "          background: #dddddd;\n",
       "          border: solid 1px white;\n",
       "          width: 30px;\n",
       "          height: 30px;\n",
       "    }    #T_c2795324_881e_11e9_a5c5_186024eae6c5 caption {\n",
       "          caption-side: bottom;\n",
       "    }</style>  \n",
       "<table id=\"T_c2795324_881e_11e9_a5c5_186024eae6c5\" ><caption>Puzzle(10,10), Seed:1, solSize:11 Dictionary:[../dict/countries.txt]</caption> \n",
       "<thead>    <tr> \n",
       "        <th class=\"blank level0\" ></th> \n",
       "        <th class=\"col_heading level0 col0\" >0</th> \n",
       "        <th class=\"col_heading level0 col1\" >1</th> \n",
       "        <th class=\"col_heading level0 col2\" >2</th> \n",
       "        <th class=\"col_heading level0 col3\" >3</th> \n",
       "        <th class=\"col_heading level0 col4\" >4</th> \n",
       "        <th class=\"col_heading level0 col5\" >5</th> \n",
       "        <th class=\"col_heading level0 col6\" >6</th> \n",
       "        <th class=\"col_heading level0 col7\" >7</th> \n",
       "        <th class=\"col_heading level0 col8\" >8</th> \n",
       "        <th class=\"col_heading level0 col9\" >9</th> \n",
       "    </tr></thead> \n",
       "<tbody>    <tr> \n",
       "        <th id=\"T_c2795324_881e_11e9_a5c5_186024eae6c5level0_row0\" class=\"row_heading level0 row0\" >0</th> \n",
       "        <td id=\"T_c2795324_881e_11e9_a5c5_186024eae6c5row0_col0\" class=\"data row0 col0\" ></td> \n",
       "        <td id=\"T_c2795324_881e_11e9_a5c5_186024eae6c5row0_col1\" class=\"data row0 col1\" ></td> \n",
       "        <td id=\"T_c2795324_881e_11e9_a5c5_186024eae6c5row0_col2\" class=\"data row0 col2\" ></td> \n",
       "        <td id=\"T_c2795324_881e_11e9_a5c5_186024eae6c5row0_col3\" class=\"data row0 col3\" ></td> \n",
       "        <td id=\"T_c2795324_881e_11e9_a5c5_186024eae6c5row0_col4\" class=\"data row0 col4\" ></td> \n",
       "        <td id=\"T_c2795324_881e_11e9_a5c5_186024eae6c5row0_col5\" class=\"data row0 col5\" ></td> \n",
       "        <td id=\"T_c2795324_881e_11e9_a5c5_186024eae6c5row0_col6\" class=\"data row0 col6\" ></td> \n",
       "        <td id=\"T_c2795324_881e_11e9_a5c5_186024eae6c5row0_col7\" class=\"data row0 col7\" ></td> \n",
       "        <td id=\"T_c2795324_881e_11e9_a5c5_186024eae6c5row0_col8\" class=\"data row0 col8\" >N</td> \n",
       "        <td id=\"T_c2795324_881e_11e9_a5c5_186024eae6c5row0_col9\" class=\"data row0 col9\" ></td> \n",
       "    </tr>    <tr> \n",
       "        <th id=\"T_c2795324_881e_11e9_a5c5_186024eae6c5level0_row1\" class=\"row_heading level0 row1\" >1</th> \n",
       "        <td id=\"T_c2795324_881e_11e9_a5c5_186024eae6c5row1_col0\" class=\"data row1 col0\" ></td> \n",
       "        <td id=\"T_c2795324_881e_11e9_a5c5_186024eae6c5row1_col1\" class=\"data row1 col1\" ></td> \n",
       "        <td id=\"T_c2795324_881e_11e9_a5c5_186024eae6c5row1_col2\" class=\"data row1 col2\" ></td> \n",
       "        <td id=\"T_c2795324_881e_11e9_a5c5_186024eae6c5row1_col3\" class=\"data row1 col3\" ></td> \n",
       "        <td id=\"T_c2795324_881e_11e9_a5c5_186024eae6c5row1_col4\" class=\"data row1 col4\" ></td> \n",
       "        <td id=\"T_c2795324_881e_11e9_a5c5_186024eae6c5row1_col5\" class=\"data row1 col5\" ></td> \n",
       "        <td id=\"T_c2795324_881e_11e9_a5c5_186024eae6c5row1_col6\" class=\"data row1 col6\" >U</td> \n",
       "        <td id=\"T_c2795324_881e_11e9_a5c5_186024eae6c5row1_col7\" class=\"data row1 col7\" >S</td> \n",
       "        <td id=\"T_c2795324_881e_11e9_a5c5_186024eae6c5row1_col8\" class=\"data row1 col8\" >A</td> \n",
       "        <td id=\"T_c2795324_881e_11e9_a5c5_186024eae6c5row1_col9\" class=\"data row1 col9\" ></td> \n",
       "    </tr>    <tr> \n",
       "        <th id=\"T_c2795324_881e_11e9_a5c5_186024eae6c5level0_row2\" class=\"row_heading level0 row2\" >2</th> \n",
       "        <td id=\"T_c2795324_881e_11e9_a5c5_186024eae6c5row2_col0\" class=\"data row2 col0\" ></td> \n",
       "        <td id=\"T_c2795324_881e_11e9_a5c5_186024eae6c5row2_col1\" class=\"data row2 col1\" >B</td> \n",
       "        <td id=\"T_c2795324_881e_11e9_a5c5_186024eae6c5row2_col2\" class=\"data row2 col2\" ></td> \n",
       "        <td id=\"T_c2795324_881e_11e9_a5c5_186024eae6c5row2_col3\" class=\"data row2 col3\" ></td> \n",
       "        <td id=\"T_c2795324_881e_11e9_a5c5_186024eae6c5row2_col4\" class=\"data row2 col4\" ></td> \n",
       "        <td id=\"T_c2795324_881e_11e9_a5c5_186024eae6c5row2_col5\" class=\"data row2 col5\" >U</td> \n",
       "        <td id=\"T_c2795324_881e_11e9_a5c5_186024eae6c5row2_col6\" class=\"data row2 col6\" >K</td> \n",
       "        <td id=\"T_c2795324_881e_11e9_a5c5_186024eae6c5row2_col7\" class=\"data row2 col7\" ></td> \n",
       "        <td id=\"T_c2795324_881e_11e9_a5c5_186024eae6c5row2_col8\" class=\"data row2 col8\" >U</td> \n",
       "        <td id=\"T_c2795324_881e_11e9_a5c5_186024eae6c5row2_col9\" class=\"data row2 col9\" >S</td> \n",
       "    </tr>    <tr> \n",
       "        <th id=\"T_c2795324_881e_11e9_a5c5_186024eae6c5level0_row3\" class=\"row_heading level0 row3\" >3</th> \n",
       "        <td id=\"T_c2795324_881e_11e9_a5c5_186024eae6c5row3_col0\" class=\"data row3 col0\" ></td> \n",
       "        <td id=\"T_c2795324_881e_11e9_a5c5_186024eae6c5row3_col1\" class=\"data row3 col1\" >A</td> \n",
       "        <td id=\"T_c2795324_881e_11e9_a5c5_186024eae6c5row3_col2\" class=\"data row3 col2\" ></td> \n",
       "        <td id=\"T_c2795324_881e_11e9_a5c5_186024eae6c5row3_col3\" class=\"data row3 col3\" >B</td> \n",
       "        <td id=\"T_c2795324_881e_11e9_a5c5_186024eae6c5row3_col4\" class=\"data row3 col4\" ></td> \n",
       "        <td id=\"T_c2795324_881e_11e9_a5c5_186024eae6c5row3_col5\" class=\"data row3 col5\" ></td> \n",
       "        <td id=\"T_c2795324_881e_11e9_a5c5_186024eae6c5row3_col6\" class=\"data row3 col6\" >R</td> \n",
       "        <td id=\"T_c2795324_881e_11e9_a5c5_186024eae6c5row3_col7\" class=\"data row3 col7\" ></td> \n",
       "        <td id=\"T_c2795324_881e_11e9_a5c5_186024eae6c5row3_col8\" class=\"data row3 col8\" >R</td> \n",
       "        <td id=\"T_c2795324_881e_11e9_a5c5_186024eae6c5row3_col9\" class=\"data row3 col9\" ></td> \n",
       "    </tr>    <tr> \n",
       "        <th id=\"T_c2795324_881e_11e9_a5c5_186024eae6c5level0_row4\" class=\"row_heading level0 row4\" >4</th> \n",
       "        <td id=\"T_c2795324_881e_11e9_a5c5_186024eae6c5row4_col0\" class=\"data row4 col0\" ></td> \n",
       "        <td id=\"T_c2795324_881e_11e9_a5c5_186024eae6c5row4_col1\" class=\"data row4 col1\" >R</td> \n",
       "        <td id=\"T_c2795324_881e_11e9_a5c5_186024eae6c5row4_col2\" class=\"data row4 col2\" ></td> \n",
       "        <td id=\"T_c2795324_881e_11e9_a5c5_186024eae6c5row4_col3\" class=\"data row4 col3\" >E</td> \n",
       "        <td id=\"T_c2795324_881e_11e9_a5c5_186024eae6c5row4_col4\" class=\"data row4 col4\" ></td> \n",
       "        <td id=\"T_c2795324_881e_11e9_a5c5_186024eae6c5row4_col5\" class=\"data row4 col5\" ></td> \n",
       "        <td id=\"T_c2795324_881e_11e9_a5c5_186024eae6c5row4_col6\" class=\"data row4 col6\" >A</td> \n",
       "        <td id=\"T_c2795324_881e_11e9_a5c5_186024eae6c5row4_col7\" class=\"data row4 col7\" ></td> \n",
       "        <td id=\"T_c2795324_881e_11e9_a5c5_186024eae6c5row4_col8\" class=\"data row4 col8\" >U</td> \n",
       "        <td id=\"T_c2795324_881e_11e9_a5c5_186024eae6c5row4_col9\" class=\"data row4 col9\" ></td> \n",
       "    </tr>    <tr> \n",
       "        <th id=\"T_c2795324_881e_11e9_a5c5_186024eae6c5level0_row5\" class=\"row_heading level0 row5\" >5</th> \n",
       "        <td id=\"T_c2795324_881e_11e9_a5c5_186024eae6c5row5_col0\" class=\"data row5 col0\" ></td> \n",
       "        <td id=\"T_c2795324_881e_11e9_a5c5_186024eae6c5row5_col1\" class=\"data row5 col1\" >B</td> \n",
       "        <td id=\"T_c2795324_881e_11e9_a5c5_186024eae6c5row5_col2\" class=\"data row5 col2\" >O</td> \n",
       "        <td id=\"T_c2795324_881e_11e9_a5c5_186024eae6c5row5_col3\" class=\"data row5 col3\" >L</td> \n",
       "        <td id=\"T_c2795324_881e_11e9_a5c5_186024eae6c5row5_col4\" class=\"data row5 col4\" >I</td> \n",
       "        <td id=\"T_c2795324_881e_11e9_a5c5_186024eae6c5row5_col5\" class=\"data row5 col5\" >V</td> \n",
       "        <td id=\"T_c2795324_881e_11e9_a5c5_186024eae6c5row5_col6\" class=\"data row5 col6\" >I</td> \n",
       "        <td id=\"T_c2795324_881e_11e9_a5c5_186024eae6c5row5_col7\" class=\"data row5 col7\" >A</td> \n",
       "        <td id=\"T_c2795324_881e_11e9_a5c5_186024eae6c5row5_col8\" class=\"data row5 col8\" ></td> \n",
       "        <td id=\"T_c2795324_881e_11e9_a5c5_186024eae6c5row5_col9\" class=\"data row5 col9\" ></td> \n",
       "    </tr>    <tr> \n",
       "        <th id=\"T_c2795324_881e_11e9_a5c5_186024eae6c5level0_row6\" class=\"row_heading level0 row6\" >6</th> \n",
       "        <td id=\"T_c2795324_881e_11e9_a5c5_186024eae6c5row6_col0\" class=\"data row6 col0\" ></td> \n",
       "        <td id=\"T_c2795324_881e_11e9_a5c5_186024eae6c5row6_col1\" class=\"data row6 col1\" >U</td> \n",
       "        <td id=\"T_c2795324_881e_11e9_a5c5_186024eae6c5row6_col2\" class=\"data row6 col2\" ></td> \n",
       "        <td id=\"T_c2795324_881e_11e9_a5c5_186024eae6c5row6_col3\" class=\"data row6 col3\" >A</td> \n",
       "        <td id=\"T_c2795324_881e_11e9_a5c5_186024eae6c5row6_col4\" class=\"data row6 col4\" ></td> \n",
       "        <td id=\"T_c2795324_881e_11e9_a5c5_186024eae6c5row6_col5\" class=\"data row6 col5\" ></td> \n",
       "        <td id=\"T_c2795324_881e_11e9_a5c5_186024eae6c5row6_col6\" class=\"data row6 col6\" >N</td> \n",
       "        <td id=\"T_c2795324_881e_11e9_a5c5_186024eae6c5row6_col7\" class=\"data row6 col7\" ></td> \n",
       "        <td id=\"T_c2795324_881e_11e9_a5c5_186024eae6c5row6_col8\" class=\"data row6 col8\" >C</td> \n",
       "        <td id=\"T_c2795324_881e_11e9_a5c5_186024eae6c5row6_col9\" class=\"data row6 col9\" ></td> \n",
       "    </tr>    <tr> \n",
       "        <th id=\"T_c2795324_881e_11e9_a5c5_186024eae6c5level0_row7\" class=\"row_heading level0 row7\" >7</th> \n",
       "        <td id=\"T_c2795324_881e_11e9_a5c5_186024eae6c5row7_col0\" class=\"data row7 col0\" ></td> \n",
       "        <td id=\"T_c2795324_881e_11e9_a5c5_186024eae6c5row7_col1\" class=\"data row7 col1\" >D</td> \n",
       "        <td id=\"T_c2795324_881e_11e9_a5c5_186024eae6c5row7_col2\" class=\"data row7 col2\" ></td> \n",
       "        <td id=\"T_c2795324_881e_11e9_a5c5_186024eae6c5row7_col3\" class=\"data row7 col3\" >R</td> \n",
       "        <td id=\"T_c2795324_881e_11e9_a5c5_186024eae6c5row7_col4\" class=\"data row7 col4\" ></td> \n",
       "        <td id=\"T_c2795324_881e_11e9_a5c5_186024eae6c5row7_col5\" class=\"data row7 col5\" >P</td> \n",
       "        <td id=\"T_c2795324_881e_11e9_a5c5_186024eae6c5row7_col6\" class=\"data row7 col6\" >E</td> \n",
       "        <td id=\"T_c2795324_881e_11e9_a5c5_186024eae6c5row7_col7\" class=\"data row7 col7\" >R</td> \n",
       "        <td id=\"T_c2795324_881e_11e9_a5c5_186024eae6c5row7_col8\" class=\"data row7 col8\" >U</td> \n",
       "        <td id=\"T_c2795324_881e_11e9_a5c5_186024eae6c5row7_col9\" class=\"data row7 col9\" ></td> \n",
       "    </tr>    <tr> \n",
       "        <th id=\"T_c2795324_881e_11e9_a5c5_186024eae6c5level0_row8\" class=\"row_heading level0 row8\" >8</th> \n",
       "        <td id=\"T_c2795324_881e_11e9_a5c5_186024eae6c5row8_col0\" class=\"data row8 col0\" ></td> \n",
       "        <td id=\"T_c2795324_881e_11e9_a5c5_186024eae6c5row8_col1\" class=\"data row8 col1\" >A</td> \n",
       "        <td id=\"T_c2795324_881e_11e9_a5c5_186024eae6c5row8_col2\" class=\"data row8 col2\" ></td> \n",
       "        <td id=\"T_c2795324_881e_11e9_a5c5_186024eae6c5row8_col3\" class=\"data row8 col3\" >U</td> \n",
       "        <td id=\"T_c2795324_881e_11e9_a5c5_186024eae6c5row8_col4\" class=\"data row8 col4\" ></td> \n",
       "        <td id=\"T_c2795324_881e_11e9_a5c5_186024eae6c5row8_col5\" class=\"data row8 col5\" ></td> \n",
       "        <td id=\"T_c2795324_881e_11e9_a5c5_186024eae6c5row8_col6\" class=\"data row8 col6\" ></td> \n",
       "        <td id=\"T_c2795324_881e_11e9_a5c5_186024eae6c5row8_col7\" class=\"data row8 col7\" ></td> \n",
       "        <td id=\"T_c2795324_881e_11e9_a5c5_186024eae6c5row8_col8\" class=\"data row8 col8\" >B</td> \n",
       "        <td id=\"T_c2795324_881e_11e9_a5c5_186024eae6c5row8_col9\" class=\"data row8 col9\" ></td> \n",
       "    </tr>    <tr> \n",
       "        <th id=\"T_c2795324_881e_11e9_a5c5_186024eae6c5level0_row9\" class=\"row_heading level0 row9\" >9</th> \n",
       "        <td id=\"T_c2795324_881e_11e9_a5c5_186024eae6c5row9_col0\" class=\"data row9 col0\" ></td> \n",
       "        <td id=\"T_c2795324_881e_11e9_a5c5_186024eae6c5row9_col1\" class=\"data row9 col1\" ></td> \n",
       "        <td id=\"T_c2795324_881e_11e9_a5c5_186024eae6c5row9_col2\" class=\"data row9 col2\" >E</td> \n",
       "        <td id=\"T_c2795324_881e_11e9_a5c5_186024eae6c5row9_col3\" class=\"data row9 col3\" >S</td> \n",
       "        <td id=\"T_c2795324_881e_11e9_a5c5_186024eae6c5row9_col4\" class=\"data row9 col4\" >T</td> \n",
       "        <td id=\"T_c2795324_881e_11e9_a5c5_186024eae6c5row9_col5\" class=\"data row9 col5\" >O</td> \n",
       "        <td id=\"T_c2795324_881e_11e9_a5c5_186024eae6c5row9_col6\" class=\"data row9 col6\" >N</td> \n",
       "        <td id=\"T_c2795324_881e_11e9_a5c5_186024eae6c5row9_col7\" class=\"data row9 col7\" >I</td> \n",
       "        <td id=\"T_c2795324_881e_11e9_a5c5_186024eae6c5row9_col8\" class=\"data row9 col8\" >A</td> \n",
       "        <td id=\"T_c2795324_881e_11e9_a5c5_186024eae6c5row9_col9\" class=\"data row9 col9\" ></td> \n",
       "    </tr></tbody> \n",
       "</table> "
      ],
      "text/plain": [
       "<pandas.io.formats.style.Styler at 0x1440c35d898>"
      ]
     },
     "metadata": {},
     "output_type": "display_data"
    },
    {
     "name": "stdout",
     "output_type": "stream",
     "text": [
      "Epock 5/10\n",
      " Stayed\n",
      "Epock 6/10\n",
      " Stayed\n",
      "Epock 7/10\n",
      " Stayed\n",
      "Epock 8/10\n",
      " Improved - score[0]: 12\n"
     ]
    },
    {
     "data": {
      "text/html": [
       "<style  type=\"text/css\" >\n",
       "    #T_c473ea6e_881e_11e9_8619_186024eae6c5 th {\n",
       "          font-size: 90%;\n",
       "          text-align: center;\n",
       "          color: #ffffff;\n",
       "          background: #777777;\n",
       "          border: solid 1px white;\n",
       "          width: 30px;\n",
       "          height: 30px;\n",
       "    }    #T_c473ea6e_881e_11e9_8619_186024eae6c5 td {\n",
       "          font-size: 105%;\n",
       "          text-align: center;\n",
       "          color: #161616;\n",
       "          background: #dddddd;\n",
       "          border: solid 1px white;\n",
       "          width: 30px;\n",
       "          height: 30px;\n",
       "    }    #T_c473ea6e_881e_11e9_8619_186024eae6c5 caption {\n",
       "          caption-side: bottom;\n",
       "    }</style>  \n",
       "<table id=\"T_c473ea6e_881e_11e9_8619_186024eae6c5\" ><caption>Puzzle(10,10), Seed:1, solSize:12 Dictionary:[../dict/countries.txt]</caption> \n",
       "<thead>    <tr> \n",
       "        <th class=\"blank level0\" ></th> \n",
       "        <th class=\"col_heading level0 col0\" >0</th> \n",
       "        <th class=\"col_heading level0 col1\" >1</th> \n",
       "        <th class=\"col_heading level0 col2\" >2</th> \n",
       "        <th class=\"col_heading level0 col3\" >3</th> \n",
       "        <th class=\"col_heading level0 col4\" >4</th> \n",
       "        <th class=\"col_heading level0 col5\" >5</th> \n",
       "        <th class=\"col_heading level0 col6\" >6</th> \n",
       "        <th class=\"col_heading level0 col7\" >7</th> \n",
       "        <th class=\"col_heading level0 col8\" >8</th> \n",
       "        <th class=\"col_heading level0 col9\" >9</th> \n",
       "    </tr></thead> \n",
       "<tbody>    <tr> \n",
       "        <th id=\"T_c473ea6e_881e_11e9_8619_186024eae6c5level0_row0\" class=\"row_heading level0 row0\" >0</th> \n",
       "        <td id=\"T_c473ea6e_881e_11e9_8619_186024eae6c5row0_col0\" class=\"data row0 col0\" ></td> \n",
       "        <td id=\"T_c473ea6e_881e_11e9_8619_186024eae6c5row0_col1\" class=\"data row0 col1\" ></td> \n",
       "        <td id=\"T_c473ea6e_881e_11e9_8619_186024eae6c5row0_col2\" class=\"data row0 col2\" ></td> \n",
       "        <td id=\"T_c473ea6e_881e_11e9_8619_186024eae6c5row0_col3\" class=\"data row0 col3\" ></td> \n",
       "        <td id=\"T_c473ea6e_881e_11e9_8619_186024eae6c5row0_col4\" class=\"data row0 col4\" ></td> \n",
       "        <td id=\"T_c473ea6e_881e_11e9_8619_186024eae6c5row0_col5\" class=\"data row0 col5\" ></td> \n",
       "        <td id=\"T_c473ea6e_881e_11e9_8619_186024eae6c5row0_col6\" class=\"data row0 col6\" ></td> \n",
       "        <td id=\"T_c473ea6e_881e_11e9_8619_186024eae6c5row0_col7\" class=\"data row0 col7\" ></td> \n",
       "        <td id=\"T_c473ea6e_881e_11e9_8619_186024eae6c5row0_col8\" class=\"data row0 col8\" >N</td> \n",
       "        <td id=\"T_c473ea6e_881e_11e9_8619_186024eae6c5row0_col9\" class=\"data row0 col9\" ></td> \n",
       "    </tr>    <tr> \n",
       "        <th id=\"T_c473ea6e_881e_11e9_8619_186024eae6c5level0_row1\" class=\"row_heading level0 row1\" >1</th> \n",
       "        <td id=\"T_c473ea6e_881e_11e9_8619_186024eae6c5row1_col0\" class=\"data row1 col0\" ></td> \n",
       "        <td id=\"T_c473ea6e_881e_11e9_8619_186024eae6c5row1_col1\" class=\"data row1 col1\" ></td> \n",
       "        <td id=\"T_c473ea6e_881e_11e9_8619_186024eae6c5row1_col2\" class=\"data row1 col2\" ></td> \n",
       "        <td id=\"T_c473ea6e_881e_11e9_8619_186024eae6c5row1_col3\" class=\"data row1 col3\" ></td> \n",
       "        <td id=\"T_c473ea6e_881e_11e9_8619_186024eae6c5row1_col4\" class=\"data row1 col4\" ></td> \n",
       "        <td id=\"T_c473ea6e_881e_11e9_8619_186024eae6c5row1_col5\" class=\"data row1 col5\" ></td> \n",
       "        <td id=\"T_c473ea6e_881e_11e9_8619_186024eae6c5row1_col6\" class=\"data row1 col6\" >U</td> \n",
       "        <td id=\"T_c473ea6e_881e_11e9_8619_186024eae6c5row1_col7\" class=\"data row1 col7\" >S</td> \n",
       "        <td id=\"T_c473ea6e_881e_11e9_8619_186024eae6c5row1_col8\" class=\"data row1 col8\" >A</td> \n",
       "        <td id=\"T_c473ea6e_881e_11e9_8619_186024eae6c5row1_col9\" class=\"data row1 col9\" ></td> \n",
       "    </tr>    <tr> \n",
       "        <th id=\"T_c473ea6e_881e_11e9_8619_186024eae6c5level0_row2\" class=\"row_heading level0 row2\" >2</th> \n",
       "        <td id=\"T_c473ea6e_881e_11e9_8619_186024eae6c5row2_col0\" class=\"data row2 col0\" ></td> \n",
       "        <td id=\"T_c473ea6e_881e_11e9_8619_186024eae6c5row2_col1\" class=\"data row2 col1\" >B</td> \n",
       "        <td id=\"T_c473ea6e_881e_11e9_8619_186024eae6c5row2_col2\" class=\"data row2 col2\" ></td> \n",
       "        <td id=\"T_c473ea6e_881e_11e9_8619_186024eae6c5row2_col3\" class=\"data row2 col3\" ></td> \n",
       "        <td id=\"T_c473ea6e_881e_11e9_8619_186024eae6c5row2_col4\" class=\"data row2 col4\" ></td> \n",
       "        <td id=\"T_c473ea6e_881e_11e9_8619_186024eae6c5row2_col5\" class=\"data row2 col5\" >U</td> \n",
       "        <td id=\"T_c473ea6e_881e_11e9_8619_186024eae6c5row2_col6\" class=\"data row2 col6\" >K</td> \n",
       "        <td id=\"T_c473ea6e_881e_11e9_8619_186024eae6c5row2_col7\" class=\"data row2 col7\" ></td> \n",
       "        <td id=\"T_c473ea6e_881e_11e9_8619_186024eae6c5row2_col8\" class=\"data row2 col8\" >U</td> \n",
       "        <td id=\"T_c473ea6e_881e_11e9_8619_186024eae6c5row2_col9\" class=\"data row2 col9\" ></td> \n",
       "    </tr>    <tr> \n",
       "        <th id=\"T_c473ea6e_881e_11e9_8619_186024eae6c5level0_row3\" class=\"row_heading level0 row3\" >3</th> \n",
       "        <td id=\"T_c473ea6e_881e_11e9_8619_186024eae6c5row3_col0\" class=\"data row3 col0\" ></td> \n",
       "        <td id=\"T_c473ea6e_881e_11e9_8619_186024eae6c5row3_col1\" class=\"data row3 col1\" >A</td> \n",
       "        <td id=\"T_c473ea6e_881e_11e9_8619_186024eae6c5row3_col2\" class=\"data row3 col2\" ></td> \n",
       "        <td id=\"T_c473ea6e_881e_11e9_8619_186024eae6c5row3_col3\" class=\"data row3 col3\" >M</td> \n",
       "        <td id=\"T_c473ea6e_881e_11e9_8619_186024eae6c5row3_col4\" class=\"data row3 col4\" ></td> \n",
       "        <td id=\"T_c473ea6e_881e_11e9_8619_186024eae6c5row3_col5\" class=\"data row3 col5\" ></td> \n",
       "        <td id=\"T_c473ea6e_881e_11e9_8619_186024eae6c5row3_col6\" class=\"data row3 col6\" >R</td> \n",
       "        <td id=\"T_c473ea6e_881e_11e9_8619_186024eae6c5row3_col7\" class=\"data row3 col7\" ></td> \n",
       "        <td id=\"T_c473ea6e_881e_11e9_8619_186024eae6c5row3_col8\" class=\"data row3 col8\" >R</td> \n",
       "        <td id=\"T_c473ea6e_881e_11e9_8619_186024eae6c5row3_col9\" class=\"data row3 col9\" ></td> \n",
       "    </tr>    <tr> \n",
       "        <th id=\"T_c473ea6e_881e_11e9_8619_186024eae6c5level0_row4\" class=\"row_heading level0 row4\" >4</th> \n",
       "        <td id=\"T_c473ea6e_881e_11e9_8619_186024eae6c5row4_col0\" class=\"data row4 col0\" ></td> \n",
       "        <td id=\"T_c473ea6e_881e_11e9_8619_186024eae6c5row4_col1\" class=\"data row4 col1\" >R</td> \n",
       "        <td id=\"T_c473ea6e_881e_11e9_8619_186024eae6c5row4_col2\" class=\"data row4 col2\" ></td> \n",
       "        <td id=\"T_c473ea6e_881e_11e9_8619_186024eae6c5row4_col3\" class=\"data row4 col3\" >A</td> \n",
       "        <td id=\"T_c473ea6e_881e_11e9_8619_186024eae6c5row4_col4\" class=\"data row4 col4\" ></td> \n",
       "        <td id=\"T_c473ea6e_881e_11e9_8619_186024eae6c5row4_col5\" class=\"data row4 col5\" ></td> \n",
       "        <td id=\"T_c473ea6e_881e_11e9_8619_186024eae6c5row4_col6\" class=\"data row4 col6\" >A</td> \n",
       "        <td id=\"T_c473ea6e_881e_11e9_8619_186024eae6c5row4_col7\" class=\"data row4 col7\" ></td> \n",
       "        <td id=\"T_c473ea6e_881e_11e9_8619_186024eae6c5row4_col8\" class=\"data row4 col8\" >U</td> \n",
       "        <td id=\"T_c473ea6e_881e_11e9_8619_186024eae6c5row4_col9\" class=\"data row4 col9\" >S</td> \n",
       "    </tr>    <tr> \n",
       "        <th id=\"T_c473ea6e_881e_11e9_8619_186024eae6c5level0_row5\" class=\"row_heading level0 row5\" >5</th> \n",
       "        <td id=\"T_c473ea6e_881e_11e9_8619_186024eae6c5row5_col0\" class=\"data row5 col0\" ></td> \n",
       "        <td id=\"T_c473ea6e_881e_11e9_8619_186024eae6c5row5_col1\" class=\"data row5 col1\" >B</td> \n",
       "        <td id=\"T_c473ea6e_881e_11e9_8619_186024eae6c5row5_col2\" class=\"data row5 col2\" >O</td> \n",
       "        <td id=\"T_c473ea6e_881e_11e9_8619_186024eae6c5row5_col3\" class=\"data row5 col3\" >L</td> \n",
       "        <td id=\"T_c473ea6e_881e_11e9_8619_186024eae6c5row5_col4\" class=\"data row5 col4\" >I</td> \n",
       "        <td id=\"T_c473ea6e_881e_11e9_8619_186024eae6c5row5_col5\" class=\"data row5 col5\" >V</td> \n",
       "        <td id=\"T_c473ea6e_881e_11e9_8619_186024eae6c5row5_col6\" class=\"data row5 col6\" >I</td> \n",
       "        <td id=\"T_c473ea6e_881e_11e9_8619_186024eae6c5row5_col7\" class=\"data row5 col7\" >A</td> \n",
       "        <td id=\"T_c473ea6e_881e_11e9_8619_186024eae6c5row5_col8\" class=\"data row5 col8\" ></td> \n",
       "        <td id=\"T_c473ea6e_881e_11e9_8619_186024eae6c5row5_col9\" class=\"data row5 col9\" ></td> \n",
       "    </tr>    <tr> \n",
       "        <th id=\"T_c473ea6e_881e_11e9_8619_186024eae6c5level0_row6\" class=\"row_heading level0 row6\" >6</th> \n",
       "        <td id=\"T_c473ea6e_881e_11e9_8619_186024eae6c5row6_col0\" class=\"data row6 col0\" ></td> \n",
       "        <td id=\"T_c473ea6e_881e_11e9_8619_186024eae6c5row6_col1\" class=\"data row6 col1\" >U</td> \n",
       "        <td id=\"T_c473ea6e_881e_11e9_8619_186024eae6c5row6_col2\" class=\"data row6 col2\" ></td> \n",
       "        <td id=\"T_c473ea6e_881e_11e9_8619_186024eae6c5row6_col3\" class=\"data row6 col3\" >A</td> \n",
       "        <td id=\"T_c473ea6e_881e_11e9_8619_186024eae6c5row6_col4\" class=\"data row6 col4\" ></td> \n",
       "        <td id=\"T_c473ea6e_881e_11e9_8619_186024eae6c5row6_col5\" class=\"data row6 col5\" ></td> \n",
       "        <td id=\"T_c473ea6e_881e_11e9_8619_186024eae6c5row6_col6\" class=\"data row6 col6\" >N</td> \n",
       "        <td id=\"T_c473ea6e_881e_11e9_8619_186024eae6c5row6_col7\" class=\"data row6 col7\" ></td> \n",
       "        <td id=\"T_c473ea6e_881e_11e9_8619_186024eae6c5row6_col8\" class=\"data row6 col8\" ></td> \n",
       "        <td id=\"T_c473ea6e_881e_11e9_8619_186024eae6c5row6_col9\" class=\"data row6 col9\" ></td> \n",
       "    </tr>    <tr> \n",
       "        <th id=\"T_c473ea6e_881e_11e9_8619_186024eae6c5level0_row7\" class=\"row_heading level0 row7\" >7</th> \n",
       "        <td id=\"T_c473ea6e_881e_11e9_8619_186024eae6c5row7_col0\" class=\"data row7 col0\" ></td> \n",
       "        <td id=\"T_c473ea6e_881e_11e9_8619_186024eae6c5row7_col1\" class=\"data row7 col1\" >D</td> \n",
       "        <td id=\"T_c473ea6e_881e_11e9_8619_186024eae6c5row7_col2\" class=\"data row7 col2\" ></td> \n",
       "        <td id=\"T_c473ea6e_881e_11e9_8619_186024eae6c5row7_col3\" class=\"data row7 col3\" >W</td> \n",
       "        <td id=\"T_c473ea6e_881e_11e9_8619_186024eae6c5row7_col4\" class=\"data row7 col4\" ></td> \n",
       "        <td id=\"T_c473ea6e_881e_11e9_8619_186024eae6c5row7_col5\" class=\"data row7 col5\" >P</td> \n",
       "        <td id=\"T_c473ea6e_881e_11e9_8619_186024eae6c5row7_col6\" class=\"data row7 col6\" >E</td> \n",
       "        <td id=\"T_c473ea6e_881e_11e9_8619_186024eae6c5row7_col7\" class=\"data row7 col7\" >R</td> \n",
       "        <td id=\"T_c473ea6e_881e_11e9_8619_186024eae6c5row7_col8\" class=\"data row7 col8\" >U</td> \n",
       "        <td id=\"T_c473ea6e_881e_11e9_8619_186024eae6c5row7_col9\" class=\"data row7 col9\" ></td> \n",
       "    </tr>    <tr> \n",
       "        <th id=\"T_c473ea6e_881e_11e9_8619_186024eae6c5level0_row8\" class=\"row_heading level0 row8\" >8</th> \n",
       "        <td id=\"T_c473ea6e_881e_11e9_8619_186024eae6c5row8_col0\" class=\"data row8 col0\" >M</td> \n",
       "        <td id=\"T_c473ea6e_881e_11e9_8619_186024eae6c5row8_col1\" class=\"data row8 col1\" >A</td> \n",
       "        <td id=\"T_c473ea6e_881e_11e9_8619_186024eae6c5row8_col2\" class=\"data row8 col2\" >L</td> \n",
       "        <td id=\"T_c473ea6e_881e_11e9_8619_186024eae6c5row8_col3\" class=\"data row8 col3\" >I</td> \n",
       "        <td id=\"T_c473ea6e_881e_11e9_8619_186024eae6c5row8_col4\" class=\"data row8 col4\" ></td> \n",
       "        <td id=\"T_c473ea6e_881e_11e9_8619_186024eae6c5row8_col5\" class=\"data row8 col5\" ></td> \n",
       "        <td id=\"T_c473ea6e_881e_11e9_8619_186024eae6c5row8_col6\" class=\"data row8 col6\" ></td> \n",
       "        <td id=\"T_c473ea6e_881e_11e9_8619_186024eae6c5row8_col7\" class=\"data row8 col7\" ></td> \n",
       "        <td id=\"T_c473ea6e_881e_11e9_8619_186024eae6c5row8_col8\" class=\"data row8 col8\" >A</td> \n",
       "        <td id=\"T_c473ea6e_881e_11e9_8619_186024eae6c5row8_col9\" class=\"data row8 col9\" ></td> \n",
       "    </tr>    <tr> \n",
       "        <th id=\"T_c473ea6e_881e_11e9_8619_186024eae6c5level0_row9\" class=\"row_heading level0 row9\" >9</th> \n",
       "        <td id=\"T_c473ea6e_881e_11e9_8619_186024eae6c5row9_col0\" class=\"data row9 col0\" ></td> \n",
       "        <td id=\"T_c473ea6e_881e_11e9_8619_186024eae6c5row9_col1\" class=\"data row9 col1\" ></td> \n",
       "        <td id=\"T_c473ea6e_881e_11e9_8619_186024eae6c5row9_col2\" class=\"data row9 col2\" ></td> \n",
       "        <td id=\"T_c473ea6e_881e_11e9_8619_186024eae6c5row9_col3\" class=\"data row9 col3\" ></td> \n",
       "        <td id=\"T_c473ea6e_881e_11e9_8619_186024eae6c5row9_col4\" class=\"data row9 col4\" >C</td> \n",
       "        <td id=\"T_c473ea6e_881e_11e9_8619_186024eae6c5row9_col5\" class=\"data row9 col5\" >H</td> \n",
       "        <td id=\"T_c473ea6e_881e_11e9_8619_186024eae6c5row9_col6\" class=\"data row9 col6\" >I</td> \n",
       "        <td id=\"T_c473ea6e_881e_11e9_8619_186024eae6c5row9_col7\" class=\"data row9 col7\" >L</td> \n",
       "        <td id=\"T_c473ea6e_881e_11e9_8619_186024eae6c5row9_col8\" class=\"data row9 col8\" >E</td> \n",
       "        <td id=\"T_c473ea6e_881e_11e9_8619_186024eae6c5row9_col9\" class=\"data row9 col9\" ></td> \n",
       "    </tr></tbody> \n",
       "</table> "
      ],
      "text/plain": [
       "<pandas.io.formats.style.Styler at 0x1440c171b70>"
      ]
     },
     "metadata": {},
     "output_type": "display_data"
    },
    {
     "name": "stdout",
     "output_type": "stream",
     "text": [
      "Epock 9/10\n",
      " Stayed\n",
      "Epock 10/10\n",
      " Stayed\n"
     ]
    }
   ],
   "source": [
    "puzzle.solve(epock=10)"
   ]
  },
  {
   "cell_type": "markdown",
   "metadata": {},
   "source": [
    "最後に表示された解が局所最適解です。\n",
    "初期解に比べ明らかに解が良くなっているはずです。\n",
    "これが局所探索法です。引数のmove(=False)をオプションとしてTrueで与えてやると、「反復局所探索法」(未実装)になります。"
   ]
  },
  {
   "cell_type": "markdown",
   "metadata": {},
   "source": [
    "---\n",
    "## 解の唯一性\n",
    "せっかくのパズルも複数の解が存在すると正しく解くことが出来なくなってしまいます。\n",
    "例えば、「アメリカ」という単語が「リ」のみでクロスしていて、別の場所に「ソマリア」という単語が同じく「リ」のみでクロスしている場合、これらの単語は入れ替え可能となり、解が唯一に定まりません。\n",
    "そこで、パズルの解が唯一であるかを判定する`isSimpleSol`メソッドを実装します。"
   ]
  },
  {
   "cell_type": "code",
   "execution_count": 42,
   "metadata": {},
   "outputs": [],
   "source": [
    "def isSimpleSol(self, plc):\n",
    "    rtnBool = True\n",
    "    for s, p in enumerate(self.usedPlcIdx[:self.solSize-1]):\n",
    "        i = plc.i[p]\n",
    "        j = plc.j[p]\n",
    "        word1 = self.usedWords[s]\n",
    "        if plc.div[p] == 0:\n",
    "            crossIdx1 = np.where(self.cover[i:i+len(word1),j] == 2)[0]\n",
    "        elif plc.div[p] == 1:\n",
    "            crossIdx1 = np.where(self.cover[i,j:j+len(word1)] == 2)[0]\n",
    "        for t, q in enumerate(self.usedPlcIdx[s+1:self.solSize]):\n",
    "            i = plc.i[q]\n",
    "            j = plc.j[q]\n",
    "            word2 = self.usedWords[s+t+1]\n",
    "            if len(word1) != len(word2):\n",
    "                break\n",
    "            if plc.div[q] == 0:\n",
    "                crossIdx2 = np.where(self.cover[i:i+len(word2),j] == 2)[0]\n",
    "            if plc.div[q] == 1:\n",
    "                crossIdx2 = np.where(self.cover[i,j:j+len(word2)] == 2)[0]\n",
    "            if crossIdx1.size == crossIdx2.size and np.all(crossIdx1 == crossIdx2):\n",
    "                if np.all(np.array(list(word1))[crossIdx1] == np.array(list(word2))[crossIdx2]):\n",
    "                    print(\" - words '%s' and '%s' are replaceable\" % (word1, word2))\n",
    "                    rtnBool = False\n",
    "    return rtnBool\n",
    "setattr(Puzzle, \"isSimpleSol\", isSimpleSol)"
   ]
  },
  {
   "cell_type": "markdown",
   "metadata": {},
   "source": [
    "それでは、パズルが複数の解を持たないことをチェックしてみましょう。解が唯一であれば`True`、複数解を持てば`False`が返ります。\n",
    "複数解を持つ場合は、どの単語が入れ替え可能であるかを表示します。"
   ]
  },
  {
   "cell_type": "code",
   "execution_count": 43,
   "metadata": {
    "scrolled": false
   },
   "outputs": [
    {
     "data": {
      "text/plain": [
       "True"
      ]
     },
     "execution_count": 43,
     "metadata": {},
     "output_type": "execute_result"
    }
   ],
   "source": [
    "puzzle.isSimpleSol(plc)"
   ]
  },
  {
   "cell_type": "markdown",
   "metadata": {},
   "source": [
    "---\n",
    "## パズルの画像化"
   ]
  },
  {
   "cell_type": "markdown",
   "metadata": {},
   "source": [
    "最後に、生成されたパズルを画像として出力してみましょう。パズルを他人と共有する際に便利です。"
   ]
  },
  {
   "cell_type": "code",
   "execution_count": 44,
   "metadata": {},
   "outputs": [],
   "source": [
    "from matplotlib.font_manager import FontProperties\n",
    "import math\n",
    "fp = FontProperties(fname=\"fonts/SourceHanCodeJP.ttc\", size=14)\n",
    "\n",
    "def createImage(self, data):   \n",
    "    # パズル画像生成\n",
    "    collors = np.where(self.cover<1, \"#000000\", \"#FFFFFF\")\n",
    "    df = pd.DataFrame(data)\n",
    "\n",
    "    fig=plt.figure(figsize=(16, 8))\n",
    "    ax1=fig.add_subplot(121)\n",
    "    ax2=fig.add_subplot(122)\n",
    "    ax1.axis(\"off\")\n",
    "    ax2.axis(\"off\")\n",
    "    fig.set_facecolor('#EEEEEE')\n",
    "    ax1_table = ax1.table(cellText=df.values, cellColours=collors, cellLoc=\"center\", bbox=[0, 0, 1, 1])\n",
    "    for _, cell in ax1_table.get_celld().items():\n",
    "        cell.set_text_props(fontproperties=fp)\n",
    "    # テキスト挿入\n",
    "    # 単語リスト\n",
    "    words = [word for word in self.usedWords if word != \"\"]\n",
    "    words.sort()\n",
    "    words = sorted(words, key=len)\n",
    "    \n",
    "    cols=math.ceil(len(words)/height)\n",
    "    padnum=cols*height - len(words)\n",
    "    words+=['']*padnum\n",
    "    words = np.array(words).reshape(cols, height).T.tolist()\n",
    "    \n",
    "    ax2_table = ax2.table(cellText=words, cellColours=None, cellLoc=\"left\", edges=\"open\", bbox=[0, 0, 1, 1])\n",
    "    ax2.set_title(label=\"【単語リスト】\", fontproperties=fp)\n",
    "    for _, cell in ax2_table.get_celld().items():\n",
    "        cell.set_text_props(fontproperties=fp)\n",
    "    \n",
    "    # plt.savefig('crossword.png') #保存\n",
    "    plt.tight_layout()\n",
    "    plt.show() \n",
    "setattr(Puzzle, \"createImage\", createImage)\n",
    "\n",
    "def showProblemImage(self):\n",
    "    data = np.full(width*height, \"\", dtype = \"unicode\").reshape(height,width)\n",
    "    self.createImage(data)\n",
    "setattr(Puzzle, \"showProblemImage\", showProblemImage)\n",
    "    \n",
    "def showAnswerImage(self):\n",
    "    data = self.cell\n",
    "    self.createImage(data)\n",
    "setattr(Puzzle, \"showAnswerImage\", showAnswerImage)\n"
   ]
  },
  {
   "cell_type": "markdown",
   "metadata": {},
   "source": [
    "## 問題"
   ]
  },
  {
   "cell_type": "code",
   "execution_count": 45,
   "metadata": {},
   "outputs": [
    {
     "data": {
      "image/png": "[encoded data removed]",
      "text/plain": [
       "<Figure size 1152x576 with 2 Axes>"
      ]
     },
     "metadata": {},
     "output_type": "display_data"
    }
   ],
   "source": [
    "    puzzle.showProblemImage()"
   ]
  },
  {
   "cell_type": "markdown",
   "metadata": {},
   "source": [
    "## 解答"
   ]
  },
  {
   "cell_type": "code",
   "execution_count": 46,
   "metadata": {},
   "outputs": [
    {
     "data": {
      "image/png": "[encoded data removed]",
      "text/plain": [
       "<Figure size 1152x576 with 2 Axes>"
      ]
     },
     "metadata": {},
     "output_type": "display_data"
    }
   ],
   "source": [
    "puzzle.showAnswerImage()"
   ]
  },
  {
   "cell_type": "markdown",
   "metadata": {},
   "source": [
    "これで、クロスワード自動生成ツールの紹介は終わりになります。\n",
    "ここからは目的関数をさらに定義したり、最適化手法を追加したりして、自由に拡張してください。\n",
    "このノートの作者は辞書の単語に重み付けをしたり、単語の重要性を計算して作業時間を短縮するような処理を追記する予定です。"
   ]
  },
  {
   "cell_type": "code",
   "execution_count": 47,
   "metadata": {},
   "outputs": [
    {
     "name": "stdout",
     "output_type": "stream",
     "text": [
      "e_time:13.975759983062744[s]\n"
     ]
    }
   ],
   "source": [
    "e_time = time.time() - start\n",
    "print (\"e_time:{0}\".format(e_time) + \"[s]\")"
   ]
  }
 ],
 "metadata": {
  "kernelspec": {
   "display_name": "Python 3",
   "language": "python",
   "name": "python3"
  },
  "language_info": {
   "codemirror_mode": {
    "name": "ipython",
    "version": 3
   },
   "file_extension": ".py",
   "mimetype": "text/x-python",
   "name": "python",
   "nbconvert_exporter": "python",
   "pygments_lexer": "ipython3",
   "version": "3.7.0"
  }
 },
 "nbformat": 4,
 "nbformat_minor": 2
}
