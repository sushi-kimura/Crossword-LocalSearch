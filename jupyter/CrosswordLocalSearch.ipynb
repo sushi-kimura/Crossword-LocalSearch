{
 "cells": [
  {
   "cell_type": "markdown",
   "metadata": {},
   "source": [
    "# Crossword Local Search\n",
    "\n",
    "## 概要\n",
    "これはクロスワード(スケルトンパズル)自動生成用ソースをPythonにて再現できないかをテストしたものである。\n",
    "main.cはpythonで代用し、計算量の多い処理は既存のcommon.cをimportして使用する。\n",
    "結果やスコアの推移の視覚化も追加する。"
   ]
  },
  {
   "cell_type": "markdown",
   "metadata": {},
   "source": [
    "***\n",
    "\n",
    "## 入力データ・実行パラメータ設定\n",
    "入力データを指定し、各種実行パラメータの設定を行います。\n",
    "各パラメータは以下の通り：\n",
    "  * `fpath`      : 入力データ(単語リスト)のファイルパス\n",
    "  * `width`          : 盤面の大きさ(横)\n",
    "  * `height`          : 盤面の大きさ(縦)\n",
    "  * `randomSeed`       : シード値\n",
    "  * `withweight` : 辞書に重みを付すかどうか(bool)\n",
    "  * `takemove`   : \"摂動(move)\"を行うかどうか(bool)"
   ]
  },
  {
   "cell_type": "code",
   "execution_count": 1,
   "metadata": {
    "collapsed": false
   },
   "outputs": [],
   "source": [
    "fpath = \"../dict/countries.txt\" # countries.txt hokkaido.txt\n",
    "width = 5\n",
    "height = 5\n",
    "randomSeed = 1\n",
    "withweight = False\n",
    "takemove = True"
   ]
  },
  {
   "cell_type": "markdown",
   "metadata": {},
   "source": [
    "***\n",
    "\n",
    "## Import\n",
    "必要なライブラリをimportする："
   ]
  },
  {
   "cell_type": "code",
   "execution_count": 2,
   "metadata": {
    "collapsed": false
   },
   "outputs": [],
   "source": [
    "import numpy as np\n",
    "from numpy.random import *\n",
    "import pandas as pd\n",
    "import matplotlib.pyplot as plt\n",
    "import seaborn as sns\n",
    "import unicodedata\n",
    "import sys\n",
    "\n",
    "from IPython.display import display\n",
    "from PIL import Image\n",
    "from IPython.display import HTML\n",
    "%matplotlib inline"
   ]
  },
  {
   "cell_type": "markdown",
   "metadata": {},
   "source": [
    "***\n",
    "\n",
    "## クラス宣言\n",
    "本プログラムで使用するクラスを定義する。\n",
    "見やすさのため、クラスメソッドは後から定義し、`setattr`関数でアトリビュートに追加します。\n",
    "\n",
    "\n",
    "### Puzzle クラス\n",
    "解となるスケルトンパズルそのものを表すクラス。\n",
    "メンバ変数は以下の通り：\n",
    "  * width : 盤面の大きさ(横)\n",
    "  * height : 盤面の大きさ(縦)\n",
    "  * enable : 配置禁止マスを保持した2次元(width*height)配列\n",
    "  * cell : 作業用2次元(width*height)配列\n",
    "  * cover : セル上の文字数を保持する2次元(width*height)配列\n",
    "  * sol : パズルの解を保存する2次元(width*height)配列\n",
    "  * solSize : パズルに配置されている単語の数"
   ]
  },
  {
   "cell_type": "code",
   "execution_count": 3,
   "metadata": {
    "collapsed": true
   },
   "outputs": [],
   "source": [
    "class Puzzle():\n",
    "    def __init__(self, width, height):\n",
    "        self.width = width\n",
    "        self.height = height\n",
    "        self.enable = np.ones(width*height, dtype = \"bool\").reshape(height,width)\n",
    "        self.cell = np.full(width*height, \" \", dtype = \"unicode\").reshape(height,width)\n",
    "        self.cover = np.zeros(width*height, dtype = \"int64\").reshape(height,width)\n",
    "        self.sol = np.full(width*height, \" \",  dtype = \"unicode\").reshape(height,width)\n",
    "        self.solSize = 0\n",
    "        ## Message\n",
    "        print(\"Puzzle object has made.\")\n",
    "        print(\" - width       : %d\" % self.width)\n",
    "        print(\" - height      : %d\" % self.height)\n",
    "        print(\" - cell' shape : (width, height) = (%d,%d)\" % (self.cell.shape[0], self.cell.shape[1]))"
   ]
  },
  {
   "cell_type": "code",
   "execution_count": 4,
   "metadata": {
    "collapsed": false
   },
   "outputs": [
    {
     "name": "stdout",
     "output_type": "stream",
     "text": [
      "Puzzle object has made.\n",
      " - width       : 5\n",
      " - height      : 5\n",
      " - cell' shape : (width, height) = (5,5)\n"
     ]
    }
   ],
   "source": [
    "puzzle = Puzzle(width, height)"
   ]
  },
  {
   "cell_type": "markdown",
   "metadata": {},
   "source": [
    "### Dictionary クラス\n",
    "入力した単語リストを整理して保持するクラス。\n",
    "メンバ変数は以下の通り：\n",
    "  * fpath : 入力データのファイルパス\n",
    "  * size : 辞書の大きさ(単語数)\n",
    "  * dictType : 辞書のタイプ(\"English\"/\"Japanese\")\n",
    "  * data : 入力データ配列"
   ]
  },
  {
   "cell_type": "code",
   "execution_count": 5,
   "metadata": {
    "collapsed": false
   },
   "outputs": [],
   "source": [
    "class Dictionary():        \n",
    "    def __init__(self, fpath=\"unknown\"):\n",
    "        self.fpath = fpath\n",
    "        print(\"Dictionary object has made.\")\n",
    "        \n",
    "        ## Read\n",
    "        print(\" - READING DICTIONARY...\")\n",
    "        file = open(self.fpath)\n",
    "        self.data = file.readlines()\n",
    "        file.close()\n",
    "        # Get a size of dictionary\n",
    "        self.size = len(self.data)\n",
    "        # Check dictionary type(English/Japanese)\n",
    "        uniName = unicodedata.name(self.data[0][0])[0:10]\n",
    "        if \"HIRAGANA\" in uniName or \"KATAKANA\" in uniName:\n",
    "            self.dictType = \"Japanese\"\n",
    "        elif \"LATIN\" in uniName:\n",
    "            self.dictType = \"English\"\n",
    "            self.data = [s.upper() for s in self.data]\n",
    "        # Remove \"\\n\" & Check type for all letters\n",
    "        for i in range(self.size):\n",
    "            self.data[i] = self.data[i].rstrip(\"\\n\")\n",
    "            if unicodedata.name(self.data[i][0])[0:10] != uniName:\n",
    "                sys.stderr.write(\"error: invalid dictionary (%s)\\n\" % self.data[i])\n",
    "\n",
    "        ## Message\n",
    "        print(\" - file path         : %s\" % self.fpath)\n",
    "        print(\" - dictionary size   : %d\" % self.size)\n",
    "        print(\" - dictionary type   : %s\" % self.dictType)\n",
    "        print(\" - top of dictionary : %s\" % self.data[0])"
   ]
  },
  {
   "cell_type": "code",
   "execution_count": 6,
   "metadata": {
    "collapsed": false,
    "scrolled": false
   },
   "outputs": [
    {
     "name": "stdout",
     "output_type": "stream",
     "text": [
      "Dictionary object has made.\n",
      " - READING DICTIONARY...\n",
      " - file path         : ../dict/countries.txt\n",
      " - dictionary size   : 207\n",
      " - dictionary type   : English\n",
      " - top of dictionary : AFGHANISTAN\n"
     ]
    }
   ],
   "source": [
    "dic = Dictionary(fpath)"
   ]
  },
  {
   "cell_type": "markdown",
   "metadata": {},
   "source": [
    "### Placeable クラス\n",
    "辞書内のすべての単語に対して、それぞれの単語が配置可能(placeable)な位置の一覧を作る。これは`Puzzle`クラスと`Dictionary`クラスの両方の要素を用いて行われる。\n",
    "\n",
    "配置可能な位置は、単語の先頭文字の座標で指定する。ここでは、パズルの左上を(0,0)、右上を(n,0)、左下を(0,n)、右下を(n,n)とする。\n",
    "例えば、大きさが5×5のパズル上に`Dictionary`クラスの5番目に格納された長さ4文字の単語「HOGE」を配置しようとした場合、配置可能な位置は\n",
    "  * 横向きの場合：(0,0),(0,1),(0,2),(0,3)(0,4),(1,0),(1,1),(1,2),(1,3),(1,4)の10マス。\n",
    "  * 縦向きの場合：(0,0),(1,0),(2,0),(3,0)(4,0),(0,1),(1,1),(2,1),(3,1),(4,1)の10マス。\n",
    "よって。配置する場合のパターンは全部で20通りになる。"
   ]
  },
  {
   "cell_type": "code",
   "execution_count": 7,
   "metadata": {
    "collapsed": false
   },
   "outputs": [],
   "source": [
    "#display(Image.open(\"fig/puzzles.png\"))"
   ]
  },
  {
   "cell_type": "markdown",
   "metadata": {},
   "source": [
    "これらの情報は次のフォーマットで整理される：\n",
    "  * k : 単語番号(辞書内の何番目の単語か)\n",
    "  * div : 単語を置く向き(0: 縦, 1: 横)\n",
    "  * j : 単語の先頭文字のx座標\n",
    "  * i : 単語の先頭文字のy座標"
   ]
  },
  {
   "cell_type": "code",
   "execution_count": 8,
   "metadata": {
    "collapsed": false
   },
   "outputs": [
    {
     "data": {
      "text/html": [
       "<div>\n",
       "<table border=\"1\" class=\"dataframe\">\n",
       "  <thead>\n",
       "    <tr style=\"text-align: right;\">\n",
       "      <th></th>\n",
       "      <th>k</th>\n",
       "      <th>div</th>\n",
       "      <th>j</th>\n",
       "      <th>i</th>\n",
       "    </tr>\n",
       "  </thead>\n",
       "  <tbody>\n",
       "    <tr>\n",
       "      <th>p1</th>\n",
       "      <td>5</td>\n",
       "      <td>0</td>\n",
       "      <td>0</td>\n",
       "      <td>0</td>\n",
       "    </tr>\n",
       "    <tr>\n",
       "      <th>p2</th>\n",
       "      <td>5</td>\n",
       "      <td>0</td>\n",
       "      <td>0</td>\n",
       "      <td>1</td>\n",
       "    </tr>\n",
       "    <tr>\n",
       "      <th>p3</th>\n",
       "      <td>5</td>\n",
       "      <td>0</td>\n",
       "      <td>0</td>\n",
       "      <td>2</td>\n",
       "    </tr>\n",
       "    <tr>\n",
       "      <th>p4</th>\n",
       "      <td>5</td>\n",
       "      <td>0</td>\n",
       "      <td>0</td>\n",
       "      <td>3</td>\n",
       "    </tr>\n",
       "    <tr>\n",
       "      <th>p5</th>\n",
       "      <td>5</td>\n",
       "      <td>0</td>\n",
       "      <td>0</td>\n",
       "      <td>4</td>\n",
       "    </tr>\n",
       "    <tr>\n",
       "      <th>p6</th>\n",
       "      <td>5</td>\n",
       "      <td>0</td>\n",
       "      <td>1</td>\n",
       "      <td>0</td>\n",
       "    </tr>\n",
       "    <tr>\n",
       "      <th>p7</th>\n",
       "      <td>5</td>\n",
       "      <td>0</td>\n",
       "      <td>1</td>\n",
       "      <td>1</td>\n",
       "    </tr>\n",
       "    <tr>\n",
       "      <th>p8</th>\n",
       "      <td>5</td>\n",
       "      <td>0</td>\n",
       "      <td>1</td>\n",
       "      <td>2</td>\n",
       "    </tr>\n",
       "    <tr>\n",
       "      <th>p9</th>\n",
       "      <td>5</td>\n",
       "      <td>0</td>\n",
       "      <td>1</td>\n",
       "      <td>3</td>\n",
       "    </tr>\n",
       "    <tr>\n",
       "      <th>p10</th>\n",
       "      <td>5</td>\n",
       "      <td>0</td>\n",
       "      <td>1</td>\n",
       "      <td>4</td>\n",
       "    </tr>\n",
       "    <tr>\n",
       "      <th>p11</th>\n",
       "      <td>5</td>\n",
       "      <td>1</td>\n",
       "      <td>0</td>\n",
       "      <td>0</td>\n",
       "    </tr>\n",
       "    <tr>\n",
       "      <th>p12</th>\n",
       "      <td>5</td>\n",
       "      <td>1</td>\n",
       "      <td>1</td>\n",
       "      <td>0</td>\n",
       "    </tr>\n",
       "    <tr>\n",
       "      <th>p13</th>\n",
       "      <td>5</td>\n",
       "      <td>1</td>\n",
       "      <td>2</td>\n",
       "      <td>0</td>\n",
       "    </tr>\n",
       "    <tr>\n",
       "      <th>p14</th>\n",
       "      <td>5</td>\n",
       "      <td>1</td>\n",
       "      <td>3</td>\n",
       "      <td>0</td>\n",
       "    </tr>\n",
       "    <tr>\n",
       "      <th>p15</th>\n",
       "      <td>5</td>\n",
       "      <td>0</td>\n",
       "      <td>4</td>\n",
       "      <td>0</td>\n",
       "    </tr>\n",
       "    <tr>\n",
       "      <th>p16</th>\n",
       "      <td>5</td>\n",
       "      <td>1</td>\n",
       "      <td>0</td>\n",
       "      <td>1</td>\n",
       "    </tr>\n",
       "    <tr>\n",
       "      <th>p17</th>\n",
       "      <td>5</td>\n",
       "      <td>1</td>\n",
       "      <td>1</td>\n",
       "      <td>1</td>\n",
       "    </tr>\n",
       "    <tr>\n",
       "      <th>p18</th>\n",
       "      <td>5</td>\n",
       "      <td>1</td>\n",
       "      <td>2</td>\n",
       "      <td>1</td>\n",
       "    </tr>\n",
       "    <tr>\n",
       "      <th>p19</th>\n",
       "      <td>5</td>\n",
       "      <td>1</td>\n",
       "      <td>3</td>\n",
       "      <td>1</td>\n",
       "    </tr>\n",
       "    <tr>\n",
       "      <th>p20</th>\n",
       "      <td>5</td>\n",
       "      <td>1</td>\n",
       "      <td>4</td>\n",
       "      <td>1</td>\n",
       "    </tr>\n",
       "  </tbody>\n",
       "</table>\n",
       "</div>"
      ],
      "text/plain": [
       "     k  div  j  i\n",
       "p1   5    0  0  0\n",
       "p2   5    0  0  1\n",
       "p3   5    0  0  2\n",
       "p4   5    0  0  3\n",
       "p5   5    0  0  4\n",
       "p6   5    0  1  0\n",
       "p7   5    0  1  1\n",
       "p8   5    0  1  2\n",
       "p9   5    0  1  3\n",
       "p10  5    0  1  4\n",
       "p11  5    1  0  0\n",
       "p12  5    1  1  0\n",
       "p13  5    1  2  0\n",
       "p14  5    1  3  0\n",
       "p15  5    0  4  0\n",
       "p16  5    1  0  1\n",
       "p17  5    1  1  1\n",
       "p18  5    1  2  1\n",
       "p19  5    1  3  1\n",
       "p20  5    1  4  1"
      ]
     },
     "execution_count": 8,
     "metadata": {},
     "output_type": "execute_result"
    }
   ],
   "source": [
    "pd.DataFrame([[5,0,0,0],[5,0,0,1],[5,0,0,2],[5,0,0,3],[5,0,0,4],\n",
    "              [5,0,1,0],[5,0,1,1],[5,0,1,2],[5,0,1,3],[5,0,1,4],\n",
    "              [5,1,0,0],[5,1,1,0],[5,1,2,0],[5,1,3,0],[5,0,4,0],\n",
    "              [5,1,0,1],[5,1,1,1],[5,1,2,1],[5,1,3,1],[5,1,4,1],],\n",
    "             columns=[\"k\",\"div\",\"j\",\"i\"],\n",
    "             index=[\"p1\",\"p2\",\"p3\",\"p4\",\"p5\",\"p6\",\"p7\",\"p8\",\"p9\",\"p10\",\n",
    "                    \"p11\",\"p12\",\"p13\",\"p14\",\"p15\",\"p16\",\"p17\",\"p18\",\"p19\",\"p20\"]\n",
    "            )"
   ]
  },
  {
   "cell_type": "markdown",
   "metadata": {},
   "source": [
    "メンバ変数は以下の通り：\n",
    "  * size : Placeableオブジェクトの大きさ\n",
    "  * width : 引数のパズルの横幅\n",
    "  * height : 引数のパズルの縦幅\n",
    "  * dic : 引数の辞書\n",
    "  * div : Placeable成分の文字列の方向\n",
    "  * k : Placeable成分の文字の番号\n",
    "  * i : Placeable成分のy方向の座標\n",
    "  * j : Placeable成分のx方向の座標\n",
    "  * used : Placeable成分が既に使われているかどうか(bool)\n",
    "  * used_idx : 解として使われたPlaceable成分のインデックス集合\n",
    "  * invP : Placeableオブジェクトの逆写像"
   ]
  },
  {
   "cell_type": "code",
   "execution_count": 9,
   "metadata": {
    "collapsed": false
   },
   "outputs": [],
   "source": [
    "class Placeable():\n",
    "    def __init__(self, puzzle, dictionary):\n",
    "        self.size = 0\n",
    "        self.width = puzzle.width\n",
    "        self.height = puzzle.height\n",
    "        self.dic = dictionary\n",
    "        self.div = np.zeros(2*self.dic.size*self.width*self.height, dtype='int64')\n",
    "        self.k = np.zeros(2*self.dic.size*self.width*self.height, dtype='int64')\n",
    "        self.i = np.zeros(2*self.dic.size*self.width*self.height, dtype='int64')\n",
    "        self.j = np.zeros(2*self.dic.size*self.width*self.height, dtype='int64')\n",
    "        self.used = np.zeros(2*self.dic.size*self.width*self.height, dtype = \"bool\")\n",
    "        self.used_idx = np.full(self.width*self.height, -1, dtype='int64')\n",
    "        self.invP = np.zeros(2*self.dic.size*self.width*self.height, dtype='int64').reshape(2,self.dic.size,self.height,self.width)\n",
    "\n",
    "        for div in range(2):\n",
    "            for k in range(self.dic.size):\n",
    "                if div == 0:\n",
    "                    iMax = self.height - len(self.dic.data[k])\n",
    "                    jMax = self.width - 1\n",
    "                elif div == 1:\n",
    "                    iMax = self.height - 1\n",
    "                    jMax = self.width - len(self.dic.data[k])\n",
    "                \n",
    "                for i in range(iMax+1):\n",
    "                    for j in range(jMax+1):\n",
    "                        self.div[self.size] = div\n",
    "                        self.k[self.size] = k\n",
    "                        self.i[self.size] = i\n",
    "                        self.j[self.size] = j\n",
    "                        self.invP[div][k][i][j] = self.size\n",
    "                        self.size += 1\n",
    "        print(\"Placeable object has made.\")\n",
    "        print(\" - placeable size : %d/%d(max shape)\" % (self.size, self.div.size))"
   ]
  },
  {
   "cell_type": "code",
   "execution_count": 10,
   "metadata": {
    "collapsed": false
   },
   "outputs": [
    {
     "name": "stdout",
     "output_type": "stream",
     "text": [
      "Placeable object has made.\n",
      " - placeable size : 670/10350(max shape)\n"
     ]
    }
   ],
   "source": [
    "placeable = Placeable(puzzle, dic)"
   ]
  },
  {
   "cell_type": "markdown",
   "metadata": {},
   "source": [
    "### ObjectiveFunction クラス\n",
    "生成したパズルは何らかの指標で定量的にその良し悪しを評価する必要があります。\n",
    "そのパズルの良し悪しの指標として、「目的関数」を定義します。\n",
    "目的関数は、パズルの初期解が得られてから、そのパズルを改善していくために使われます。\n",
    "目的関数には様々な指標が考えられるため、それらを管理する`ObjectiveFunction`クラスを定義します："
   ]
  },
  {
   "cell_type": "code",
   "execution_count": 11,
   "metadata": {
    "collapsed": false
   },
   "outputs": [],
   "source": [
    "class ObjectiveFunction():\n",
    "    def __init__(self, puzzle):\n",
    "        self.score = 0\n",
    "        self.puzzle = puzzle\n",
    "        print(\"ObjectiveFunction object has made.\")"
   ]
  },
  {
   "cell_type": "code",
   "execution_count": 12,
   "metadata": {
    "collapsed": false
   },
   "outputs": [
    {
     "name": "stdout",
     "output_type": "stream",
     "text": [
      "ObjectiveFunction object has made.\n"
     ]
    }
   ],
   "source": [
    "objFunc = ObjectiveFunction(puzzle)"
   ]
  },
  {
   "cell_type": "markdown",
   "metadata": {},
   "source": [
    "`ObjectiveFunction`クラスについての詳しい説明と実装は後ほど行われます。"
   ]
  },
  {
   "cell_type": "markdown",
   "metadata": {},
   "source": [
    "### Optimizer クラス\n",
    "目的関数を指標にパズルを改善していく際、どのような手法で最適化していくのかも重要なカギになります。\n",
    "機械学習などの最適化問題に使われる手法には「Adam」や「RMSProp」などがあります。\n",
    "しかし、本プログラムで使用される１つの手法は「反復局所探索法」になります。\n",
    "それ以外にも最適化手法は様々考えられるため、これら管理する`Optimizer`クラスを定義しておきましょう："
   ]
  },
  {
   "cell_type": "code",
   "execution_count": 13,
   "metadata": {
    "collapsed": true
   },
   "outputs": [],
   "source": [
    "class Optimizer():\n",
    "    def __init__(self, puzzle):\n",
    "        self.puzzle = puzzle\n",
    "        print(\"Opimizer object has made.\")"
   ]
  },
  {
   "cell_type": "code",
   "execution_count": 14,
   "metadata": {
    "collapsed": false,
    "scrolled": true
   },
   "outputs": [
    {
     "name": "stdout",
     "output_type": "stream",
     "text": [
      "Opimizer object has made.\n"
     ]
    }
   ],
   "source": [
    "optimizer = Optimizer(puzzle)"
   ]
  },
  {
   "cell_type": "markdown",
   "metadata": {},
   "source": [
    "`Optimizer`クラスについての詳しい説明と実装は後ほど行われます。\n",
    "また、`ObjectiveFunction`オブジェクトと`Optimizer`オブジェクトは同時に`Puzzle`オブジェクトにコンパイルすることで、`Puzzle`オブジェクトから呼び出しが可能になります。\n",
    "目的関数と最適化手法をパズルにコンパイルするための`compile`メソッドも後ほど実装します。"
   ]
  },
  {
   "cell_type": "markdown",
   "metadata": {},
   "source": [
    "***\n",
    "## パズル生成\n",
    "ここから、実際にパズルを生成していく。\n",
    "まずは、`placeable`オブジェクトからランダムに単語の配置可能位置を取得し、パズルの盤面に単語を詰められなくなるまで詰めます。\n",
    "その準備として、`placeable`オブジェクトのインデックスの順番をランダムに取得できるよう、`randomIndex`を作成します："
   ]
  },
  {
   "cell_type": "code",
   "execution_count": 15,
   "metadata": {
    "collapsed": false
   },
   "outputs": [
    {
     "name": "stdout",
     "output_type": "stream",
     "text": [
      "[  0   1   2   3   4   5   6   7   8   9  10  11  12  13  14  15  16  17\n",
      "  18  19  20  21  22  23  24  25  26  27  28  29  30  31  32  33  34  35\n",
      "  36  37  38  39  40  41  42  43  44  45  46  47  48  49  50  51  52  53\n",
      "  54  55  56  57  58  59  60  61  62  63  64  65  66  67  68  69  70  71\n",
      "  72  73  74  75  76  77  78  79  80  81  82  83  84  85  86  87  88  89\n",
      "  90  91  92  93  94  95  96  97  98  99 100 101 102 103 104 105 106 107\n",
      " 108 109 110 111 112 113 114 115 116 117 118 119 120 121 122 123 124 125\n",
      " 126 127 128 129 130 131 132 133 134 135 136 137 138 139 140 141 142 143\n",
      " 144 145 146 147 148 149 150 151 152 153 154 155 156 157 158 159 160 161\n",
      " 162 163 164 165 166 167 168 169 170 171 172 173 174 175 176 177 178 179\n",
      " 180 181 182 183 184 185 186 187 188 189 190 191 192 193 194 195 196 197\n",
      " 198 199 200 201 202 203 204 205 206 207 208 209 210 211 212 213 214 215\n",
      " 216 217 218 219 220 221 222 223 224 225 226 227 228 229 230 231 232 233\n",
      " 234 235 236 237 238 239 240 241 242 243 244 245 246 247 248 249 250 251\n",
      " 252 253 254 255 256 257 258 259 260 261 262 263 264 265 266 267 268 269\n",
      " 270 271 272 273 274 275 276 277 278 279 280 281 282 283 284 285 286 287\n",
      " 288 289 290 291 292 293 294 295 296 297 298 299 300 301 302 303 304 305\n",
      " 306 307 308 309 310 311 312 313 314 315 316 317 318 319 320 321 322 323\n",
      " 324 325 326 327 328 329 330 331 332 333 334 335 336 337 338 339 340 341\n",
      " 342 343 344 345 346 347 348 349 350 351 352 353 354 355 356 357 358 359\n",
      " 360 361 362 363 364 365 366 367 368 369 370 371 372 373 374 375 376 377\n",
      " 378 379 380 381 382 383 384 385 386 387 388 389 390 391 392 393 394 395\n",
      " 396 397 398 399 400 401 402 403 404 405 406 407 408 409 410 411 412 413\n",
      " 414 415 416 417 418 419 420 421 422 423 424 425 426 427 428 429 430 431\n",
      " 432 433 434 435 436 437 438 439 440 441 442 443 444 445 446 447 448 449\n",
      " 450 451 452 453 454 455 456 457 458 459 460 461 462 463 464 465 466 467\n",
      " 468 469 470 471 472 473 474 475 476 477 478 479 480 481 482 483 484 485\n",
      " 486 487 488 489 490 491 492 493 494 495 496 497 498 499 500 501 502 503\n",
      " 504 505 506 507 508 509 510 511 512 513 514 515 516 517 518 519 520 521\n",
      " 522 523 524 525 526 527 528 529 530 531 532 533 534 535 536 537 538 539\n",
      " 540 541 542 543 544 545 546 547 548 549 550 551 552 553 554 555 556 557\n",
      " 558 559 560 561 562 563 564 565 566 567 568 569 570 571 572 573 574 575\n",
      " 576 577 578 579 580 581 582 583 584 585 586 587 588 589 590 591 592 593\n",
      " 594 595 596 597 598 599 600 601 602 603 604 605 606 607 608 609 610 611\n",
      " 612 613 614 615 616 617 618 619 620 621 622 623 624 625 626 627 628 629\n",
      " 630 631 632 633 634 635 636 637 638 639 640 641 642 643 644 645 646 647\n",
      " 648 649 650 651 652 653 654 655 656 657 658 659 660 661 662 663 664 665\n",
      " 666 667 668 669]\n",
      "[657 397 304  85  60 293  57  23 277 248 285  92 620 173 299 455 502 339\n",
      " 558 607 172 425  59  35 491 261 618 318 306 307 452 371 667 650 664 482\n",
      " 104 575 592 577 255 615  13 635 286  41 537  47 372 604 460  56 432 328\n",
      "  69 350 556 223 347 139 644 111 533 465 447  66 354 360 656 214 181 236\n",
      " 368 233 132  81 442 527 654  34 535 373 363 500 621 625 394 422 660   0\n",
      " 159  17 464 323 632  82 134 531 161 467 546 361 379 119 663  65 101  11\n",
      " 120  88 352 501 247 364 543 609 457 359 148 551 257 382 107  45 517 121\n",
      " 596 305  49 400 563 362 311 473 610 436 116 472 525 189 180 218 197  62\n",
      " 409 289 135 375 395 582 506 553  90 453  29 388 417 334 273 566 406 448\n",
      " 555 160 474 415 103 185 224 301 165 260  80 419 396   3 443   9 550 241\n",
      " 479 207 179 365 523 554 333 619 481 557  40 584   5 195 346 341  38 547\n",
      " 445 541 201 162  67 124  39 242 511 335 147 402 449 594 483 629 494  31\n",
      " 377 435 349  95 536 259 187 268 146 337  74 463 392  61 412 314  76 638\n",
      " 383 186 353  68 529 605 118 441   4  16 526 521 636  19 245 421 200 407\n",
      " 637 117 262 446  78 612  42 133 345 545 250 433 351 274 192 410 329 312\n",
      " 496 358 404 157 458 414 643 498 102  52 430 591  97 606 128 177 110 493\n",
      " 459 642 520 142 539   6 267 519 237 386  58 232 611 549 203 434 284 355\n",
      "   2 331 217  46 225  18 168 653 292 603 510 499 283 516 495 343  93 213\n",
      " 258 291 661 106 115 439 665 374  36 600 204 244 221 246 427 509 249 122\n",
      " 568 164 570 576 552 239 573 423 295 587  70 399 408  98 385 616  30 340\n",
      " 585 127 560   1 378  27  89 308  73 184 171 440 530 504 411  91 428 370\n",
      " 578 125 649 315 376  12 579 429 669 480 238 114 641 309 143 426  14 630\n",
      "  54 208 344 131 380 174 528 191 270 437 123 138 613  51 220 112 265 512\n",
      " 272 342 256 182 105 300 659 507 240 230 153 326 205 487 294 150 648 163\n",
      " 167 438 206 188 486 324 145 647 226 216 194 202 298 565 598 524 639 488\n",
      " 389 540 175 602  94 229 484 280 518 403 538 228 100 290 597 444 366 634\n",
      "  53 227 391 646 668 154 251 275 652 475 158 271  44 658 113  24 211 108\n",
      " 320 169  79  50 522  84   8  32  99 109 136 330 222  28 287 572  55 156\n",
      " 589 601 310  48  83 655 559  33 477  63 413 384 593 322 451 234 462 424\n",
      " 622 303 590 219 581 296  21 420 325 199 450 137 212 666 624 614 505 544\n",
      " 231 405 317 183 571 574 485 278  20 170 401 617 176 327 198 470 651 266\n",
      " 492 130 338 567 489 193 140 416 476 152 599  10 269  96 210 662 569 548\n",
      " 631 532 623 332  75  77 263 149 514 628 469 564 461 253 369 321 151 302\n",
      " 190 586 348 243  87 608 418 288 166 595 626 155 356 381 279 126  22 282\n",
      " 471 367  25 196  64  15 466 297 336  26 588  43 497 515 640 561 454 387\n",
      "  71 542 456 633 431 627 264 209 316 513 313 534 319   7 393 141  86 478\n",
      " 503 215 580 562 398 490 252 468 357 254 276 178 281 390 508 583 129 144\n",
      " 645  72 235  37]\n"
     ]
    }
   ],
   "source": [
    "# Make a random index of placeable\n",
    "randomIndex = np.arange(placeable.size)\n",
    "print(randomIndex)\n",
    "seed(seed = randomSeed)\n",
    "shuffle(randomIndex)\n",
    "print(randomIndex)"
   ]
  },
  {
   "cell_type": "markdown",
   "metadata": {},
   "source": [
    "次に、パズルに単語を詰めていきます。\n",
    "単語を詰めるための関数として、`add`メソッドを`Puzzle`クラスに追加します。その前に、`add`メソッド内で呼ぶ、単語が配置可能かどうかをBoolianで返す`isEnabledAdd`メソッドを定義する："
   ]
  },
  {
   "cell_type": "code",
   "execution_count": 16,
   "metadata": {
    "collapsed": false
   },
   "outputs": [],
   "source": [
    "### isEnabledAdd\n",
    "def isEnabledAdd(self, plc, idx, wLen):\n",
    "    crossing = False\n",
    "    crossSame = False\n",
    "\n",
    "    # If 0 words used, return True\n",
    "    if self.solSize == 0:\n",
    "        return True\n",
    "\n",
    "    # If the word is already in use, return False\n",
    "    if plc.used[idx] == True:\n",
    "        return False\n",
    "\n",
    "    # If the same word is in use, return False\n",
    "    for used_idx in plc.used_idx:\n",
    "        if used_idx != -1 and plc.k[idx] == plc.k[used_idx]:\n",
    "            return False\n",
    "\n",
    "    # If the word does not fit in the puzzle, return False\n",
    "    if plc.div[idx] == 0 and plc.i[idx]+wLen > self.height:\n",
    "        return False\n",
    "    if plc.div[idx] == 1 and plc.j[idx]+wLen > self.width:\n",
    "        return False\n",
    "\n",
    "    # US/USA, DOMINICA/DOMINICAN probrem\n",
    "    flag = False\n",
    "    for p in range(wLen):\n",
    "        if plc.div[idx] == 0:\n",
    "            if self.enable[plc.i[idx]+p][plc.j[idx]] == False:\n",
    "                return False\n",
    "            if self.cell[plc.i[idx]+p][plc.j[idx]] == \" \":\n",
    "                flag = True\n",
    "                break\n",
    "        elif plc.div[idx] == 1:\n",
    "            if self.enable[plc.i[idx]][plc.j[idx]+p] == False:\n",
    "                return False\n",
    "            if self.cell[plc.i[idx]][plc.j[idx]+p] == \" \":\n",
    "                flag = True\n",
    "                break\n",
    "    if flag == False:\n",
    "        return False\n",
    "    \n",
    "    # Judge intersection and whether prohibited\n",
    "    for p in range(wLen):\n",
    "        letter = plc.dic.data[plc.k[idx]][p]\n",
    "        if plc.div[idx] == 0 and self.cell[plc.i[idx]+p][plc.j[idx]] != \" \":\n",
    "            crossing = True\n",
    "            crossSame = (letter == self.cell[plc.i[idx]+p][plc.j[idx]])\n",
    "        elif plc.div[idx] == 1 and self.cell[plc.i[idx]][plc.j[idx]+p] != \" \":\n",
    "            crossing = True\n",
    "            crossSame = (letter == self.cell[plc.i[idx]][plc.j[idx]+p])\n",
    "        if crossing == True and crossSame == False:\n",
    "            return False\n",
    "        \n",
    "    if crossing == False:\n",
    "        return False\n",
    "\n",
    "    # If neighbor cells are filled except at the intersection, return False\n",
    "    for p in range(wLen):\n",
    "        if plc.div[idx] == 0 and self.cell[plc.i[idx]+p][plc.j[idx]] == \" \":\n",
    "            # Left side\n",
    "            if plc.j[idx] > 0 and self.cell[plc.i[idx]+p][plc.j[idx]-1] != \" \":\n",
    "                return False\n",
    "            # Right side\n",
    "            if plc.j[idx] < self.width-1 and self.cell[plc.i[idx]+p][plc.j[idx]+1] != \" \":\n",
    "                return False\n",
    "        if plc.div[idx] == 1 and self.cell[plc.i[idx]][plc.j[idx]+p] == \" \":\n",
    "            # Upper\n",
    "            if plc.i[idx] > 0 and self.cell[plc.i[idx]-1][plc.j[idx]+p] != \" \":\n",
    "                return False\n",
    "            # Lower\n",
    "            if plc.i[idx] < self.height-1 and self.cell[plc.i[idx]+1][plc.j[idx]+p] != \" \":\n",
    "                return False\n",
    "            \n",
    "    # If the preceding and succeeding cells are already filled\n",
    "    if plc.div[idx] == 0:\n",
    "        if plc.i[idx] > 0 and self.cell[plc.i[idx]-1][plc.j[idx]] != \" \":\n",
    "            return False\n",
    "        if plc.i[idx]+wLen < self.height and self.cell[plc.i[idx]+wLen][plc.j[idx]] != \" \":\n",
    "            return False\n",
    "    if plc.div[idx] == 1:\n",
    "        if plc.j[idx] > 0 and self.cell[plc.i[idx]][plc.j[idx]-1] != \" \":\n",
    "            return False\n",
    "        if plc.j[idx]+wLen < self.width and self.cell[plc.i[idx]][plc.j[idx]+wLen] != \" \":\n",
    "            return False\n",
    "\n",
    "    # If Break through the all barrier, return True\n",
    "    return True\n",
    "\n",
    "# Set attribute to Puzzle class\n",
    "setattr(Puzzle, \"isEnabledAdd\", isEnabledAdd)"
   ]
  },
  {
   "cell_type": "markdown",
   "metadata": {},
   "source": [
    "次に、所望の単語をパズルに配置する`add`メソッドを定義する："
   ]
  },
  {
   "cell_type": "code",
   "execution_count": 17,
   "metadata": {
    "collapsed": false
   },
   "outputs": [],
   "source": [
    "### add\n",
    "def add(self, plc, idx):\n",
    "    # Get the word length\n",
    "    wLen = len(plc.dic.data[plc.k[idx]])\n",
    "\n",
    "    # Judge whether adding is enabled\n",
    "    if self.isEnabledAdd(plc, idx, wLen) == False:\n",
    "        return\n",
    "    \n",
    "    # Put the word to puzzle\n",
    "    if plc.div[idx] == 0:\n",
    "        for p in range(wLen):\n",
    "            self.cell[plc.i[idx]+p][plc.j[idx]] = plc.dic.data[plc.k[idx]][p]\n",
    "    if plc.div[idx] == 1:\n",
    "        for p in range(wLen):\n",
    "            self.cell[plc.i[idx]][plc.j[idx]+p] = plc.dic.data[plc.k[idx]][p]\n",
    "\n",
    "    # Set the prohibited cell before and after placed word\n",
    "    if plc.div[idx] == 0:\n",
    "        if plc.i[idx] > 0:\n",
    "            self.enable[plc.i[idx]-1][plc.j[idx]] = False\n",
    "        if plc.i[idx]+wLen < self.height:\n",
    "            self.enable[plc.i[idx]+wLen][plc.j[idx]] = False\n",
    "    if plc.div[idx] == 1:\n",
    "        if plc.j[idx] > 0:\n",
    "            self.enable[plc.i[idx]][plc.j[idx]-1] = False\n",
    "        if plc.j[idx]+wLen < self.width:\n",
    "            self.enable[plc.i[idx]][plc.j[idx]+wLen] = False\n",
    "    \n",
    "    # Update cover array\n",
    "    if plc.div[idx] == 0:\n",
    "        for p in range(wLen):\n",
    "            self.cover[plc.i[idx]+p][plc.j[idx]] += 1\n",
    "    if plc.div[idx] == 1:\n",
    "        for p in range(wLen):\n",
    "            self.cover[plc.i[idx]][plc.j[idx]+p] += 1\n",
    "    \n",
    "    # Update properties\n",
    "    plc.used[idx] = True\n",
    "    plc.used_idx[self.solSize] = idx\n",
    "    self.solSize += 1\n",
    "    return\n",
    "# Set attribute to Puzzle class  \n",
    "setattr(Puzzle, \"add\", add)"
   ]
  },
  {
   "cell_type": "markdown",
   "metadata": {},
   "source": [
    "さあ、`add`メソッドが定義できたので、早速パズルを生成してみましょう。\n",
    "`puzzle`オブジェクトで`add`メソッドを呼びます。\n",
    "ただし、引数は`placeable`配列からランダムに与えます："
   ]
  },
  {
   "cell_type": "code",
   "execution_count": 18,
   "metadata": {
    "collapsed": false,
    "scrolled": true
   },
   "outputs": [],
   "source": [
    "solSizeTmp = -1\n",
    "while puzzle.solSize != solSizeTmp:\n",
    "    solSizeTmp = puzzle.solSize\n",
    "    for t in range(placeable.size):\n",
    "        if len(placeable.dic.data[placeable.k[t]]):\n",
    "            puzzle.add(placeable, randomIndex[t])\n",
    "\n",
    "puzzle.sol = puzzle.cell"
   ]
  },
  {
   "cell_type": "markdown",
   "metadata": {},
   "source": [
    "結果が気になりますよね。\n",
    "結果を確認するための`show`メソッドを定義します："
   ]
  },
  {
   "cell_type": "code",
   "execution_count": 19,
   "metadata": {
    "collapsed": false
   },
   "outputs": [],
   "source": [
    "def show(self, ndarray):    \n",
    "    styles = [\n",
    "        dict(selector=\"th\", props=[(\"font-size\", \"90%\"),\n",
    "                                   (\"text-align\", \"center\"),\n",
    "                                   (\"color\", \"#ffffff\"),\n",
    "                                   (\"background\", \"#777777\"),\n",
    "                                   (\"border\", \"solid 1px white\"),\n",
    "                                   (\"width\", \"30px\"),\n",
    "                                   (\"height\", \"30px\")]),\n",
    "        dict(selector=\"td\", props=[(\"font-size\", \"105%\"),\n",
    "                                   (\"text-align\", \"center\"),\n",
    "                                   (\"color\", \"#161616\"),\n",
    "                                   (\"background\", \"#dddddd\"),\n",
    "                                   (\"border\", \"solid 1px white\"),\n",
    "                                   (\"width\", \"30px\"),\n",
    "                                   (\"height\", \"30px\")]),\n",
    "        dict(selector=\"caption\", props=[(\"caption-side\", \"bottom\")])\n",
    "    ]\n",
    "    df = pd.DataFrame(ndarray)\n",
    "    df.to_clipboard()\n",
    "    df = (df.style.set_table_styles(styles)\n",
    "          .set_caption(\"Puzzle(%d,%d), Seed:%d, solSize:%d Dictionary:[%s]\" % (self.width, self.height, randomSeed, self.solSize, fpath)))\n",
    "    return df\n",
    "setattr(Puzzle, \"show\", show)"
   ]
  },
  {
   "cell_type": "markdown",
   "metadata": {},
   "source": [
    "早速使ってみましょう。見たい結果を`show`メソッドの引数として与えます。\n",
    "ここでは`puzzle.cell`を見てみます(`puzzle.cover`や`puzzle.enable`も可能)："
   ]
  },
  {
   "cell_type": "code",
   "execution_count": 20,
   "metadata": {
    "collapsed": false,
    "scrolled": true
   },
   "outputs": [
    {
     "data": {
      "text/html": [
       "\n",
       "        <style  type=\"text/css\" >\n",
       "        \n",
       "            #T_0f9127c6_f0b1_11e8_a0ed_98e0d9ace5af th {\n",
       "            \n",
       "                font-size: 90%;\n",
       "            \n",
       "                text-align: center;\n",
       "            \n",
       "                color: #ffffff;\n",
       "            \n",
       "                background: #777777;\n",
       "            \n",
       "                border: solid 1px white;\n",
       "            \n",
       "                width: 30px;\n",
       "            \n",
       "                height: 30px;\n",
       "            \n",
       "            }\n",
       "        \n",
       "            #T_0f9127c6_f0b1_11e8_a0ed_98e0d9ace5af td {\n",
       "            \n",
       "                font-size: 105%;\n",
       "            \n",
       "                text-align: center;\n",
       "            \n",
       "                color: #161616;\n",
       "            \n",
       "                background: #dddddd;\n",
       "            \n",
       "                border: solid 1px white;\n",
       "            \n",
       "                width: 30px;\n",
       "            \n",
       "                height: 30px;\n",
       "            \n",
       "            }\n",
       "        \n",
       "            #T_0f9127c6_f0b1_11e8_a0ed_98e0d9ace5af caption {\n",
       "            \n",
       "                caption-side: bottom;\n",
       "            \n",
       "            }\n",
       "        \n",
       "        \n",
       "        </style>\n",
       "\n",
       "        <table id=\"T_0f9127c6_f0b1_11e8_a0ed_98e0d9ace5af\" None>\n",
       "        \n",
       "            <caption>Puzzle(5,5), Seed:1, solSize:4 Dictionary:[../dict/countries.txt]</caption>\n",
       "        \n",
       "\n",
       "        <thead>\n",
       "            \n",
       "            <tr>\n",
       "                \n",
       "                \n",
       "                <th class=\"blank level0\" >\n",
       "                  \n",
       "                \n",
       "                \n",
       "                \n",
       "                <th class=\"col_heading level0 col0\" colspan=1>\n",
       "                  0\n",
       "                \n",
       "                \n",
       "                \n",
       "                <th class=\"col_heading level0 col1\" colspan=1>\n",
       "                  1\n",
       "                \n",
       "                \n",
       "                \n",
       "                <th class=\"col_heading level0 col2\" colspan=1>\n",
       "                  2\n",
       "                \n",
       "                \n",
       "                \n",
       "                <th class=\"col_heading level0 col3\" colspan=1>\n",
       "                  3\n",
       "                \n",
       "                \n",
       "                \n",
       "                <th class=\"col_heading level0 col4\" colspan=1>\n",
       "                  4\n",
       "                \n",
       "                \n",
       "            </tr>\n",
       "            \n",
       "        </thead>\n",
       "        <tbody>\n",
       "            \n",
       "            <tr>\n",
       "                \n",
       "                \n",
       "                <th id=\"T_0f9127c6_f0b1_11e8_a0ed_98e0d9ace5af\"\n",
       "                 class=\"row_heading level0 row0\" rowspan=1>\n",
       "                    0\n",
       "                \n",
       "                \n",
       "                \n",
       "                <td id=\"T_0f9127c6_f0b1_11e8_a0ed_98e0d9ace5afrow0_col0\"\n",
       "                 class=\"data row0 col0\" >\n",
       "                    L\n",
       "                \n",
       "                \n",
       "                \n",
       "                <td id=\"T_0f9127c6_f0b1_11e8_a0ed_98e0d9ace5afrow0_col1\"\n",
       "                 class=\"data row0 col1\" >\n",
       "                    A\n",
       "                \n",
       "                \n",
       "                \n",
       "                <td id=\"T_0f9127c6_f0b1_11e8_a0ed_98e0d9ace5afrow0_col2\"\n",
       "                 class=\"data row0 col2\" >\n",
       "                    O\n",
       "                \n",
       "                \n",
       "                \n",
       "                <td id=\"T_0f9127c6_f0b1_11e8_a0ed_98e0d9ace5afrow0_col3\"\n",
       "                 class=\"data row0 col3\" >\n",
       "                    S\n",
       "                \n",
       "                \n",
       "                \n",
       "                <td id=\"T_0f9127c6_f0b1_11e8_a0ed_98e0d9ace5afrow0_col4\"\n",
       "                 class=\"data row0 col4\" >\n",
       "                     \n",
       "                \n",
       "                \n",
       "            </tr>\n",
       "            \n",
       "            <tr>\n",
       "                \n",
       "                \n",
       "                <th id=\"T_0f9127c6_f0b1_11e8_a0ed_98e0d9ace5af\"\n",
       "                 class=\"row_heading level0 row1\" rowspan=1>\n",
       "                    1\n",
       "                \n",
       "                \n",
       "                \n",
       "                <td id=\"T_0f9127c6_f0b1_11e8_a0ed_98e0d9ace5afrow1_col0\"\n",
       "                 class=\"data row1 col0\" >\n",
       "                     \n",
       "                \n",
       "                \n",
       "                \n",
       "                <td id=\"T_0f9127c6_f0b1_11e8_a0ed_98e0d9ace5afrow1_col1\"\n",
       "                 class=\"data row1 col1\" >\n",
       "                     \n",
       "                \n",
       "                \n",
       "                \n",
       "                <td id=\"T_0f9127c6_f0b1_11e8_a0ed_98e0d9ace5afrow1_col2\"\n",
       "                 class=\"data row1 col2\" >\n",
       "                     \n",
       "                \n",
       "                \n",
       "                \n",
       "                <td id=\"T_0f9127c6_f0b1_11e8_a0ed_98e0d9ace5afrow1_col3\"\n",
       "                 class=\"data row1 col3\" >\n",
       "                    P\n",
       "                \n",
       "                \n",
       "                \n",
       "                <td id=\"T_0f9127c6_f0b1_11e8_a0ed_98e0d9ace5afrow1_col4\"\n",
       "                 class=\"data row1 col4\" >\n",
       "                     \n",
       "                \n",
       "                \n",
       "            </tr>\n",
       "            \n",
       "            <tr>\n",
       "                \n",
       "                \n",
       "                <th id=\"T_0f9127c6_f0b1_11e8_a0ed_98e0d9ace5af\"\n",
       "                 class=\"row_heading level0 row2\" rowspan=1>\n",
       "                    2\n",
       "                \n",
       "                \n",
       "                \n",
       "                <td id=\"T_0f9127c6_f0b1_11e8_a0ed_98e0d9ace5afrow2_col0\"\n",
       "                 class=\"data row2 col0\" >\n",
       "                     \n",
       "                \n",
       "                \n",
       "                \n",
       "                <td id=\"T_0f9127c6_f0b1_11e8_a0ed_98e0d9ace5afrow2_col1\"\n",
       "                 class=\"data row2 col1\" >\n",
       "                    U\n",
       "                \n",
       "                \n",
       "                \n",
       "                <td id=\"T_0f9127c6_f0b1_11e8_a0ed_98e0d9ace5afrow2_col2\"\n",
       "                 class=\"data row2 col2\" >\n",
       "                    S\n",
       "                \n",
       "                \n",
       "                \n",
       "                <td id=\"T_0f9127c6_f0b1_11e8_a0ed_98e0d9ace5afrow2_col3\"\n",
       "                 class=\"data row2 col3\" >\n",
       "                    A\n",
       "                \n",
       "                \n",
       "                \n",
       "                <td id=\"T_0f9127c6_f0b1_11e8_a0ed_98e0d9ace5afrow2_col4\"\n",
       "                 class=\"data row2 col4\" >\n",
       "                     \n",
       "                \n",
       "                \n",
       "            </tr>\n",
       "            \n",
       "            <tr>\n",
       "                \n",
       "                \n",
       "                <th id=\"T_0f9127c6_f0b1_11e8_a0ed_98e0d9ace5af\"\n",
       "                 class=\"row_heading level0 row3\" rowspan=1>\n",
       "                    3\n",
       "                \n",
       "                \n",
       "                \n",
       "                <td id=\"T_0f9127c6_f0b1_11e8_a0ed_98e0d9ace5afrow3_col0\"\n",
       "                 class=\"data row3 col0\" >\n",
       "                     \n",
       "                \n",
       "                \n",
       "                \n",
       "                <td id=\"T_0f9127c6_f0b1_11e8_a0ed_98e0d9ace5afrow3_col1\"\n",
       "                 class=\"data row3 col1\" >\n",
       "                    S\n",
       "                \n",
       "                \n",
       "                \n",
       "                <td id=\"T_0f9127c6_f0b1_11e8_a0ed_98e0d9ace5afrow3_col2\"\n",
       "                 class=\"data row3 col2\" >\n",
       "                     \n",
       "                \n",
       "                \n",
       "                \n",
       "                <td id=\"T_0f9127c6_f0b1_11e8_a0ed_98e0d9ace5afrow3_col3\"\n",
       "                 class=\"data row3 col3\" >\n",
       "                    I\n",
       "                \n",
       "                \n",
       "                \n",
       "                <td id=\"T_0f9127c6_f0b1_11e8_a0ed_98e0d9ace5afrow3_col4\"\n",
       "                 class=\"data row3 col4\" >\n",
       "                     \n",
       "                \n",
       "                \n",
       "            </tr>\n",
       "            \n",
       "            <tr>\n",
       "                \n",
       "                \n",
       "                <th id=\"T_0f9127c6_f0b1_11e8_a0ed_98e0d9ace5af\"\n",
       "                 class=\"row_heading level0 row4\" rowspan=1>\n",
       "                    4\n",
       "                \n",
       "                \n",
       "                \n",
       "                <td id=\"T_0f9127c6_f0b1_11e8_a0ed_98e0d9ace5afrow4_col0\"\n",
       "                 class=\"data row4 col0\" >\n",
       "                     \n",
       "                \n",
       "                \n",
       "                \n",
       "                <td id=\"T_0f9127c6_f0b1_11e8_a0ed_98e0d9ace5afrow4_col1\"\n",
       "                 class=\"data row4 col1\" >\n",
       "                     \n",
       "                \n",
       "                \n",
       "                \n",
       "                <td id=\"T_0f9127c6_f0b1_11e8_a0ed_98e0d9ace5afrow4_col2\"\n",
       "                 class=\"data row4 col2\" >\n",
       "                     \n",
       "                \n",
       "                \n",
       "                \n",
       "                <td id=\"T_0f9127c6_f0b1_11e8_a0ed_98e0d9ace5afrow4_col3\"\n",
       "                 class=\"data row4 col3\" >\n",
       "                    N\n",
       "                \n",
       "                \n",
       "                \n",
       "                <td id=\"T_0f9127c6_f0b1_11e8_a0ed_98e0d9ace5afrow4_col4\"\n",
       "                 class=\"data row4 col4\" >\n",
       "                     \n",
       "                \n",
       "                \n",
       "            </tr>\n",
       "            \n",
       "        </tbody>\n",
       "        </table>\n",
       "        "
      ],
      "text/plain": [
       "<pandas.formats.style.Styler at 0x11cb02b00>"
      ]
     },
     "execution_count": 20,
     "metadata": {},
     "output_type": "execute_result"
    }
   ],
   "source": [
    "puzzle.show(puzzle.cell)"
   ]
  },
  {
   "cell_type": "markdown",
   "metadata": {},
   "source": [
    "まだ改善の余地がありますが、一つの島で繋がったパズルが出来上がっていますね。ちなみに、`show`メソッドを呼ぶと自動的にクリップボードに保存されるようになるので、結果をすぐに誰かと共有したい場合はそれをペーストするだけでできます。\n",
    "\n",
    "***\n",
    "\n",
    "## 目的関数\n",
    "さて、今できた解はまだ未熟であり、改善の余地があるように見えると思います。\n",
    "ここで、この解の良し悪しを定量的に判断する必要があります。\n",
    "この定量的な解の良し悪し指標を「目的関数」として定義します。\n",
    "目的関数には様々なものが考えられます：\n",
    "* 解に使われた単語数(solSize)\n",
    "* 単語のクロス数\n",
    "* 文字で埋まっているセルの個数\n",
    "* 文字なしマスの連結数の最大値\n",
    "\n",
    "これ以外にも様々な目的関数が考えられるでしょう。そして、これらの目的関数は優先順位をつけて共存させることも可能です。\n",
    "早速、目的関数を一つ作って、`ObjectiveFunction`クラスのアトリビュートとして設定してみましょう。まずは、最も単純な「解に使われた単語数」を返す目的関数を実装します："
   ]
  },
  {
   "cell_type": "code",
   "execution_count": 21,
   "metadata": {
    "collapsed": true
   },
   "outputs": [],
   "source": [
    "def solSize(self):\n",
    "    return self.puzzle.solSize\n",
    "setattr(ObjectiveFunction, \"solSize\", solSize)"
   ]
  },
  {
   "cell_type": "markdown",
   "metadata": {
    "collapsed": true
   },
   "source": [
    "次に、単語のクロス数を判定して返す目的関数を実装します："
   ]
  },
  {
   "cell_type": "code",
   "execution_count": 22,
   "metadata": {
    "collapsed": false
   },
   "outputs": [],
   "source": [
    "def crossCount(self):\n",
    "    return np.sum(self.puzzle.cover == 2)\n",
    "setattr(ObjectiveFunction, \"crossCount\", crossCount)"
   ]
  },
  {
   "cell_type": "markdown",
   "metadata": {},
   "source": [
    "次に、文字で埋まっているセルの個数を返す目的関数を実装します："
   ]
  },
  {
   "cell_type": "code",
   "execution_count": 23,
   "metadata": {
    "collapsed": true
   },
   "outputs": [],
   "source": [
    "def fillCount(self):\n",
    "    return np.sum(self.puzzle.cover >= 1)\n",
    "setattr(ObjectiveFunction, \"fillCount\", fillCount)"
   ]
  },
  {
   "cell_type": "markdown",
   "metadata": {},
   "source": [
    "それでは、今定義した目的関数値を表示してみましょう："
   ]
  },
  {
   "cell_type": "code",
   "execution_count": 27,
   "metadata": {
    "collapsed": false
   },
   "outputs": [
    {
     "name": "stdout",
     "output_type": "stream",
     "text": [
      "solSize: 4\n",
      "crossCount: 3\n",
      "fillCount: 11\n"
     ]
    }
   ],
   "source": [
    "print(\"solSize: %d\" % objFunc.solSize())\n",
    "print(\"crossCount: %d\" % objFunc.crossCount())\n",
    "print(\"fillCount: %d\" % objFunc.fillCount())"
   ]
  },
  {
   "cell_type": "markdown",
   "metadata": {},
   "source": [
    "初期解と見比べて、正しい目的関数値が返ってきていることを確認してください。\n",
    "もし結果が合わない場合、Notebookの実行順に間違いがある可能性があるため、[Kernel]タブから[Restart & Run All]を選択してください。それでも結果が合わない場合、ライブラリが正しくインストールされているかを確認してください。\n",
    "\n",
    "目的関数には「文字なしマスの連結数の最大値」なども考えられます。しかし、この「連結数」を数えるのは少し工夫が必要です。連結数のカウントには「深さ優先探索(Depth First Search:DFS)」を用います。まずはこれを実装します："
   ]
  },
  {
   "cell_type": "code",
   "execution_count": 28,
   "metadata": {
    "collapsed": true
   },
   "outputs": [],
   "source": [
    "def DFS():\n",
    "    return 1"
   ]
  },
  {
   "cell_type": "code",
   "execution_count": null,
   "metadata": {
    "collapsed": true
   },
   "outputs": [],
   "source": []
  }
 ],
 "metadata": {
  "kernelspec": {
   "display_name": "Python 3",
   "language": "python",
   "name": "python3"
  },
  "language_info": {
   "codemirror_mode": {
    "name": "ipython",
    "version": 3
   },
   "file_extension": ".py",
   "mimetype": "text/x-python",
   "name": "python",
   "nbconvert_exporter": "python",
   "pygments_lexer": "ipython3",
   "version": "3.6.0"
  }
 },
 "nbformat": 4,
 "nbformat_minor": 2
}
