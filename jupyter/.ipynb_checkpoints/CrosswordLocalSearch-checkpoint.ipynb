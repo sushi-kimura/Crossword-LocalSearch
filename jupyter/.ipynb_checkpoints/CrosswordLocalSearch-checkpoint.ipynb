{
 "cells": [
  {
   "cell_type": "markdown",
   "metadata": {},
   "source": [
    "# Crossword Local Search\n",
    "\n",
    "## 概要\n",
    "これはクロスワード(スケルトンパズル)自動生成用ソースをPythonにて再現できないかをテストしたものである。\n",
    "main.cはpythonで代用し、計算量の多い処理は既存のcommon.cをimportして使用する。\n",
    "結果やスコアの推移の視覚化も追加する。"
   ]
  },
  {
   "cell_type": "markdown",
   "metadata": {},
   "source": [
    "***\n",
    "\n",
    "## 入力データ・実行パラメータ設定\n",
    "入力データを指定し、各種実行パラメータの設定を行います。\n",
    "各パラメータは以下の通り：\n",
    "  * `fpath`      : 入力データ(単語リスト)のファイルパス\n",
    "  * `width`          : 盤面の大きさ(横)\n",
    "  * `height`          : 盤面の大きさ(縦)\n",
    "  * `randomSeed`       : シード値\n",
    "  * `withweight` : 辞書に重みを付すかどうか(bool)\n",
    "  * `takemove`   : \"摂動(move)\"を行うかどうか(bool)"
   ]
  },
  {
   "cell_type": "code",
   "execution_count": 1,
   "metadata": {
    "collapsed": false
   },
   "outputs": [],
   "source": [
    "fpath = \"../dict/countries.txt\" # countries hokkaido animals kotowaza birds dinosaurs fishes sports\n",
    "width = 5\n",
    "height = 5\n",
    "randomSeed = 1\n",
    "withweight = False\n",
    "takemove = True"
   ]
  },
  {
   "cell_type": "markdown",
   "metadata": {},
   "source": [
    "***\n",
    "\n",
    "## Import\n",
    "必要なライブラリをimportする："
   ]
  },
  {
   "cell_type": "code",
   "execution_count": 2,
   "metadata": {
    "collapsed": false
   },
   "outputs": [],
   "source": [
    "import numpy as np\n",
    "from numpy.random import *\n",
    "import pandas as pd\n",
    "#import matplotlib.pyplot as plt\n",
    "import seaborn as sns\n",
    "import unicodedata\n",
    "import sys\n",
    "\n",
    "from IPython.display import display\n",
    "from PIL import Image\n",
    "from IPython.display import HTML\n",
    "#%matplotlib inline\n",
    "\n",
    "seed(seed = randomSeed)"
   ]
  },
  {
   "cell_type": "markdown",
   "metadata": {},
   "source": [
    "***\n",
    "\n",
    "## クラス宣言\n",
    "本プログラムで使用するクラスを定義する。\n",
    "見やすさのため、クラスメソッドは後から定義し、`setattr`関数でアトリビュートに追加します。\n",
    "\n",
    "\n",
    "### Puzzle クラス\n",
    "解となるスケルトンパズルそのものを表すクラス。\n",
    "メンバ変数は以下の通り：\n",
    "  * width : 盤面の大きさ(横)\n",
    "  * height : 盤面の大きさ(縦)\n",
    "  * enable : 配置禁止マスを保持した2次元(width*height)配列\n",
    "  * cell : 作業用2次元(width*height)配列\n",
    "  * cover : セル上の文字数を保持する2次元(width*height)配列\n",
    "  * coverDFS : 連結成分を探すときに使われる2次元(width*height)配列\n",
    "  * sol : パズルの解を保存する2次元(width*height)配列\n",
    "  * usedWords : 解として使われた単語の一覧\n",
    "  * solSize : パズルに配置されている単語の数\n",
    "  * initSol : 初期解が作られたかどうか(bool)\n"
   ]
  },
  {
   "cell_type": "code",
   "execution_count": 3,
   "metadata": {
    "collapsed": true
   },
   "outputs": [],
   "source": [
    "class Puzzle():\n",
    "    def __init__(self, width, height):\n",
    "        self.width = width\n",
    "        self.height = height\n",
    "        self.enable = np.ones(width*height, dtype = \"bool\").reshape(height,width)\n",
    "        self.cell = np.full(width*height, \"\", dtype = \"unicode\").reshape(height,width)\n",
    "        self.cover = np.zeros(width*height, dtype = \"int64\").reshape(height,width)\n",
    "        self.coverDFS = np.zeros(width*height, dtype = \"int64\").reshape(height,width)\n",
    "        self.sol = np.full(width*height, \"\",  dtype = \"unicode\").reshape(height,width)\n",
    "        self.usedWords = np.full(width*height, \"\",  dtype = \"U%d\" % max(width,height))\n",
    "        self.solSize = 0\n",
    "        self.initSol = False\n",
    "\n",
    "        ## Message\n",
    "        print(\"Puzzle object has made.\")\n",
    "        print(\" - width       : %d\" % self.width)\n",
    "        print(\" - height      : %d\" % self.height)\n",
    "        print(\" - cell' shape : (width, height) = (%d,%d)\" % (self.cell.shape[0], self.cell.shape[1]))"
   ]
  },
  {
   "cell_type": "code",
   "execution_count": 4,
   "metadata": {
    "collapsed": false
   },
   "outputs": [
    {
     "name": "stdout",
     "output_type": "stream",
     "text": [
      "Puzzle object has made.\n",
      " - width       : 5\n",
      " - height      : 5\n",
      " - cell' shape : (width, height) = (5,5)\n"
     ]
    }
   ],
   "source": [
    "puzzle = Puzzle(width, height)"
   ]
  },
  {
   "cell_type": "markdown",
   "metadata": {},
   "source": [
    "### Dictionary クラス\n",
    "入力した単語リストを整理して保持するクラス。\n",
    "メンバ変数は以下の通り：\n",
    "  * fpath : 入力データのファイルパス\n",
    "  * size : 辞書の大きさ(単語数)\n",
    "  * dictType : 辞書のタイプ(\"English\"/\"Japanese\")\n",
    "  * data : 入力データ配列"
   ]
  },
  {
   "cell_type": "code",
   "execution_count": 5,
   "metadata": {
    "collapsed": false
   },
   "outputs": [],
   "source": [
    "class Dictionary():        \n",
    "    def __init__(self, fpath):\n",
    "        self.fpath = fpath\n",
    "        print(\"Dictionary object has made.\")\n",
    "        \n",
    "        ## Read\n",
    "        print(\" - READING DICTIONARY...\")\n",
    "        file = open(self.fpath, 'r', encoding='utf-8')\n",
    "        self.data = file.readlines()\n",
    "        file.close()\n",
    "        \n",
    "        # Get a size of dictionary\n",
    "        self.size = len(self.data)\n",
    "        \n",
    "        # Check dictionary type(English/Japanese)\n",
    "        uniName = unicodedata.name(self.data[0][0])[0:10]\n",
    "        if \"HIRAGANA\" in uniName or \"KATAKANA\" in uniName:\n",
    "            self.dictType = \"Japanese\"\n",
    "        elif \"LATIN\" in uniName:\n",
    "            self.dictType = \"English\"\n",
    "            #self.data = [s.upper() for s in self.data]\n",
    "        elif \"CJK\" in uniName:\n",
    "            self.dictType = \"Kanji\"\n",
    "\n",
    "        # Remove \"\\n\"\n",
    "        def removeNewLineCode(word):\n",
    "            return word.rstrip(\"\\n\")\n",
    "        self.data = list(map(removeNewLineCode, self.data))\n",
    "\n",
    "        ## Message\n",
    "        print(\" - file path         : %s\" % self.fpath)\n",
    "        print(\" - dictionary size   : %d\" % self.size)\n",
    "        print(\" - dictionary type   : %s\" % self.dictType)\n",
    "        print(\" - top of dictionary : %s\" % self.data[1])"
   ]
  },
  {
   "cell_type": "code",
   "execution_count": 6,
   "metadata": {
    "collapsed": false,
    "scrolled": false
   },
   "outputs": [
    {
     "name": "stdout",
     "output_type": "stream",
     "text": [
      "Dictionary object has made.\n",
      " - READING DICTIONARY...\n",
      " - file path         : ../dict/countries.txt\n",
      " - dictionary size   : 207\n",
      " - dictionary type   : English\n",
      " - top of dictionary : ALBANIA\n"
     ]
    }
   ],
   "source": [
    "dic = Dictionary(fpath)"
   ]
  },
  {
   "cell_type": "markdown",
   "metadata": {},
   "source": [
    "### Placeable クラス\n",
    "辞書内のすべての単語に対して、それぞれの単語が配置可能(placeable)な位置の一覧を作る。これは`Puzzle`クラスと`Dictionary`クラスの両方の要素を用いて行われる。\n",
    "\n",
    "配置可能な位置は、単語の先頭文字の座標で指定する。ここでは、パズルの左上を(0,0)、右上を(n,0)、左下を(0,n)、右下を(n,n)とする。\n",
    "例えば、大きさが5×5のパズル上に`Dictionary`クラスの5番目に格納された長さ4文字の単語「HOGE」を配置しようとした場合、配置可能な位置は\n",
    "  * 横向きの場合：(0,0),(0,1),(0,2),(0,3)(0,4),(1,0),(1,1),(1,2),(1,3),(1,4)の10マス。\n",
    "  * 縦向きの場合：(0,0),(1,0),(2,0),(3,0)(4,0),(0,1),(1,1),(2,1),(3,1),(4,1)の10マス。\n",
    "よって。配置する場合のパターンは全部で20通りになる。"
   ]
  },
  {
   "cell_type": "code",
   "execution_count": 7,
   "metadata": {
    "collapsed": false
   },
   "outputs": [],
   "source": [
    "#display(Image.open(\"fig/puzzles.png\"))"
   ]
  },
  {
   "cell_type": "markdown",
   "metadata": {},
   "source": [
    "これらの情報は次のフォーマットで整理される：\n",
    "  * k : 単語番号(辞書内の何番目の単語か)\n",
    "  * div : 単語を置く向き(0: 縦, 1: 横)\n",
    "  * j : 単語の先頭文字のx座標\n",
    "  * i : 単語の先頭文字のy座標"
   ]
  },
  {
   "cell_type": "code",
   "execution_count": 8,
   "metadata": {
    "collapsed": false
   },
   "outputs": [
    {
     "data": {
      "text/html": [
       "<div>\n",
       "<table border=\"1\" class=\"dataframe\">\n",
       "  <thead>\n",
       "    <tr style=\"text-align: right;\">\n",
       "      <th></th>\n",
       "      <th>k</th>\n",
       "      <th>div</th>\n",
       "      <th>j</th>\n",
       "      <th>i</th>\n",
       "    </tr>\n",
       "  </thead>\n",
       "  <tbody>\n",
       "    <tr>\n",
       "      <th>p1</th>\n",
       "      <td>5</td>\n",
       "      <td>0</td>\n",
       "      <td>0</td>\n",
       "      <td>0</td>\n",
       "    </tr>\n",
       "    <tr>\n",
       "      <th>p2</th>\n",
       "      <td>5</td>\n",
       "      <td>0</td>\n",
       "      <td>0</td>\n",
       "      <td>1</td>\n",
       "    </tr>\n",
       "    <tr>\n",
       "      <th>p3</th>\n",
       "      <td>5</td>\n",
       "      <td>0</td>\n",
       "      <td>0</td>\n",
       "      <td>2</td>\n",
       "    </tr>\n",
       "    <tr>\n",
       "      <th>p4</th>\n",
       "      <td>5</td>\n",
       "      <td>0</td>\n",
       "      <td>0</td>\n",
       "      <td>3</td>\n",
       "    </tr>\n",
       "    <tr>\n",
       "      <th>p5</th>\n",
       "      <td>5</td>\n",
       "      <td>0</td>\n",
       "      <td>0</td>\n",
       "      <td>4</td>\n",
       "    </tr>\n",
       "    <tr>\n",
       "      <th>p6</th>\n",
       "      <td>5</td>\n",
       "      <td>0</td>\n",
       "      <td>1</td>\n",
       "      <td>0</td>\n",
       "    </tr>\n",
       "    <tr>\n",
       "      <th>p7</th>\n",
       "      <td>5</td>\n",
       "      <td>0</td>\n",
       "      <td>1</td>\n",
       "      <td>1</td>\n",
       "    </tr>\n",
       "    <tr>\n",
       "      <th>p8</th>\n",
       "      <td>5</td>\n",
       "      <td>0</td>\n",
       "      <td>1</td>\n",
       "      <td>2</td>\n",
       "    </tr>\n",
       "    <tr>\n",
       "      <th>p9</th>\n",
       "      <td>5</td>\n",
       "      <td>0</td>\n",
       "      <td>1</td>\n",
       "      <td>3</td>\n",
       "    </tr>\n",
       "    <tr>\n",
       "      <th>p10</th>\n",
       "      <td>5</td>\n",
       "      <td>0</td>\n",
       "      <td>1</td>\n",
       "      <td>4</td>\n",
       "    </tr>\n",
       "    <tr>\n",
       "      <th>p11</th>\n",
       "      <td>5</td>\n",
       "      <td>1</td>\n",
       "      <td>0</td>\n",
       "      <td>0</td>\n",
       "    </tr>\n",
       "    <tr>\n",
       "      <th>p12</th>\n",
       "      <td>5</td>\n",
       "      <td>1</td>\n",
       "      <td>1</td>\n",
       "      <td>0</td>\n",
       "    </tr>\n",
       "    <tr>\n",
       "      <th>p13</th>\n",
       "      <td>5</td>\n",
       "      <td>1</td>\n",
       "      <td>2</td>\n",
       "      <td>0</td>\n",
       "    </tr>\n",
       "    <tr>\n",
       "      <th>p14</th>\n",
       "      <td>5</td>\n",
       "      <td>1</td>\n",
       "      <td>3</td>\n",
       "      <td>0</td>\n",
       "    </tr>\n",
       "    <tr>\n",
       "      <th>p15</th>\n",
       "      <td>5</td>\n",
       "      <td>0</td>\n",
       "      <td>4</td>\n",
       "      <td>0</td>\n",
       "    </tr>\n",
       "    <tr>\n",
       "      <th>p16</th>\n",
       "      <td>5</td>\n",
       "      <td>1</td>\n",
       "      <td>0</td>\n",
       "      <td>1</td>\n",
       "    </tr>\n",
       "    <tr>\n",
       "      <th>p17</th>\n",
       "      <td>5</td>\n",
       "      <td>1</td>\n",
       "      <td>1</td>\n",
       "      <td>1</td>\n",
       "    </tr>\n",
       "    <tr>\n",
       "      <th>p18</th>\n",
       "      <td>5</td>\n",
       "      <td>1</td>\n",
       "      <td>2</td>\n",
       "      <td>1</td>\n",
       "    </tr>\n",
       "    <tr>\n",
       "      <th>p19</th>\n",
       "      <td>5</td>\n",
       "      <td>1</td>\n",
       "      <td>3</td>\n",
       "      <td>1</td>\n",
       "    </tr>\n",
       "    <tr>\n",
       "      <th>p20</th>\n",
       "      <td>5</td>\n",
       "      <td>1</td>\n",
       "      <td>4</td>\n",
       "      <td>1</td>\n",
       "    </tr>\n",
       "  </tbody>\n",
       "</table>\n",
       "</div>"
      ],
      "text/plain": [
       "     k  div  j  i\n",
       "p1   5    0  0  0\n",
       "p2   5    0  0  1\n",
       "p3   5    0  0  2\n",
       "p4   5    0  0  3\n",
       "p5   5    0  0  4\n",
       "p6   5    0  1  0\n",
       "p7   5    0  1  1\n",
       "p8   5    0  1  2\n",
       "p9   5    0  1  3\n",
       "p10  5    0  1  4\n",
       "p11  5    1  0  0\n",
       "p12  5    1  1  0\n",
       "p13  5    1  2  0\n",
       "p14  5    1  3  0\n",
       "p15  5    0  4  0\n",
       "p16  5    1  0  1\n",
       "p17  5    1  1  1\n",
       "p18  5    1  2  1\n",
       "p19  5    1  3  1\n",
       "p20  5    1  4  1"
      ]
     },
     "execution_count": 8,
     "metadata": {},
     "output_type": "execute_result"
    }
   ],
   "source": [
    "pd.DataFrame([[5,0,0,0],[5,0,0,1],[5,0,0,2],[5,0,0,3],[5,0,0,4],\n",
    "              [5,0,1,0],[5,0,1,1],[5,0,1,2],[5,0,1,3],[5,0,1,4],\n",
    "              [5,1,0,0],[5,1,1,0],[5,1,2,0],[5,1,3,0],[5,0,4,0],\n",
    "              [5,1,0,1],[5,1,1,1],[5,1,2,1],[5,1,3,1],[5,1,4,1],],\n",
    "             columns=[\"k\",\"div\",\"j\",\"i\"],\n",
    "             index=[\"p1\",\"p2\",\"p3\",\"p4\",\"p5\",\"p6\",\"p7\",\"p8\",\"p9\",\"p10\",\n",
    "                    \"p11\",\"p12\",\"p13\",\"p14\",\"p15\",\"p16\",\"p17\",\"p18\",\"p19\",\"p20\"]\n",
    "            )"
   ]
  },
  {
   "cell_type": "markdown",
   "metadata": {},
   "source": [
    "メンバ変数は以下の通り：\n",
    "  * size : Placeableオブジェクトの大きさ\n",
    "  * width : 引数のパズルの横幅\n",
    "  * height : 引数のパズルの縦幅\n",
    "  * div : Placeable成分の文字列の方向\n",
    "  * k : Placeable成分の文字の番号\n",
    "  * i : Placeable成分のy方向の座標\n",
    "  * j : Placeable成分のx方向の座標\n",
    "  * invP : Placeableオブジェクトの逆写像"
   ]
  },
  {
   "cell_type": "code",
   "execution_count": 9,
   "metadata": {
    "collapsed": false
   },
   "outputs": [],
   "source": [
    "class Placeable():\n",
    "    def __init__(self, puzzle, dic):\n",
    "        self.size = 0\n",
    "        self.width = puzzle.width\n",
    "        self.height = puzzle.height\n",
    "        self.div = np.zeros(2*dic.size*self.width*self.height, dtype='int64')\n",
    "        self.k = np.zeros(2*dic.size*self.width*self.height, dtype='int64')\n",
    "        self.i = np.zeros(2*dic.size*self.width*self.height, dtype='int64')\n",
    "        self.j = np.zeros(2*dic.size*self.width*self.height, dtype='int64')\n",
    "        self.invP = np.zeros(2*dic.size*self.width*self.height, dtype='int64').reshape(2,dic.size,self.height,self.width)\n",
    "        dicSize = dic.size\n",
    "\n",
    "        for div in range(2):\n",
    "            for k in range(dicSize):\n",
    "                if div == 0:\n",
    "                    iMax = self.height - len(dic.data[k]) + 1\n",
    "                    jMax = self.width\n",
    "                elif div == 1:\n",
    "                    iMax = self.height\n",
    "                    jMax = self.width - len(dic.data[k]) + 1\n",
    "                for i in range(iMax):\n",
    "                    for j in range(jMax):\n",
    "                        self.div[self.size] = div\n",
    "                        self.k[self.size] = k\n",
    "                        self.i[self.size] = i\n",
    "                        self.j[self.size] = j\n",
    "                        self.invP[div,k,i,j] = self.size\n",
    "                        self.size += 1\n",
    "        print(\"Placeable object has made.\")\n",
    "        print(\" - placeable size : %d/%d(max shape)\" % (self.size, self.div.size))"
   ]
  },
  {
   "cell_type": "code",
   "execution_count": 10,
   "metadata": {
    "collapsed": false
   },
   "outputs": [
    {
     "name": "stdout",
     "output_type": "stream",
     "text": [
      "Placeable object has made.\n",
      " - placeable size : 670/10350(max shape)\n"
     ]
    }
   ],
   "source": [
    "plc = Placeable(puzzle, dic)"
   ]
  },
  {
   "cell_type": "markdown",
   "metadata": {},
   "source": [
    "### ObjectiveFunction クラス\n",
    "生成したパズルは何らかの指標で定量的にその良し悪しを評価する必要があります。\n",
    "そのパズルの良し悪しの指標として、「目的関数」を定義します。\n",
    "目的関数は、パズルの初期解が得られてから、そのパズルを改善していくために使われます。\n",
    "目的関数には様々な指標が考えられるため、それらを管理する`ObjectiveFunction`クラスを定義します："
   ]
  },
  {
   "cell_type": "code",
   "execution_count": 11,
   "metadata": {
    "collapsed": false
   },
   "outputs": [],
   "source": [
    "class ObjectiveFunction():\n",
    "    def __init__(self, puzzle):\n",
    "        self.score = 0\n",
    "        self.puzzle = puzzle\n",
    "        self.flist = [\"solSize\",\n",
    "                      \"crossCount\",\n",
    "                      \"fillCount\",\n",
    "                      \"maxConnectedEmptys\"]\n",
    "        self.registeredFuncs = []\n",
    "        print(\"ObjectiveFunction object has made.\")"
   ]
  },
  {
   "cell_type": "code",
   "execution_count": 12,
   "metadata": {
    "collapsed": false
   },
   "outputs": [
    {
     "name": "stdout",
     "output_type": "stream",
     "text": [
      "ObjectiveFunction object has made.\n"
     ]
    }
   ],
   "source": [
    "objFunc = ObjectiveFunction(puzzle)"
   ]
  },
  {
   "cell_type": "markdown",
   "metadata": {},
   "source": [
    "`flist`は後ほど実装する目的関数名をリスト化したものです。`ObjectiveFunction`クラスについての詳しい説明と実装は後ほど行われます。"
   ]
  },
  {
   "cell_type": "markdown",
   "metadata": {},
   "source": [
    "### Optimizer クラス\n",
    "目的関数を指標にパズルを改善していく際、どのような手法で最適化していくのかも重要なカギになります。\n",
    "この種の問題は「離散最適化問題(組み合わせ最適化)」と呼ばれ、巡回セールスマン問題などと近い分類に当たる。この手の問題で使われる最適化手法は「局所探索法」や「焼きなまし法」などが用いられます。\n",
    "最適化手法はアイデア次第で様々なものが考えられるため、これら管理する`Optimizer`クラスを定義しておきましょう："
   ]
  },
  {
   "cell_type": "code",
   "execution_count": 13,
   "metadata": {
    "collapsed": true
   },
   "outputs": [],
   "source": [
    "class Optimizer():\n",
    "    def __init__(self, puzzle):\n",
    "        self.puzzle = puzzle\n",
    "        print(\"Opimizer object has made.\")"
   ]
  },
  {
   "cell_type": "code",
   "execution_count": 14,
   "metadata": {
    "collapsed": false,
    "scrolled": true
   },
   "outputs": [
    {
     "name": "stdout",
     "output_type": "stream",
     "text": [
      "Opimizer object has made.\n"
     ]
    }
   ],
   "source": [
    "optimizer = Optimizer(puzzle)"
   ]
  },
  {
   "cell_type": "markdown",
   "metadata": {},
   "source": [
    "`Optimizer`クラスについての詳しい説明と実装は後ほど行われます。\n",
    "また、`ObjectiveFunction`オブジェクトと`Optimizer`オブジェクトは同時に`Puzzle`オブジェクトにコンパイルすることで、`Puzzle`オブジェクトから呼び出しが可能になります。\n",
    "目的関数と最適化手法をパズルにコンパイルするための`compile`メソッドも後ほど実装します。"
   ]
  },
  {
   "cell_type": "markdown",
   "metadata": {},
   "source": [
    "***\n",
    "## パズル生成\n",
    "ここから、実際にパズルを生成していく。\n",
    "まずは、`placeable`オブジェクトからランダムに単語の配置可能位置を取得し、パズルの盤面に単語を詰められなくなるまで詰めます。\n",
    "単語を詰めるための関数として、`add`メソッドを`Puzzle`クラスに追加します。その前に、`add`メソッド内で呼ぶ、単語が配置可能かどうかをBoolianで返す`isEnabledAdd`メソッドを定義します："
   ]
  },
  {
   "cell_type": "code",
   "execution_count": 15,
   "metadata": {
    "collapsed": false
   },
   "outputs": [],
   "source": [
    "### isEnabledAdd\n",
    "def isEnabledAdd(self, div, i, j, word, wLen):\n",
    "    # If 0 words used, return True\n",
    "    if self.solSize == 0:\n",
    "        return True\n",
    "\n",
    "    # If the same word is in use, return False\n",
    "    if np.any(self.usedWords == word):\n",
    "        return False\n",
    "\n",
    "    # If the word does not fit in the puzzle, return False\n",
    "    if div == 0 and i+wLen > self.height:\n",
    "        return False\n",
    "    if div == 1 and j+wLen > self.width:\n",
    "        return False\n",
    "\n",
    "    # US/USA, DOMINICA/DOMINICAN probrem\n",
    "    if div == 0:\n",
    "        emptys = self.cell[i:i+wLen,j] == \"\"\n",
    "        if np.all(emptys == True) or np.any(self.enable[i:i+wLen,j] == False) or np.all(emptys == False):\n",
    "            return False\n",
    "    if div == 1:\n",
    "        emptys = self.cell[i,j:j+wLen] == \"\"\n",
    "        if np.all(emptys == True) or np.any(self.enable[i,j:j+wLen] == False) or np.all(emptys == False):\n",
    "            return False\n",
    "\n",
    "    # Judge whether correct intersection\n",
    "    where = np.where(emptys == False)[0]\n",
    "    if div == 0:\n",
    "        jall = np.full(where.size, j, dtype = \"int64\")\n",
    "        if np.any(self.cell[where+i,jall] != np.array(list(word))[where]):\n",
    "            return False\n",
    "    if div == 1:\n",
    "        iall = np.full(where.size, i, dtype = \"int64\")\n",
    "        if np.any(self.cell[iall,where+j] != np.array(list(word))[where]):\n",
    "            return False\n",
    "\n",
    "    # If neighbor cells are filled except at the intersection, return False\n",
    "    where = np.where(emptys == True)[0]\n",
    "    if div == 0:\n",
    "        jall = np.full(where.size, j, dtype = \"int64\")\n",
    "        # Left side\n",
    "        if j > 0 and np.any(self.cell[where+i,jall-1] != \"\"):\n",
    "            return False\n",
    "        # Right side\n",
    "        if j < self.width-1 and np.any(self.cell[where+i,jall+1] != \"\"):\n",
    "            return False\n",
    "    if div == 1:\n",
    "        iall = np.full(where.size, i, dtype = \"int64\")\n",
    "        # Upper\n",
    "        if i > 0 and np.any(self.cell[iall-1,where+j] != \"\"):\n",
    "            return False\n",
    "        # Lower\n",
    "        if i < self.height-1 and np.any(self.cell[iall+1,where+j] != \"\"):\n",
    "            return False\n",
    "\n",
    "    # If the preceding and succeeding cells are already filled\n",
    "    if div == 0:\n",
    "        if i > 0 and self.cell[i-1,j] != \"\":\n",
    "            return False\n",
    "        if i+wLen < self.height and self.cell[i+wLen,j] != \"\":\n",
    "            return False\n",
    "    if div == 1:\n",
    "        if j > 0 and self.cell[i,j-1] != \"\":\n",
    "            return False\n",
    "        if j+wLen < self.width and self.cell[i,j+wLen] != \"\":\n",
    "            return False\n",
    "\n",
    "    # If Break through the all barrier, return True\n",
    "    return True\n",
    "\n",
    "# Set attribute to Puzzle class\n",
    "setattr(Puzzle, \"isEnabledAdd\", isEnabledAdd)"
   ]
  },
  {
   "cell_type": "markdown",
   "metadata": {},
   "source": [
    "次に、所望の単語をパズルに配置する`add`メソッドを定義します。\n",
    "`add`メソッドは次の機能を持ちます：\n",
    "  * `add`メソッドの引数は [ 単語を置く向き, 頭文字のy座標, 頭文字のx座標, 置く単語 ] で指定します。\n",
    "  * 指定した位置に単語が置ける場合は置き、置けない場合は何もしません。\n",
    "\n",
    "実際に、`add`メソッドを定義しましょう："
   ]
  },
  {
   "cell_type": "code",
   "execution_count": 16,
   "metadata": {
    "collapsed": false
   },
   "outputs": [],
   "source": [
    "### add\n",
    "def add(self, div, i, j, word):\n",
    "    # Get the word length\n",
    "    wLen = len(word)\n",
    "\n",
    "    # Judge whether adding is enabled\n",
    "    if self.isEnabledAdd(div, i, j, word, wLen) == False:\n",
    "        return\n",
    "    \n",
    "    # Put the word to puzzle\n",
    "    if div == 0:\n",
    "        self.cell[i:i+wLen,j] = list(word)[0:wLen]\n",
    "    if div == 1:\n",
    "        self.cell[i,j:j+wLen] = list(word)[0:wLen]\n",
    "\n",
    "    # Set the prohibited cell before and after placed word\n",
    "    if div == 0:\n",
    "        if i > 0:\n",
    "            self.enable[i-1,j] = False\n",
    "        if i+wLen < self.height:\n",
    "            self.enable[i+wLen,j] = False\n",
    "    if div == 1:\n",
    "        if j > 0:\n",
    "            self.enable[i,j-1] = False\n",
    "        if j+wLen < self.width:\n",
    "            self.enable[i,j+wLen] = False\n",
    "    \n",
    "    # Update cover array\n",
    "    if div == 0:\n",
    "        self.cover[i:i+wLen,j] += 1\n",
    "    if div == 1:\n",
    "        self.cover[i,j:j+wLen] += 1\n",
    "    \n",
    "    # Update properties\n",
    "    self.usedWords[self.solSize] = word\n",
    "    self.solSize += 1\n",
    "    return\n",
    "# Set attribute to Puzzle class  \n",
    "setattr(Puzzle, \"add\", add)"
   ]
  },
  {
   "cell_type": "markdown",
   "metadata": {},
   "source": [
    "さあ、`add`メソッドが定義できたので、早速パズルを生成して、初期解を作りましょう。\n",
    "`Puzzle`オブジェクトのメソッドとして初期解を得るための`firstSolve`メソッドを定義し、その中で`add`メソッドを呼ぶことにします。\n",
    "  * `firstSolve`メソッドの引数は [ `Dictionary`オブジェクト, `Placeable`オブジェクト ] です。\n",
    "  * `firstSolve`メソッドにより、初期解が`Puzzle`オブジェクトの`sol`プロパティに保存されます。"
   ]
  },
  {
   "cell_type": "code",
   "execution_count": 17,
   "metadata": {
    "collapsed": false
   },
   "outputs": [],
   "source": [
    "def firstSolve(self, dic, plc):\n",
    "    # Check the initSol\n",
    "    if self.initSol:\n",
    "        sys.stderr.write(\"error: 'firstSolve' method has already called.\")\n",
    "        return\n",
    "    # Make a random index of plc    \n",
    "    randomIndex = np.arange(plc.size)\n",
    "    shuffle(randomIndex)\n",
    "    \n",
    "    # Add as much as possible \n",
    "    solSizeTmp = -1\n",
    "    while self.solSize != solSizeTmp:\n",
    "        solSizeTmp = self.solSize\n",
    "        for t in randomIndex:\n",
    "            self.add(plc.div[t], plc.i[t], plc.j[t], dic.data[plc.k[t]])\n",
    "    self.sol = self.cell\n",
    "    self.initSol = True\n",
    "setattr(Puzzle, \"firstSolve\", firstSolve)"
   ]
  },
  {
   "cell_type": "code",
   "execution_count": 18,
   "metadata": {
    "collapsed": false,
    "scrolled": true
   },
   "outputs": [],
   "source": [
    "puzzle.initSol = False\n",
    "puzzle.firstSolve(dic, plc)"
   ]
  },
  {
   "cell_type": "markdown",
   "metadata": {},
   "source": [
    "結果が気になりますよね。\n",
    "結果を確認するための`show`メソッドを定義します："
   ]
  },
  {
   "cell_type": "code",
   "execution_count": 19,
   "metadata": {
    "collapsed": false
   },
   "outputs": [],
   "source": [
    "def show(self, ndarray):    \n",
    "    styles = [\n",
    "        dict(selector=\"th\", props=[(\"font-size\", \"90%\"),\n",
    "                                   (\"text-align\", \"center\"),\n",
    "                                   (\"color\", \"#ffffff\"),\n",
    "                                   (\"background\", \"#777777\"),\n",
    "                                   (\"border\", \"solid 1px white\"),\n",
    "                                   (\"width\", \"30px\"),\n",
    "                                   (\"height\", \"30px\")]),\n",
    "        dict(selector=\"td\", props=[(\"font-size\", \"105%\"),\n",
    "                                   (\"text-align\", \"center\"),\n",
    "                                   (\"color\", \"#161616\"),\n",
    "                                   (\"background\", \"#dddddd\"),\n",
    "                                   (\"border\", \"solid 1px white\"),\n",
    "                                   (\"width\", \"30px\"),\n",
    "                                   (\"height\", \"30px\")]),\n",
    "        dict(selector=\"caption\", props=[(\"caption-side\", \"bottom\")])\n",
    "    ]\n",
    "    df = pd.DataFrame(ndarray)\n",
    "    df.to_clipboard()\n",
    "    df = (df.style.set_table_styles(styles)\n",
    "          .set_caption(\"Puzzle(%d,%d), Seed:%d, solSize:%d Dictionary:[%s]\" % (self.width, self.height, randomSeed, self.solSize, fpath)))\n",
    "    return df\n",
    "setattr(Puzzle, \"show\", show)"
   ]
  },
  {
   "cell_type": "markdown",
   "metadata": {},
   "source": [
    "早速使ってみましょう。見たい結果を`show`メソッドの引数として与えます。\n",
    "ここでは`puzzle.cell`を見てみます(`puzzle.cover`や`puzzle.enable`も可能)："
   ]
  },
  {
   "cell_type": "code",
   "execution_count": 20,
   "metadata": {
    "collapsed": false,
    "scrolled": true
   },
   "outputs": [
    {
     "data": {
      "text/html": [
       "\n",
       "        <style  type=\"text/css\" >\n",
       "        \n",
       "            #T_89dee078_f388_11e8_a6b9_98e0d9ace5af th {\n",
       "            \n",
       "                font-size: 90%;\n",
       "            \n",
       "                text-align: center;\n",
       "            \n",
       "                color: #ffffff;\n",
       "            \n",
       "                background: #777777;\n",
       "            \n",
       "                border: solid 1px white;\n",
       "            \n",
       "                width: 30px;\n",
       "            \n",
       "                height: 30px;\n",
       "            \n",
       "            }\n",
       "        \n",
       "            #T_89dee078_f388_11e8_a6b9_98e0d9ace5af td {\n",
       "            \n",
       "                font-size: 105%;\n",
       "            \n",
       "                text-align: center;\n",
       "            \n",
       "                color: #161616;\n",
       "            \n",
       "                background: #dddddd;\n",
       "            \n",
       "                border: solid 1px white;\n",
       "            \n",
       "                width: 30px;\n",
       "            \n",
       "                height: 30px;\n",
       "            \n",
       "            }\n",
       "        \n",
       "            #T_89dee078_f388_11e8_a6b9_98e0d9ace5af caption {\n",
       "            \n",
       "                caption-side: bottom;\n",
       "            \n",
       "            }\n",
       "        \n",
       "        \n",
       "        </style>\n",
       "\n",
       "        <table id=\"T_89dee078_f388_11e8_a6b9_98e0d9ace5af\" None>\n",
       "        \n",
       "            <caption>Puzzle(5,5), Seed:1, solSize:4 Dictionary:[../dict/countries.txt]</caption>\n",
       "        \n",
       "\n",
       "        <thead>\n",
       "            \n",
       "            <tr>\n",
       "                \n",
       "                \n",
       "                <th class=\"blank level0\" >\n",
       "                  \n",
       "                \n",
       "                \n",
       "                \n",
       "                <th class=\"col_heading level0 col0\" colspan=1>\n",
       "                  0\n",
       "                \n",
       "                \n",
       "                \n",
       "                <th class=\"col_heading level0 col1\" colspan=1>\n",
       "                  1\n",
       "                \n",
       "                \n",
       "                \n",
       "                <th class=\"col_heading level0 col2\" colspan=1>\n",
       "                  2\n",
       "                \n",
       "                \n",
       "                \n",
       "                <th class=\"col_heading level0 col3\" colspan=1>\n",
       "                  3\n",
       "                \n",
       "                \n",
       "                \n",
       "                <th class=\"col_heading level0 col4\" colspan=1>\n",
       "                  4\n",
       "                \n",
       "                \n",
       "            </tr>\n",
       "            \n",
       "        </thead>\n",
       "        <tbody>\n",
       "            \n",
       "            <tr>\n",
       "                \n",
       "                \n",
       "                <th id=\"T_89dee078_f388_11e8_a6b9_98e0d9ace5af\"\n",
       "                 class=\"row_heading level0 row0\" rowspan=1>\n",
       "                    0\n",
       "                \n",
       "                \n",
       "                \n",
       "                <td id=\"T_89dee078_f388_11e8_a6b9_98e0d9ace5afrow0_col0\"\n",
       "                 class=\"data row0 col0\" >\n",
       "                    L\n",
       "                \n",
       "                \n",
       "                \n",
       "                <td id=\"T_89dee078_f388_11e8_a6b9_98e0d9ace5afrow0_col1\"\n",
       "                 class=\"data row0 col1\" >\n",
       "                    A\n",
       "                \n",
       "                \n",
       "                \n",
       "                <td id=\"T_89dee078_f388_11e8_a6b9_98e0d9ace5afrow0_col2\"\n",
       "                 class=\"data row0 col2\" >\n",
       "                    O\n",
       "                \n",
       "                \n",
       "                \n",
       "                <td id=\"T_89dee078_f388_11e8_a6b9_98e0d9ace5afrow0_col3\"\n",
       "                 class=\"data row0 col3\" >\n",
       "                    S\n",
       "                \n",
       "                \n",
       "                \n",
       "                <td id=\"T_89dee078_f388_11e8_a6b9_98e0d9ace5afrow0_col4\"\n",
       "                 class=\"data row0 col4\" >\n",
       "                    \n",
       "                \n",
       "                \n",
       "            </tr>\n",
       "            \n",
       "            <tr>\n",
       "                \n",
       "                \n",
       "                <th id=\"T_89dee078_f388_11e8_a6b9_98e0d9ace5af\"\n",
       "                 class=\"row_heading level0 row1\" rowspan=1>\n",
       "                    1\n",
       "                \n",
       "                \n",
       "                \n",
       "                <td id=\"T_89dee078_f388_11e8_a6b9_98e0d9ace5afrow1_col0\"\n",
       "                 class=\"data row1 col0\" >\n",
       "                    \n",
       "                \n",
       "                \n",
       "                \n",
       "                <td id=\"T_89dee078_f388_11e8_a6b9_98e0d9ace5afrow1_col1\"\n",
       "                 class=\"data row1 col1\" >\n",
       "                    \n",
       "                \n",
       "                \n",
       "                \n",
       "                <td id=\"T_89dee078_f388_11e8_a6b9_98e0d9ace5afrow1_col2\"\n",
       "                 class=\"data row1 col2\" >\n",
       "                    \n",
       "                \n",
       "                \n",
       "                \n",
       "                <td id=\"T_89dee078_f388_11e8_a6b9_98e0d9ace5afrow1_col3\"\n",
       "                 class=\"data row1 col3\" >\n",
       "                    P\n",
       "                \n",
       "                \n",
       "                \n",
       "                <td id=\"T_89dee078_f388_11e8_a6b9_98e0d9ace5afrow1_col4\"\n",
       "                 class=\"data row1 col4\" >\n",
       "                    \n",
       "                \n",
       "                \n",
       "            </tr>\n",
       "            \n",
       "            <tr>\n",
       "                \n",
       "                \n",
       "                <th id=\"T_89dee078_f388_11e8_a6b9_98e0d9ace5af\"\n",
       "                 class=\"row_heading level0 row2\" rowspan=1>\n",
       "                    2\n",
       "                \n",
       "                \n",
       "                \n",
       "                <td id=\"T_89dee078_f388_11e8_a6b9_98e0d9ace5afrow2_col0\"\n",
       "                 class=\"data row2 col0\" >\n",
       "                    \n",
       "                \n",
       "                \n",
       "                \n",
       "                <td id=\"T_89dee078_f388_11e8_a6b9_98e0d9ace5afrow2_col1\"\n",
       "                 class=\"data row2 col1\" >\n",
       "                    U\n",
       "                \n",
       "                \n",
       "                \n",
       "                <td id=\"T_89dee078_f388_11e8_a6b9_98e0d9ace5afrow2_col2\"\n",
       "                 class=\"data row2 col2\" >\n",
       "                    S\n",
       "                \n",
       "                \n",
       "                \n",
       "                <td id=\"T_89dee078_f388_11e8_a6b9_98e0d9ace5afrow2_col3\"\n",
       "                 class=\"data row2 col3\" >\n",
       "                    A\n",
       "                \n",
       "                \n",
       "                \n",
       "                <td id=\"T_89dee078_f388_11e8_a6b9_98e0d9ace5afrow2_col4\"\n",
       "                 class=\"data row2 col4\" >\n",
       "                    \n",
       "                \n",
       "                \n",
       "            </tr>\n",
       "            \n",
       "            <tr>\n",
       "                \n",
       "                \n",
       "                <th id=\"T_89dee078_f388_11e8_a6b9_98e0d9ace5af\"\n",
       "                 class=\"row_heading level0 row3\" rowspan=1>\n",
       "                    3\n",
       "                \n",
       "                \n",
       "                \n",
       "                <td id=\"T_89dee078_f388_11e8_a6b9_98e0d9ace5afrow3_col0\"\n",
       "                 class=\"data row3 col0\" >\n",
       "                    \n",
       "                \n",
       "                \n",
       "                \n",
       "                <td id=\"T_89dee078_f388_11e8_a6b9_98e0d9ace5afrow3_col1\"\n",
       "                 class=\"data row3 col1\" >\n",
       "                    S\n",
       "                \n",
       "                \n",
       "                \n",
       "                <td id=\"T_89dee078_f388_11e8_a6b9_98e0d9ace5afrow3_col2\"\n",
       "                 class=\"data row3 col2\" >\n",
       "                    \n",
       "                \n",
       "                \n",
       "                \n",
       "                <td id=\"T_89dee078_f388_11e8_a6b9_98e0d9ace5afrow3_col3\"\n",
       "                 class=\"data row3 col3\" >\n",
       "                    I\n",
       "                \n",
       "                \n",
       "                \n",
       "                <td id=\"T_89dee078_f388_11e8_a6b9_98e0d9ace5afrow3_col4\"\n",
       "                 class=\"data row3 col4\" >\n",
       "                    \n",
       "                \n",
       "                \n",
       "            </tr>\n",
       "            \n",
       "            <tr>\n",
       "                \n",
       "                \n",
       "                <th id=\"T_89dee078_f388_11e8_a6b9_98e0d9ace5af\"\n",
       "                 class=\"row_heading level0 row4\" rowspan=1>\n",
       "                    4\n",
       "                \n",
       "                \n",
       "                \n",
       "                <td id=\"T_89dee078_f388_11e8_a6b9_98e0d9ace5afrow4_col0\"\n",
       "                 class=\"data row4 col0\" >\n",
       "                    \n",
       "                \n",
       "                \n",
       "                \n",
       "                <td id=\"T_89dee078_f388_11e8_a6b9_98e0d9ace5afrow4_col1\"\n",
       "                 class=\"data row4 col1\" >\n",
       "                    \n",
       "                \n",
       "                \n",
       "                \n",
       "                <td id=\"T_89dee078_f388_11e8_a6b9_98e0d9ace5afrow4_col2\"\n",
       "                 class=\"data row4 col2\" >\n",
       "                    \n",
       "                \n",
       "                \n",
       "                \n",
       "                <td id=\"T_89dee078_f388_11e8_a6b9_98e0d9ace5afrow4_col3\"\n",
       "                 class=\"data row4 col3\" >\n",
       "                    N\n",
       "                \n",
       "                \n",
       "                \n",
       "                <td id=\"T_89dee078_f388_11e8_a6b9_98e0d9ace5afrow4_col4\"\n",
       "                 class=\"data row4 col4\" >\n",
       "                    \n",
       "                \n",
       "                \n",
       "            </tr>\n",
       "            \n",
       "        </tbody>\n",
       "        </table>\n",
       "        "
      ],
      "text/plain": [
       "<pandas.formats.style.Styler at 0x117c42c18>"
      ]
     },
     "execution_count": 20,
     "metadata": {},
     "output_type": "execute_result"
    }
   ],
   "source": [
    "puzzle.show(puzzle.cell)"
   ]
  },
  {
   "cell_type": "markdown",
   "metadata": {},
   "source": [
    "まだ改善の余地がありますが、一つの島で繋がったパズルが出来上がっていますね。ちなみに、`show`メソッドを呼ぶと自動的にクリップボードに保存されるようになるので、結果をすぐに誰かと共有したい場合はそれをペーストするだけでできます。\n",
    "\n",
    "***\n",
    "\n",
    "## 目的関数\n",
    "さて、今できた解はまだ未熟であり、改善の余地があるように見えると思います。\n",
    "ここで、この解の良し悪しを定量的に判断する必要があります。\n",
    "この定量的な解の良し悪し指標を「目的関数」として定義します。\n",
    "目的関数には様々なものが考えられます：\n",
    "\n",
    "* 解に使われた単語数(solSize)\n",
    "* 単語のクロス数\n",
    "* 文字で埋まっているセルの個数\n",
    "* 文字なしマスの連結数の最大値(を最小化)\n",
    "\n",
    "これ以外にも様々な目的関数が考えられるでしょう。そして、これらの目的関数は優先順位をつけて共存させることも可能です。後ほど実装する最適化手法は、これらの値を「スコア」として受け、それを最大化するように働きます。なので、4つ目の「文字なしマスの連結数の最大値」は、パズル全マスからその値を引いたものをスコアとして返すように設計します。\n",
    "\n",
    "早速、目的関数を一つ作って、`ObjectiveFunction`クラスのアトリビュートとして設定してみましょう。まずは、最も単純な「解に使われた単語数」を返す目的関数を実装します："
   ]
  },
  {
   "cell_type": "code",
   "execution_count": 21,
   "metadata": {
    "collapsed": true
   },
   "outputs": [],
   "source": [
    "def solSize(self):\n",
    "    return self.puzzle.solSize\n",
    "setattr(ObjectiveFunction, \"solSize\", solSize)"
   ]
  },
  {
   "cell_type": "markdown",
   "metadata": {
    "collapsed": true
   },
   "source": [
    "次に、単語のクロス数を判定して返す目的関数を実装します："
   ]
  },
  {
   "cell_type": "code",
   "execution_count": 22,
   "metadata": {
    "collapsed": false
   },
   "outputs": [],
   "source": [
    "def crossCount(self):\n",
    "    return np.sum(self.puzzle.cover == 2)\n",
    "setattr(ObjectiveFunction, \"crossCount\", crossCount)"
   ]
  },
  {
   "cell_type": "markdown",
   "metadata": {},
   "source": [
    "次に、文字で埋まっているセルの個数を返す目的関数を実装します："
   ]
  },
  {
   "cell_type": "code",
   "execution_count": 23,
   "metadata": {
    "collapsed": true
   },
   "outputs": [],
   "source": [
    "def fillCount(self):\n",
    "    return np.sum(self.puzzle.cover >= 1)\n",
    "setattr(ObjectiveFunction, \"fillCount\", fillCount)"
   ]
  },
  {
   "cell_type": "markdown",
   "metadata": {},
   "source": [
    "それでは、今定義した目的関数値を表示してみましょう："
   ]
  },
  {
   "cell_type": "code",
   "execution_count": 24,
   "metadata": {
    "collapsed": false
   },
   "outputs": [
    {
     "name": "stdout",
     "output_type": "stream",
     "text": [
      "solSize: 4\n",
      "crossCount: 3\n",
      "fillCount: 11\n"
     ]
    }
   ],
   "source": [
    "print(\"solSize: %d\" % objFunc.solSize())\n",
    "print(\"crossCount: %d\" % objFunc.crossCount())\n",
    "print(\"fillCount: %d\" % objFunc.fillCount())"
   ]
  },
  {
   "cell_type": "markdown",
   "metadata": {},
   "source": [
    "初期解と見比べて、正しい目的関数値が返ってきていることを確認してください。\n",
    "もし結果が合わない場合、Notebookの実行順に間違いがある可能性があるため、[Kernel]タブから[Restart & Run All]を選択してください。それでも結果が合わない場合、ライブラリが正しくインストールされているかを確認してください。\n",
    "\n",
    "目的関数には「文字なしマスの連結数の最大値」なども考えられます。しかし、この「連結数」を数えるのは少し工夫が必要です。連結数のカウントには「深さ優先探索(Depth First Search:DFS)」を用います。\n",
    "* `DFS`メソッドはセルの値が1でそれ以外が0の2次元配列(coverDFS)を引数にとり、引数で与えられたセルと連結したセルには全て同じ番号(ccl)を振ります。\n",
    "* `DFS`メソッドは引数に[ coverDFS, 今見る行, 今見る列, 島番号]をとります。\n",
    "\n",
    "後ほど、`DFS`メソッドは目的関数以外の場所でも使うため、`Puzzle`クラスのメソッドとして登録しておきます："
   ]
  },
  {
   "cell_type": "code",
   "execution_count": 25,
   "metadata": {
    "collapsed": true
   },
   "outputs": [],
   "source": [
    "def DFS(self, i, j, ccl):\n",
    "    self.coverDFS[i,j] = ccl\n",
    "    if i>0 and self.coverDFS[i-1,j] == 1:\n",
    "        self.DFS(i-1, j, ccl)\n",
    "    if i<self.height-1 and self.coverDFS[i+1,j] == 1:\n",
    "        self.DFS(i+1, j, ccl)\n",
    "    if j>0 and self.coverDFS[i,j-1] == 1:\n",
    "        self.DFS(i, j-1, ccl)\n",
    "    if j<self.width-1 and self.coverDFS[i,j+1] == 1:\n",
    "        self.DFS(i, j+1, ccl)\n",
    "setattr(Puzzle, \"DFS\", DFS)"
   ]
  },
  {
   "cell_type": "markdown",
   "metadata": {},
   "source": [
    "`DFS`メソッドは引数で与えられたセルに連結した島しか判定しません。\n",
    "文字なしマスの最大連結数を見るためには、全ての島に対してDFSを使って番号を振る必要があります。\n",
    "\n",
    "さて、この`DFS`メソッドを使って文字なしマスの最大連結数を取り出す`maxConnectedEmptys`メソッドを定義しましょう(上でも述べたとおり、全マス数から最大連結数を引いたものをスコアとして返します)："
   ]
  },
  {
   "cell_type": "code",
   "execution_count": 26,
   "metadata": {
    "collapsed": false
   },
   "outputs": [],
   "source": [
    "def maxConnectedEmptys(self):\n",
    "    ccl = 2\n",
    "    self.puzzle.coverDFS = np.where(self.puzzle.cover == 0, 1, self.puzzle.coverDFS)\n",
    "    for i in range(self.puzzle.height):\n",
    "        for j in range(self.puzzle.width):\n",
    "            if self.puzzle.coverDFS[i,j] == 1:\n",
    "                self.puzzle.DFS(i, j, ccl)\n",
    "                ccl += 1\n",
    "    score = self.puzzle.width*self.puzzle.height - np.max(np.bincount(self.puzzle.coverDFS.flatten())[1:])\n",
    "    return score\n",
    "setattr(ObjectiveFunction, \"maxConnectedEmptys\", maxConnectedEmptys)"
   ]
  },
  {
   "cell_type": "markdown",
   "metadata": {},
   "source": [
    "それでは、(全マス数ー文字なしマスの最大連結数)を表示してみましょう："
   ]
  },
  {
   "cell_type": "code",
   "execution_count": 27,
   "metadata": {
    "collapsed": false
   },
   "outputs": [
    {
     "name": "stdout",
     "output_type": "stream",
     "text": [
      "maxConnectedEmptys: 16\n"
     ]
    }
   ],
   "source": [
    "print(\"maxConnectedEmptys: %d\" % objFunc.maxConnectedEmptys())"
   ]
  },
  {
   "cell_type": "markdown",
   "metadata": {},
   "source": [
    "正しく表示されたかどうか確認してください。\n",
    "次に、これらの目的関数をどの順番で見ていくかの優先順位をつけて、`ObjectiveFunction`オブジェクトに覚えさせていきます。\n",
    "ここでは、そのための`register`メソッドを定義します："
   ]
  },
  {
   "cell_type": "code",
   "execution_count": 28,
   "metadata": {
    "collapsed": false
   },
   "outputs": [],
   "source": [
    "def register(self, funcNames):\n",
    "    for funcName in funcNames:\n",
    "        if funcName not in self.flist:\n",
    "            sys.stderr.write(\"error: ObjectiveFunction class don't have '%s' function.\" % funcName)\n",
    "            sys.exit()\n",
    "        print(\" - '%s' function has registered.\" % funcName)\n",
    "    self.registeredFuncs = funcNames\n",
    "    return\n",
    "setattr(ObjectiveFunction, \"register\", register)"
   ]
  },
  {
   "cell_type": "code",
   "execution_count": 29,
   "metadata": {
    "collapsed": false
   },
   "outputs": [
    {
     "name": "stdout",
     "output_type": "stream",
     "text": [
      " - 'solSize' function has registered.\n",
      " - 'crossCount' function has registered.\n",
      " - 'fillCount' function has registered.\n"
     ]
    }
   ],
   "source": [
    "objFunc.register([\"solSize\", \"crossCount\", \"fillCount\"])"
   ]
  },
  {
   "cell_type": "markdown",
   "metadata": {},
   "source": [
    "この場合、\"solSize\"から評価され、最後に”fillCount”が評価されます。\n",
    "これで、`ObjectiveFunction`クラスを`Puzzle`クラスにコンパイルする準備はできました。\n",
    "しかし、コンパイルは最適化手法(`Optimizer`クラス)と一緒にコンパイルする設計にするため、この後は`Optimizer`クラスの中身を作っていきましょう。\n",
    "\n",
    "***\n",
    "\n",
    "## 最適化手法\n",
    "ここでは、設定した目的関数値を最大化/最小化するための手法を実装していきます。まずは、数ある最適化手法の中から「反復局所探索法」を実装します。これは、このノートのタイトルにもある「LocalSearch」と呼ばれる手法で、組み合わせ最適化問題を解く近似解法として代表的なものです。\n",
    "それでは早速、反復局所探索法を行うための`iterativeLocalSearch`メソッドを定義しましょう："
   ]
  },
  {
   "cell_type": "code",
   "execution_count": 30,
   "metadata": {
    "collapsed": false
   },
   "outputs": [],
   "source": [
    "def iterativeLocalSearch():\n",
    "    return"
   ]
  },
  {
   "cell_type": "code",
   "execution_count": null,
   "metadata": {
    "collapsed": true
   },
   "outputs": [],
   "source": []
  }
 ],
 "metadata": {
  "kernelspec": {
   "display_name": "Python 3",
   "language": "python",
   "name": "python3"
  },
  "language_info": {
   "codemirror_mode": {
    "name": "ipython",
    "version": 3
   },
   "file_extension": ".py",
   "mimetype": "text/x-python",
   "name": "python",
   "nbconvert_exporter": "python",
   "pygments_lexer": "ipython3",
   "version": "3.6.0"
  }
 },
 "nbformat": 4,
 "nbformat_minor": 2
}
