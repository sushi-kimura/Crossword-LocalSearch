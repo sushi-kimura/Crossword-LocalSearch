{
 "cells": [
  {
   "cell_type": "markdown",
   "metadata": {},
   "source": [
    "# Crossword Local Search\n",
    "\n",
    "## 概要\n",
    "これはクロスワード(スケルトンパズル)自動生成用ソースをPythonにて再現できないかをテストしたものである。\n",
    "main.cはpythonで代用し、計算量の多い処理は既存のcommon.cをimportして使用する。\n",
    "結果やスコアの推移の視覚化も追加する。"
   ]
  },
  {
   "cell_type": "markdown",
   "metadata": {},
   "source": [
    "***\n",
    "\n",
    "## 入力データ・実行パラメータ設定\n",
    "入力データを指定し、各種実行パラメータの設定を行います。\n",
    "各パラメータは以下の通り：\n",
    "  * `fpath`      : 入力データ(単語リスト)のファイルパス\n",
    "  * `width`          : 盤面の大きさ(横)\n",
    "  * `height`          : 盤面の大きさ(縦)\n",
    "  * `randomSeed`       : シード値\n",
    "  * `withweight` : 辞書に重みを付すかどうか(bool)\n",
    "  * `takemove`   : \"摂動(move)\"を行うかどうか(bool)"
   ]
  },
  {
   "cell_type": "code",
   "execution_count": 1,
   "metadata": {
    "collapsed": false
   },
   "outputs": [],
   "source": [
    "fpath = \"../dict/countries.txt\" # countries.txt hokkaido.txt\n",
    "width = 30\n",
    "height = 30\n",
    "randomSeed = 1\n",
    "withweight = False\n",
    "takemove = True"
   ]
  },
  {
   "cell_type": "markdown",
   "metadata": {},
   "source": [
    "***\n",
    "\n",
    "## Import\n",
    "必要なライブラリをimportする："
   ]
  },
  {
   "cell_type": "code",
   "execution_count": 2,
   "metadata": {
    "collapsed": false
   },
   "outputs": [],
   "source": [
    "import numpy as np\n",
    "from numpy.random import *\n",
    "import pandas as pd\n",
    "import matplotlib.pyplot as plt\n",
    "import seaborn as sns\n",
    "import unicodedata\n",
    "import sys\n",
    "\n",
    "from IPython.display import display\n",
    "from PIL import Image\n",
    "from IPython.display import HTML\n",
    "%matplotlib inline"
   ]
  },
  {
   "cell_type": "markdown",
   "metadata": {},
   "source": [
    "***\n",
    "\n",
    "## クラス宣言\n",
    "本プログラムで使用するクラスを定義する。\n",
    "見やすさのため、クラスメソッドは後から定義し、`setattr`関数でアトリビュートに追加します。\n",
    "\n",
    "\n",
    "### Puzzle クラス\n",
    "解となるスケルトンパズルそのものを表すクラス。\n",
    "メンバ変数は以下の通り：\n",
    "  * width : 盤面の大きさ(横)\n",
    "  * height : 盤面の大きさ(縦)\n",
    "  * enable : 配置禁止マスを保持した2次元(width*height)配列\n",
    "  * cell : 作業用2次元(width*height)配列\n",
    "  * cover : セル上の文字数を保持する2次元(width*height)配列\n",
    "  * sol : パズルの解を保存する2次元(width*height)配列\n",
    "  * solSize : パズルに配置されている単語の数"
   ]
  },
  {
   "cell_type": "code",
   "execution_count": 3,
   "metadata": {
    "collapsed": true
   },
   "outputs": [],
   "source": [
    "class Puzzle():\n",
    "    def __init__(self, width, height):\n",
    "        self.width = width\n",
    "        self.height = height\n",
    "        self.enable = np.ones(width*height, dtype = \"bool\").reshape(height,width)\n",
    "        self.cell = np.full(width*height, \" \", dtype = \"unicode\").reshape(height,width)\n",
    "        self.cover = np.zeros(width*height).reshape(height,width)\n",
    "        self.sol = np.full(width*height, \" \",  dtype = \"unicode\").reshape(height,width)\n",
    "        self.solSize = 0\n",
    "        ## Message\n",
    "        print(\"Puzzle object has made.\")\n",
    "        print(\" - width       : %d\" % self.width)\n",
    "        print(\" - height      : %d\" % self.height)\n",
    "        print(\" - cell' shape : (width, height) = (%d,%d)\" % (self.cell.shape[0], self.cell.shape[1]))"
   ]
  },
  {
   "cell_type": "code",
   "execution_count": 4,
   "metadata": {
    "collapsed": false
   },
   "outputs": [
    {
     "name": "stdout",
     "output_type": "stream",
     "text": [
      "Puzzle object has made.\n",
      " - width       : 30\n",
      " - height      : 30\n",
      " - cell' shape : (width, height) = (30,30)\n"
     ]
    }
   ],
   "source": [
    "puzzle = Puzzle(width, height)"
   ]
  },
  {
   "cell_type": "markdown",
   "metadata": {},
   "source": [
    "### Dictionary クラス\n",
    "入力した単語リストを整理して保持するクラス。\n",
    "メンバ変数は以下の通り：\n",
    "  * fpath : 入力データのファイルパス\n",
    "  * size : 辞書の大きさ(単語数)\n",
    "  * dictType : 辞書のタイプ(\"English\"/\"Japanese\")\n",
    "  * data : 入力データ配列"
   ]
  },
  {
   "cell_type": "code",
   "execution_count": 5,
   "metadata": {
    "collapsed": false
   },
   "outputs": [],
   "source": [
    "class Dictionary():        \n",
    "    def __init__(self, fpath=\"unknown\"):\n",
    "        self.fpath = fpath\n",
    "        print(\"Dictionary object has made.\")\n",
    "        \n",
    "        ## Read\n",
    "        print(\" - READING DICTIONARY...\")\n",
    "        file = open(self.fpath)\n",
    "        self.data = file.readlines()\n",
    "        file.close()\n",
    "        # Get a size of dictionary\n",
    "        self.size = len(self.data)\n",
    "        # Check dictionary type(English/Japanese)\n",
    "        uniName = unicodedata.name(self.data[0][0])[0:10]\n",
    "        if \"HIRAGANA\" in uniName or \"KATAKANA\" in uniName:\n",
    "            self.dictType = \"Japanese\"\n",
    "        elif \"LATIN CAPITAL\" in uniName:\n",
    "            self.dictType = \"English\"\n",
    "            self.data = [s.upper() for s in self.data]\n",
    "        # Remove \"\\n\" & Check type for all letters\n",
    "        for i in range(self.size):\n",
    "            self.data[i] = self.data[i].rstrip(\"\\n\")\n",
    "            if unicodedata.name(self.data[i][0])[0:10] != uniName:\n",
    "                sys.stderr.write(\"error: invalid dictionary (%s)\\n\" % self.data[i])\n",
    "\n",
    "        ## Message\n",
    "        print(\" - file path         : %s\" % self.fpath)\n",
    "        print(\" - dictionary size   : %d\" % self.size)\n",
    "        print(\" - dictionary type   : %s\" % self.dictType)\n",
    "        print(\" - top of dictionary : %s\" % self.data[0])"
   ]
  },
  {
   "cell_type": "code",
   "execution_count": 6,
   "metadata": {
    "collapsed": false,
    "scrolled": false
   },
   "outputs": [
    {
     "name": "stdout",
     "output_type": "stream",
     "text": [
      "Dictionary object has made.\n",
      " - READING DICTIONARY...\n",
      " - file path         : ../dict/countries.txt\n",
      " - dictionary size   : 207\n"
     ]
    },
    {
     "ename": "AttributeError",
     "evalue": "'Dictionary' object has no attribute 'dictType'",
     "output_type": "error",
     "traceback": [
      "\u001b[0;31m---------------------------------------------------------------------------\u001b[0m",
      "\u001b[0;31mAttributeError\u001b[0m                            Traceback (most recent call last)",
      "\u001b[0;32m<ipython-input-6-ea50d7bc185c>\u001b[0m in \u001b[0;36m<module>\u001b[0;34m()\u001b[0m\n\u001b[0;32m----> 1\u001b[0;31m \u001b[0mdic\u001b[0m \u001b[0;34m=\u001b[0m \u001b[0mDictionary\u001b[0m\u001b[0;34m(\u001b[0m\u001b[0mfpath\u001b[0m\u001b[0;34m)\u001b[0m\u001b[0;34m\u001b[0m\u001b[0m\n\u001b[0m",
      "\u001b[0;32m<ipython-input-5-7a0ddabf57d5>\u001b[0m in \u001b[0;36m__init__\u001b[0;34m(self, fpath)\u001b[0m\n\u001b[1;32m     27\u001b[0m         \u001b[0mprint\u001b[0m\u001b[0;34m(\u001b[0m\u001b[0;34m\" - file path         : %s\"\u001b[0m \u001b[0;34m%\u001b[0m \u001b[0mself\u001b[0m\u001b[0;34m.\u001b[0m\u001b[0mfpath\u001b[0m\u001b[0;34m)\u001b[0m\u001b[0;34m\u001b[0m\u001b[0m\n\u001b[1;32m     28\u001b[0m         \u001b[0mprint\u001b[0m\u001b[0;34m(\u001b[0m\u001b[0;34m\" - dictionary size   : %d\"\u001b[0m \u001b[0;34m%\u001b[0m \u001b[0mself\u001b[0m\u001b[0;34m.\u001b[0m\u001b[0msize\u001b[0m\u001b[0;34m)\u001b[0m\u001b[0;34m\u001b[0m\u001b[0m\n\u001b[0;32m---> 29\u001b[0;31m         \u001b[0mprint\u001b[0m\u001b[0;34m(\u001b[0m\u001b[0;34m\" - dictionary type   : %s\"\u001b[0m \u001b[0;34m%\u001b[0m \u001b[0mself\u001b[0m\u001b[0;34m.\u001b[0m\u001b[0mdictType\u001b[0m\u001b[0;34m)\u001b[0m\u001b[0;34m\u001b[0m\u001b[0m\n\u001b[0m\u001b[1;32m     30\u001b[0m         \u001b[0mprint\u001b[0m\u001b[0;34m(\u001b[0m\u001b[0;34m\" - top of dictionary : %s\"\u001b[0m \u001b[0;34m%\u001b[0m \u001b[0mself\u001b[0m\u001b[0;34m.\u001b[0m\u001b[0mdata\u001b[0m\u001b[0;34m[\u001b[0m\u001b[0;36m0\u001b[0m\u001b[0;34m]\u001b[0m\u001b[0;34m)\u001b[0m\u001b[0;34m\u001b[0m\u001b[0m\n",
      "\u001b[0;31mAttributeError\u001b[0m: 'Dictionary' object has no attribute 'dictType'"
     ]
    }
   ],
   "source": [
    "dic = Dictionary(fpath)"
   ]
  },
  {
   "cell_type": "markdown",
   "metadata": {},
   "source": [
    "### Placeable クラス\n",
    "辞書内のすべての単語に対して、それぞれの単語が配置可能(placeable)な位置の一覧を作る。これは`Puzzle`クラスと`Dictionary`クラスの両方の要素を用いて行われる。\n",
    "\n",
    "配置可能な位置は、単語の先頭文字の座標で指定する。ここでは、パズルの左上を(0,0)、右上を(n,0)、左下を(0,n)、右下を(n,n)とする。\n",
    "例えば、大きさが5×5のパズル上に`Dictionary`クラスの5番目に格納された長さ4文字の単語「HOGE」を配置しようとした場合、配置可能な位置は\n",
    "  * 横向きの場合：(0,0),(0,1),(0,2),(0,3)(0,4),(1,0),(1,1),(1,2),(1,3),(1,4)の10マス。\n",
    "  * 縦向きの場合：(0,0),(1,0),(2,0),(3,0)(4,0),(0,1),(1,1),(2,1),(3,1),(4,1)の10マス。\n",
    "よって。配置する場合のパターンは全部で20通りになる。"
   ]
  },
  {
   "cell_type": "code",
   "execution_count": null,
   "metadata": {
    "collapsed": false
   },
   "outputs": [],
   "source": [
    "#display(Image.open(\"fig/puzzles.png\"))"
   ]
  },
  {
   "cell_type": "markdown",
   "metadata": {},
   "source": [
    "これらの情報は次のフォーマットで整理される：\n",
    "  * k : 単語番号(辞書内の何番目の単語か)\n",
    "  * div : 単語を置く向き(0: 縦, 1: 横)\n",
    "  * j : 単語の先頭文字のx座標\n",
    "  * i : 単語の先頭文字のy座標"
   ]
  },
  {
   "cell_type": "code",
   "execution_count": null,
   "metadata": {
    "collapsed": false
   },
   "outputs": [],
   "source": [
    "pd.DataFrame([[5,0,0,0],[5,0,0,1],[5,0,0,2],[5,0,0,3],[5,0,0,4],\n",
    "              [5,0,1,0],[5,0,1,1],[5,0,1,2],[5,0,1,3],[5,0,1,4],\n",
    "              [5,1,0,0],[5,1,1,0],[5,1,2,0],[5,1,3,0],[5,0,4,0],\n",
    "              [5,1,0,1],[5,1,1,1],[5,1,2,1],[5,1,3,1],[5,1,4,1],],\n",
    "             columns=[\"k\",\"div\",\"j\",\"i\"],\n",
    "             index=[\"p1\",\"p2\",\"p3\",\"p4\",\"p5\",\"p6\",\"p7\",\"p8\",\"p9\",\"p10\",\n",
    "                    \"p11\",\"p12\",\"p13\",\"p14\",\"p15\",\"p16\",\"p17\",\"p18\",\"p19\",\"p20\"]\n",
    "            )"
   ]
  },
  {
   "cell_type": "markdown",
   "metadata": {},
   "source": [
    "メンバ変数は以下の通り：\n",
    "  * size : Placeableオブジェクトの大きさ\n",
    "  * width : 引数のパズルの横幅\n",
    "  * height : 引数のパズルの縦幅\n",
    "  * dic : 引数の辞書\n",
    "  * div : Placeable成分の文字列の方向\n",
    "  * k : Placeable成分の文字の番号\n",
    "  * i : Placeable成分のy方向の座標\n",
    "  * j : Placeable成分のx方向の座標\n",
    "  * used : Placeable成分が既に使われているかどうか(bool)\n",
    "  * used_idx : 解として使われたPlaceable成分のインデックス集合\n",
    "  * invP : Placeableオブジェクトの逆写像"
   ]
  },
  {
   "cell_type": "code",
   "execution_count": null,
   "metadata": {
    "collapsed": false
   },
   "outputs": [],
   "source": [
    "class Placeable():\n",
    "    def __init__(self, puzzle, dictionary):\n",
    "        self.size = 0\n",
    "        self.width = puzzle.width\n",
    "        self.height = puzzle.height\n",
    "        self.dic = dictionary\n",
    "        self.div = np.zeros(2*self.dic.size*self.width*self.height, dtype='int64')\n",
    "        self.k = np.zeros(2*self.dic.size*self.width*self.height, dtype='int64')\n",
    "        self.i = np.zeros(2*self.dic.size*self.width*self.height, dtype='int64')\n",
    "        self.j = np.zeros(2*self.dic.size*self.width*self.height, dtype='int64')\n",
    "        self.used = np.zeros(2*self.dic.size*self.width*self.height, dtype = \"bool\")\n",
    "        self.used_idx = np.full(self.width*self.height, -1, dtype='int64')\n",
    "        self.invP = np.zeros(2*self.dic.size*self.width*self.height, dtype='int64').reshape(2,self.dic.size,self.height,self.width)\n",
    "\n",
    "        for div in range(2):\n",
    "            for k in range(self.dic.size):\n",
    "                if div == 0:\n",
    "                    iMax = self.height - len(self.dic.data[k])\n",
    "                    jMax = self.width - 1\n",
    "                elif div == 1:\n",
    "                    iMax = self.height - 1\n",
    "                    jMax = self.width - len(self.dic.data[k])\n",
    "                \n",
    "                for i in range(iMax):\n",
    "                    for j in range(jMax):\n",
    "                        self.div[self.size] = div\n",
    "                        self.k[self.size] = k\n",
    "                        self.i[self.size] = i\n",
    "                        self.j[self.size] = j\n",
    "                        self.invP[div][k][i][j] = self.size\n",
    "                        self.size += 1\n",
    "        print(\"Placeable object has made.\")\n",
    "        print(\" - placeable size : %d/%d(max shape)\" % (self.size, self.div.size))"
   ]
  },
  {
   "cell_type": "code",
   "execution_count": null,
   "metadata": {
    "collapsed": false
   },
   "outputs": [],
   "source": [
    "placeable = Placeable(puzzle, dic)"
   ]
  },
  {
   "cell_type": "markdown",
   "metadata": {},
   "source": [
    "***\n",
    "## パズル生成\n",
    "ここから、実際にパズルを生成していく。\n",
    "まずは、`placeable`オブジェクトからランダムに単語の配置可能位置を取得し、パズルの盤面に単語を詰められなくなるまで詰めます。\n",
    "その準備として、`placeable`オブジェクトのインデックスの順番をランダムに取得できるよう、`randomIndex`を作成します："
   ]
  },
  {
   "cell_type": "code",
   "execution_count": null,
   "metadata": {
    "collapsed": false
   },
   "outputs": [],
   "source": [
    "# Make a random index of placeable\n",
    "randomIndex = np.arange(placeable.size)\n",
    "print(randomIndex)\n",
    "seed(seed = randomSeed)\n",
    "shuffle(randomIndex)\n",
    "print(randomIndex)"
   ]
  },
  {
   "cell_type": "markdown",
   "metadata": {},
   "source": [
    "次に、パズルに単語を詰めていきます。\n",
    "単語を詰めるための関数として、`add`メソッドを`Puzzle`クラスに追加します。その前に、`add`メソッド内で呼ぶ、単語が配置可能かどうかをBoolianで返す`isEnabledAdd`メソッドを定義する："
   ]
  },
  {
   "cell_type": "code",
   "execution_count": null,
   "metadata": {
    "collapsed": false
   },
   "outputs": [],
   "source": [
    "### isEnabledAdd\n",
    "def isEnabledAdd(self, plc, idx, wLen):\n",
    "    crossing = False\n",
    "    crossSame = False\n",
    "    \n",
    "    # If 0 words used, return True\n",
    "    if self.solSize == 0:\n",
    "        return True\n",
    "    \n",
    "    # If the word is already in use, return False\n",
    "    if plc.used[idx] == True:\n",
    "        return False\n",
    "\n",
    "    # If the same word is in use, return False\n",
    "    for used_idx in plc.used_idx:\n",
    "        if used_idx != -1 and plc.k[idx] == plc.k[used_idx]:\n",
    "            return False\n",
    "\n",
    "    # If the word does not fit in the puzzle, return False\n",
    "    if plc.div[idx] == 0 and plc.i[idx]+wLen > self.height:\n",
    "        return False\n",
    "    if plc.div[idx] == 1 and plc.j[idx]+wLen > self.width:\n",
    "        return False\n",
    "    \n",
    "    # US/USA, DOMINICA/DOMINICAN probrem\n",
    "    flag = False\n",
    "    for p in range(wLen):\n",
    "        if plc.div[idx] == 0:\n",
    "            if self.enable[plc.i[idx]+p][plc.j[idx]] == False:\n",
    "                return False\n",
    "            if self.cell[plc.i[idx]+p][plc.j[idx]] == \" \":\n",
    "                flag = True\n",
    "                break\n",
    "        elif plc.div[idx] == 1:\n",
    "            if self.enable[plc.i[idx]][plc.j[idx]+p] == False:\n",
    "                return False\n",
    "            if self.cell[plc.i[idx]][plc.j[idx]+p] == \" \":\n",
    "                flag = True\n",
    "                break\n",
    "    if flag == False:\n",
    "        return False\n",
    "\n",
    "    # Judge intersection and whether prohibited\n",
    "    for p in range(wLen):\n",
    "        letter = plc.dic.data[plc.k[idx]][p]\n",
    "        if plc.div[idx] == 0 and self.enable[plc.i[idx]+p][plc.j[idx]] == True:\n",
    "            if self.cell[plc.i[idx]+p][plc.j[idx]] != \" \":\n",
    "                crossing = True\n",
    "                crossSame = (letter == self.cell[plc.i[idx]+p][plc.j[idx]])\n",
    "        elif plc.div[idx] == 1 and self.enable[plc.i[idx]][plc.j[idx]+p] == True:\n",
    "            if self.cell[plc.i[idx]][plc.j[idx]+p] != \" \":\n",
    "                crossing = True\n",
    "                crossSame = (letter == self.cell[plc.i[idx]][plc.j[idx]+p])\n",
    "        if crossing == True and crossSame == False:\n",
    "            return False\n",
    "        \n",
    "    if crossing == False:\n",
    "        return False\n",
    "\n",
    "    # If neighbor cells are filled except at the intersection, return False\n",
    "    for p in range(wLen):\n",
    "        if plc.div[idx] == 0 and self.cell[plc.i[idx]+p][plc.j[idx]] == \" \":\n",
    "            # Left side\n",
    "            if plc.j[idx] > 0 and self.cell[plc.i[idx]+p][plc.j[idx]-1] != \" \":\n",
    "                return False\n",
    "            # Right side\n",
    "            if plc.j[idx] < self.width-1 and self.cell[plc.i[idx]+p][plc.j[idx]+1] != \" \":\n",
    "                return False\n",
    "        if plc.div[idx] == 1 and self.cell[plc.i[idx]][plc.j[idx]+p] == \" \":\n",
    "            # Upper\n",
    "            if plc.i[idx] > 0 and self.cell[plc.i[idx]-1][plc.j[idx]+p] != \" \":\n",
    "                return False\n",
    "            # Lower\n",
    "            if plc.i[idx] < self.height-1 and self.cell[plc.i[idx]+1][plc.j[idx]+p] != \" \":\n",
    "                return False\n",
    "\n",
    "    # If the preceding and succeeding cells are already filled\n",
    "    if plc.div[idx] == 0:\n",
    "        if plc.i[idx] > 0 and self.cell[plc.i[idx]-1][plc.j[idx]] != \" \":\n",
    "            return False\n",
    "        if plc.i[idx]+wLen < self.height and self.cell[plc.i[idx]+wLen][plc.j[idx]] != \" \":\n",
    "            return False\n",
    "    if plc.div[idx] == 1:\n",
    "        if plc.j[idx] > 0 and self.cell[plc.i[idx]][plc.j[idx]-1] != \" \":\n",
    "            return False\n",
    "        if plc.j[idx]+wLen < self.width and self.cell[plc.i[idx]][plc.j[idx]+wLen] != \" \":\n",
    "            return False\n",
    "    \n",
    "    # If Break through the all barrier, return True\n",
    "    return True\n",
    "\n",
    "# Set attribute to Puzzle class\n",
    "setattr(Puzzle, \"isEnabledAdd\", isEnabledAdd)"
   ]
  },
  {
   "cell_type": "markdown",
   "metadata": {},
   "source": [
    "次に、所望の単語をパズルに配置する`add`メソッドを定義する："
   ]
  },
  {
   "cell_type": "code",
   "execution_count": null,
   "metadata": {
    "collapsed": false
   },
   "outputs": [],
   "source": [
    "### add\n",
    "def add(self, plc, idx):\n",
    "    # Get the word length\n",
    "    wLen = len(plc.dic.data[plc.k[idx]])\n",
    "\n",
    "    # Judge whether adding is enabled\n",
    "    if self.isEnabledAdd(plc, idx, wLen) == False:\n",
    "        return\n",
    "    \n",
    "    # Put the word to puzzle\n",
    "    if plc.div[idx] == 0:\n",
    "        for p in range(wLen):\n",
    "            self.cell[plc.i[idx]+p][plc.j[idx]] = plc.dic.data[plc.k[idx]][p]\n",
    "    if plc.div[idx] == 1:\n",
    "        for p in range(wLen):\n",
    "            self.cell[plc.i[idx]][plc.j[idx]+p] = plc.dic.data[plc.k[idx]][p]\n",
    "\n",
    "    # Set the prohibited cell before and after placed word\n",
    "    if plc.div[idx] == 0:\n",
    "        if plc.i[idx] > 0:\n",
    "            self.enable[plc.i[idx]-1][plc.j[idx]] = False\n",
    "        if plc.i[idx]+wLen < self.height:\n",
    "            self.enable[plc.i[idx]+wLen][plc.j[idx]] = False\n",
    "    if plc.div[idx] == 1:\n",
    "        if plc.j[idx] > 0:\n",
    "            self.enable[plc.i[idx]][plc.j[idx]-1] = False\n",
    "        if plc.j[idx]+wLen < self.width:\n",
    "            self.enable[plc.i[idx]][plc.j[idx]+wLen] = False\n",
    "    \n",
    "    # Update cover array\n",
    "    if plc.div[idx] == 0:\n",
    "        for p in range(wLen):\n",
    "            self.cover[plc.i[idx]+p][plc.j[idx]] += 1\n",
    "    if plc.div[idx] == 1:\n",
    "        for p in range(wLen):\n",
    "            self.cover[plc.i[idx]][plc.j[idx]+p] += 1\n",
    "    \n",
    "    # Update properties\n",
    "    plc.used[idx] = True\n",
    "    plc.used_idx[self.solSize] = idx\n",
    "    self.solSize += 1\n",
    "    return\n",
    "# Set attribute to Puzzle class  \n",
    "setattr(Puzzle, \"add\", add)"
   ]
  },
  {
   "cell_type": "markdown",
   "metadata": {},
   "source": [
    "さあ、`add`メソッドが定義できたので、早速パズルを生成してみましょう。\n",
    "`puzzle`オブジェクトで`add`メソッドを呼びます。\n",
    "ただし、引数は`placeable`配列からランダムに与えます："
   ]
  },
  {
   "cell_type": "code",
   "execution_count": null,
   "metadata": {
    "collapsed": false,
    "scrolled": true
   },
   "outputs": [],
   "source": [
    "solSizeTmp = -1\n",
    "while puzzle.solSize != solSizeTmp:\n",
    "    solSizeTmp = puzzle.solSize\n",
    "    for t in range(placeable.size):\n",
    "        puzzle.add(placeable, randomIndex[t])\n",
    "\n",
    "puzzle.sol = puzzle.cell"
   ]
  },
  {
   "cell_type": "markdown",
   "metadata": {},
   "source": [
    "結果が気になりますよね。\n",
    "結果を確認するための`show`メソッドを定義します："
   ]
  },
  {
   "cell_type": "code",
   "execution_count": null,
   "metadata": {
    "collapsed": false
   },
   "outputs": [],
   "source": [
    "def show(self, ndarray):    \n",
    "    styles = [\n",
    "        dict(selector=\"th\", props=[(\"font-size\", \"90%\"),\n",
    "                                   (\"text-align\", \"center\"),\n",
    "                                   (\"color\", \"#ffffff\"),\n",
    "                                   (\"background\", \"#777777\"),\n",
    "                                   (\"border\", \"solid 1px white\"),\n",
    "                                   (\"width\", \"30px\"),\n",
    "                                   (\"height\", \"30px\")]),\n",
    "        dict(selector=\"td\", props=[(\"font-size\", \"105%\"),\n",
    "                                   (\"text-align\", \"center\"),\n",
    "                                   (\"color\", \"#161616\"),\n",
    "                                   (\"background\", \"#dddddd\"),\n",
    "                                   (\"border\", \"solid 1px white\"),\n",
    "                                   (\"width\", \"30px\"),\n",
    "                                   (\"height\", \"30px\")]),\n",
    "        dict(selector=\"caption\", props=[(\"caption-side\", \"bottom\")])\n",
    "    ]\n",
    "    df = pd.DataFrame(ndarray)\n",
    "    df.to_clipboard()\n",
    "    df = (df.style.set_table_styles(styles)\n",
    "          .set_caption(\"Puzzle(%d,%d), Seed:%d, solSize:%d Dictionary:[%s]\" % (self.width, self.height, randomSeed, self.solSize, fpath)))\n",
    "    return df\n",
    "setattr(Puzzle, \"show\", show)"
   ]
  },
  {
   "cell_type": "markdown",
   "metadata": {},
   "source": [
    "早速使ってみましょう。見たい結果を`show`メソッドの引数として与えます。\n",
    "ここでは`puzzle.cell`を見てみます(`puzzle.cover`や`puzzle.enable`も可能)："
   ]
  },
  {
   "cell_type": "code",
   "execution_count": null,
   "metadata": {
    "collapsed": false,
    "scrolled": true
   },
   "outputs": [],
   "source": [
    "puzzle.show(puzzle.cell)"
   ]
  },
  {
   "cell_type": "markdown",
   "metadata": {},
   "source": [
    "まだ改善の余地がありますが、一つの島で繋がったパズルが出来上がっていますね。ちなみに、`show`メソッドを呼ぶと自動的にクリップボードに保存されるようになるので、結果をすぐに誰かと共有したい場合はそれをペーストするだけでできます。\n",
    "\n",
    "***\n",
    "\n",
    "## 解を改善する"
   ]
  },
  {
   "cell_type": "code",
   "execution_count": null,
   "metadata": {
    "collapsed": true
   },
   "outputs": [],
   "source": []
  }
 ],
 "metadata": {
  "kernelspec": {
   "display_name": "Python 3",
   "language": "python",
   "name": "python3"
  },
  "language_info": {
   "codemirror_mode": {
    "name": "ipython",
    "version": 3
   },
   "file_extension": ".py",
   "mimetype": "text/x-python",
   "name": "python",
   "nbconvert_exporter": "python",
   "pygments_lexer": "ipython3",
   "version": "3.6.0"
  }
 },
 "nbformat": 4,
 "nbformat_minor": 2
}
